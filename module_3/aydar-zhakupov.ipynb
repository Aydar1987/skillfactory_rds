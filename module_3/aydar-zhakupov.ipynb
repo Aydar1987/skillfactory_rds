{
 "cells": [
  {
   "cell_type": "markdown",
   "metadata": {},
   "source": [
    "# Проект о вкусной и здоровой пище\n",
    "## [DST-33] Restaurant rating prediction"
   ]
  },
  {
   "cell_type": "markdown",
   "metadata": {},
   "source": [
    "# import"
   ]
  },
  {
   "cell_type": "code",
   "execution_count": 1,
   "metadata": {
    "_cell_guid": "b1076dfc-b9ad-4769-8c92-a6c4dae69d19",
    "_uuid": "8f2839f25d086af736a60e9eeb907d3b93b6e0e5"
   },
   "outputs": [],
   "source": [
    "# This Python 3 environment comes with many helpful analytics libraries installed\n",
    "# It is defined by the kaggle/python docker image: https://github.com/kaggle/docker-python\n",
    "# For example, here's several helpful packages to load in \n",
    "\n",
    "import numpy as np # linear algebra\n",
    "import pandas as pd # data processing, CSV file I/O (e.g. pd.read_csv)\n",
    "\n",
    "import matplotlib.pyplot as plt\n",
    "import seaborn as sns \n",
    "%matplotlib inline\n",
    "\n",
    "# Загружаем специальный удобный инструмент для разделения датасета:\n",
    "from sklearn.model_selection import train_test_split\n",
    "\n",
    "# Input data files are available in the \"../input/\" directory.\n",
    "# For example, running this (by clicking run or pressing Shift+Enter) will list all files under the input directory\n",
    "\n",
    "import re \n",
    "\n",
    "import os\n",
    "\n",
    "# Any results you write to the current directory are saved as output.\n",
    "\n",
    "from datetime import datetime, timedelta"
   ]
  },
  {
   "cell_type": "code",
   "execution_count": 2,
   "metadata": {},
   "outputs": [],
   "source": [
    "# всегда фиксируйте RANDOM_SEED, чтобы ваши эксперименты были воспроизводимы!\n",
    "RANDOM_SEED = 42"
   ]
  },
  {
   "cell_type": "markdown",
   "metadata": {},
   "source": [
    "## Списки и функции, которые используются дальше"
   ]
  },
  {
   "cell_type": "code",
   "execution_count": 3,
   "metadata": {},
   "outputs": [],
   "source": [
    "cities = ['Paris', 'Stockholm', 'London', 'Berlin', 'Munich', 'Oporto', 'Milan', 'Bratislava', 'Vienna', 'Rome', 'Barcelona', 'Madrid',\n",
    " 'Dublin', 'Brussels', 'Zurich', 'Warsaw', 'Budapest', 'Copenhagen', 'Amsterdam', 'Lyon', 'Hamburg', 'Lisbon', 'Prague', 'Oslo',\n",
    " 'Helsinki', 'Edinburgh', 'Geneva', 'Ljubljana', 'Athens', 'Luxembourg', 'Krakow']  \n",
    "\n",
    "turisty = {'Paris': 16.8, 'Stockholm': 2.6, 'London': 20.7, 'Berlin': 5.8, 'Munich': 4.0, 'Oporto': 2.4, 'Milan': 6.5,\n",
    "           'Bratislava': 1.6, 'Vienna': 6.3, 'Rome': 9.7, 'Barcelona': 6.7, 'Madrid': 5.5, 'Dublin': 5.2, 'Brussels':3.1, \n",
    "           'Zurich': 1,'Warsaw': 2.9, 'Budapest': 4.0, 'Copenhagen': 3.0, 'Amsterdam': 8.5, 'Lyon': 1, 'Hamburg': 2.1, \n",
    "           'Lisbon': 3.8,'Prague': 9.0, 'Oslo': 1,  'Helsinki': 1.2 , 'Edinburgh': 1.1, 'Geneva': 1, 'Ljubljana': 0.8, \n",
    "           'Athens': 5.1, 'Luxembourg': 0.9, 'Krakow': 2.9}\n",
    "\n",
    "zhitely = { 'Paris': 2.2, 'Helsinki': 0.63, 'Edinburgh': 0.48, 'London': 9.0, 'Bratislava': 0.42, 'Lisbon': 0.50,\n",
    "    'Budapest': 0.18, 'Stockholm': 0.79, 'Rome': 2.9, 'Milan': 1.35, 'Munich': 1.47, 'Hamburg': 1.84, 'Prague': 1.31,\n",
    "    'Vienna': 1.9, 'Dublin': 0.54, 'Barcelona': 1.62, 'Brussels': 0.17, 'Madrid': 3.2, 'Oslo': 0.63, 'Amsterdam': 0.87,\n",
    "    'Berlin': 3.6, 'Lyon': 0.51, 'Athens': 0.66, 'Warsaw': 1.76, 'Oporto': 0.21, 'Krakow': 0.77, 'Copenhagen': 0.60,\n",
    "    'Luxembourg': 0.11, 'Zurich': 0.40, 'Geneva': 0.20, 'Ljubljana': 0.28 }\n",
    "def ceny(stroka):\n",
    "    if stroka == '$':\n",
    "        return 1\n",
    "    if stroka == '$$ - $$$':\n",
    "        return 2\n",
    "    if stroka == '$$$$':\n",
    "        return 3\n",
    "\n",
    "def tourism(city):\n",
    "    return turisty[city]\n",
    "       \n",
    "def max_Rank(city):\n",
    "    return slovar_gorodov[city]\n",
    "\n",
    "def max_Review(city):\n",
    "    return slovar_gorodov[city]\n",
    "\n",
    "bad_words = ['bad','avoid','disaster','ripoff','rip off','amful','worst','terrible','horrible','nightmare','poison','rude','rubbish',\n",
    "            'burnt', 'refund','overprice', 'don\\'t', 'racism', 'not great', 'trap', 'over price','disappoint','garbage','unpleasant',\n",
    "            'poor','skip','soggy','warning','unhygienic', 'hostile','revolting','disgraceful','mediocre']\n",
    "good_words = ['gem','excellent','yummi','nice','delicous','love','best','wonderful','fantas','enjoylable','tasty','cozy','great food',\n",
    "             'perfect','very good']\n",
    "def ploho(stroka):\n",
    "    a=0\n",
    "    for slovo in bad_words:\n",
    "        if slovo in stroka.lower():\n",
    "            a-=1\n",
    "    for slovo in good_words:\n",
    "        if slovo in stroka.lower():\n",
    "            a+=1\n",
    "    return a\n",
    "\n",
    "def spisok_to_str(spisok):\n",
    "    return str(spisok)[1:-1]\n",
    "\n",
    "def kuhni_preobr(spisok):\n",
    "    vozv_spisok = []\n",
    "    for i in range(len(spisok)):\n",
    "        if spisok[i] in stroka_kuhon:\n",
    "            vozv_spisok.append(spisok[i])\n",
    "        elif 'Ostalnoe' not in spisok:\n",
    "            vozv_spisok.append('Ostalnoe')\n",
    "    return vozv_spisok\n",
    "\n",
    "def sortirovka_restoranov(a):\n",
    "    if a == 1:\n",
    "        return 0 # уникальные рестораны\n",
    "    elif a<5:\n",
    "        return 1 # мелкие сети\n",
    "    else:\n",
    "        return 2 #крупные сети"
   ]
  },
  {
   "cell_type": "markdown",
   "metadata": {},
   "source": [
    "# DATA"
   ]
  },
  {
   "cell_type": "code",
   "execution_count": 4,
   "metadata": {
    "_cell_guid": "79c7e3d0-c299-4dcb-8224-4455121ee9b0",
    "_uuid": "d629ff2d2480ee46fbb7e2d37f6b5fab8052498a"
   },
   "outputs": [],
   "source": [
    "df_train = pd.read_csv('main_task.csv')\n",
    "df_test = pd.read_csv('kaggle_task.csv')"
   ]
  },
  {
   "cell_type": "code",
   "execution_count": 5,
   "metadata": {},
   "outputs": [
    {
     "name": "stdout",
     "output_type": "stream",
     "text": [
      "<class 'pandas.core.frame.DataFrame'>\n",
      "RangeIndex: 40000 entries, 0 to 39999\n",
      "Data columns (total 10 columns):\n",
      " #   Column             Non-Null Count  Dtype  \n",
      "---  ------             --------------  -----  \n",
      " 0   Restaurant_id      40000 non-null  object \n",
      " 1   City               40000 non-null  object \n",
      " 2   Cuisine Style      30717 non-null  object \n",
      " 3   Ranking            40000 non-null  float64\n",
      " 4   Rating             40000 non-null  float64\n",
      " 5   Price Range        26114 non-null  object \n",
      " 6   Number of Reviews  37457 non-null  float64\n",
      " 7   Reviews            40000 non-null  object \n",
      " 8   URL_TA             40000 non-null  object \n",
      " 9   ID_TA              40000 non-null  object \n",
      "dtypes: float64(3), object(7)\n",
      "memory usage: 3.1+ MB\n"
     ]
    }
   ],
   "source": [
    "df_train.info()"
   ]
  },
  {
   "cell_type": "code",
   "execution_count": 6,
   "metadata": {},
   "outputs": [
    {
     "data": {
      "text/html": [
       "<div>\n",
       "<style scoped>\n",
       "    .dataframe tbody tr th:only-of-type {\n",
       "        vertical-align: middle;\n",
       "    }\n",
       "\n",
       "    .dataframe tbody tr th {\n",
       "        vertical-align: top;\n",
       "    }\n",
       "\n",
       "    .dataframe thead th {\n",
       "        text-align: right;\n",
       "    }\n",
       "</style>\n",
       "<table border=\"1\" class=\"dataframe\">\n",
       "  <thead>\n",
       "    <tr style=\"text-align: right;\">\n",
       "      <th></th>\n",
       "      <th>Restaurant_id</th>\n",
       "      <th>City</th>\n",
       "      <th>Cuisine Style</th>\n",
       "      <th>Ranking</th>\n",
       "      <th>Rating</th>\n",
       "      <th>Price Range</th>\n",
       "      <th>Number of Reviews</th>\n",
       "      <th>Reviews</th>\n",
       "      <th>URL_TA</th>\n",
       "      <th>ID_TA</th>\n",
       "    </tr>\n",
       "  </thead>\n",
       "  <tbody>\n",
       "    <tr>\n",
       "      <th>0</th>\n",
       "      <td>id_5569</td>\n",
       "      <td>Paris</td>\n",
       "      <td>['European', 'French', 'International']</td>\n",
       "      <td>5570.0</td>\n",
       "      <td>3.5</td>\n",
       "      <td>$$ - $$$</td>\n",
       "      <td>194.0</td>\n",
       "      <td>[['Good food at your doorstep', 'A good hotel ...</td>\n",
       "      <td>/Restaurant_Review-g187147-d1912643-Reviews-R_...</td>\n",
       "      <td>d1912643</td>\n",
       "    </tr>\n",
       "    <tr>\n",
       "      <th>1</th>\n",
       "      <td>id_1535</td>\n",
       "      <td>Stockholm</td>\n",
       "      <td>NaN</td>\n",
       "      <td>1537.0</td>\n",
       "      <td>4.0</td>\n",
       "      <td>NaN</td>\n",
       "      <td>10.0</td>\n",
       "      <td>[['Unique cuisine', 'Delicious Nepalese food']...</td>\n",
       "      <td>/Restaurant_Review-g189852-d7992032-Reviews-Bu...</td>\n",
       "      <td>d7992032</td>\n",
       "    </tr>\n",
       "    <tr>\n",
       "      <th>2</th>\n",
       "      <td>id_352</td>\n",
       "      <td>London</td>\n",
       "      <td>['Japanese', 'Sushi', 'Asian', 'Grill', 'Veget...</td>\n",
       "      <td>353.0</td>\n",
       "      <td>4.5</td>\n",
       "      <td>$$$$</td>\n",
       "      <td>688.0</td>\n",
       "      <td>[['Catch up with friends', 'Not exceptional'],...</td>\n",
       "      <td>/Restaurant_Review-g186338-d8632781-Reviews-RO...</td>\n",
       "      <td>d8632781</td>\n",
       "    </tr>\n",
       "    <tr>\n",
       "      <th>3</th>\n",
       "      <td>id_3456</td>\n",
       "      <td>Berlin</td>\n",
       "      <td>NaN</td>\n",
       "      <td>3458.0</td>\n",
       "      <td>5.0</td>\n",
       "      <td>NaN</td>\n",
       "      <td>3.0</td>\n",
       "      <td>[[], []]</td>\n",
       "      <td>/Restaurant_Review-g187323-d1358776-Reviews-Es...</td>\n",
       "      <td>d1358776</td>\n",
       "    </tr>\n",
       "    <tr>\n",
       "      <th>4</th>\n",
       "      <td>id_615</td>\n",
       "      <td>Munich</td>\n",
       "      <td>['German', 'Central European', 'Vegetarian Fri...</td>\n",
       "      <td>621.0</td>\n",
       "      <td>4.0</td>\n",
       "      <td>$$ - $$$</td>\n",
       "      <td>84.0</td>\n",
       "      <td>[['Best place to try a Bavarian food', 'Nice b...</td>\n",
       "      <td>/Restaurant_Review-g187309-d6864963-Reviews-Au...</td>\n",
       "      <td>d6864963</td>\n",
       "    </tr>\n",
       "  </tbody>\n",
       "</table>\n",
       "</div>"
      ],
      "text/plain": [
       "  Restaurant_id       City                                      Cuisine Style  \\\n",
       "0       id_5569      Paris            ['European', 'French', 'International']   \n",
       "1       id_1535  Stockholm                                                NaN   \n",
       "2        id_352     London  ['Japanese', 'Sushi', 'Asian', 'Grill', 'Veget...   \n",
       "3       id_3456     Berlin                                                NaN   \n",
       "4        id_615     Munich  ['German', 'Central European', 'Vegetarian Fri...   \n",
       "\n",
       "   Ranking  Rating Price Range  Number of Reviews  \\\n",
       "0   5570.0     3.5    $$ - $$$              194.0   \n",
       "1   1537.0     4.0         NaN               10.0   \n",
       "2    353.0     4.5        $$$$              688.0   \n",
       "3   3458.0     5.0         NaN                3.0   \n",
       "4    621.0     4.0    $$ - $$$               84.0   \n",
       "\n",
       "                                             Reviews  \\\n",
       "0  [['Good food at your doorstep', 'A good hotel ...   \n",
       "1  [['Unique cuisine', 'Delicious Nepalese food']...   \n",
       "2  [['Catch up with friends', 'Not exceptional'],...   \n",
       "3                                           [[], []]   \n",
       "4  [['Best place to try a Bavarian food', 'Nice b...   \n",
       "\n",
       "                                              URL_TA     ID_TA  \n",
       "0  /Restaurant_Review-g187147-d1912643-Reviews-R_...  d1912643  \n",
       "1  /Restaurant_Review-g189852-d7992032-Reviews-Bu...  d7992032  \n",
       "2  /Restaurant_Review-g186338-d8632781-Reviews-RO...  d8632781  \n",
       "3  /Restaurant_Review-g187323-d1358776-Reviews-Es...  d1358776  \n",
       "4  /Restaurant_Review-g187309-d6864963-Reviews-Au...  d6864963  "
      ]
     },
     "execution_count": 6,
     "metadata": {},
     "output_type": "execute_result"
    }
   ],
   "source": [
    "df_train.head(5)"
   ]
  },
  {
   "cell_type": "code",
   "execution_count": 7,
   "metadata": {},
   "outputs": [
    {
     "name": "stdout",
     "output_type": "stream",
     "text": [
      "<class 'pandas.core.frame.DataFrame'>\n",
      "RangeIndex: 10000 entries, 0 to 9999\n",
      "Data columns (total 9 columns):\n",
      " #   Column             Non-Null Count  Dtype  \n",
      "---  ------             --------------  -----  \n",
      " 0   Restaurant_id      10000 non-null  object \n",
      " 1   City               10000 non-null  object \n",
      " 2   Cuisine Style      7693 non-null   object \n",
      " 3   Ranking            10000 non-null  float64\n",
      " 4   Price Range        6525 non-null   object \n",
      " 5   Number of Reviews  9343 non-null   float64\n",
      " 6   Reviews            9998 non-null   object \n",
      " 7   URL_TA             10000 non-null  object \n",
      " 8   ID_TA              10000 non-null  object \n",
      "dtypes: float64(2), object(7)\n",
      "memory usage: 703.2+ KB\n"
     ]
    }
   ],
   "source": [
    "df_test.info()"
   ]
  },
  {
   "cell_type": "code",
   "execution_count": 8,
   "metadata": {},
   "outputs": [
    {
     "data": {
      "text/html": [
       "<div>\n",
       "<style scoped>\n",
       "    .dataframe tbody tr th:only-of-type {\n",
       "        vertical-align: middle;\n",
       "    }\n",
       "\n",
       "    .dataframe tbody tr th {\n",
       "        vertical-align: top;\n",
       "    }\n",
       "\n",
       "    .dataframe thead th {\n",
       "        text-align: right;\n",
       "    }\n",
       "</style>\n",
       "<table border=\"1\" class=\"dataframe\">\n",
       "  <thead>\n",
       "    <tr style=\"text-align: right;\">\n",
       "      <th></th>\n",
       "      <th>Restaurant_id</th>\n",
       "      <th>City</th>\n",
       "      <th>Cuisine Style</th>\n",
       "      <th>Ranking</th>\n",
       "      <th>Price Range</th>\n",
       "      <th>Number of Reviews</th>\n",
       "      <th>Reviews</th>\n",
       "      <th>URL_TA</th>\n",
       "      <th>ID_TA</th>\n",
       "    </tr>\n",
       "  </thead>\n",
       "  <tbody>\n",
       "    <tr>\n",
       "      <th>0</th>\n",
       "      <td>id_0</td>\n",
       "      <td>Paris</td>\n",
       "      <td>['Bar', 'Pub']</td>\n",
       "      <td>12963.0</td>\n",
       "      <td>$$ - $$$</td>\n",
       "      <td>4.0</td>\n",
       "      <td>[[], []]</td>\n",
       "      <td>/Restaurant_Review-g187147-d10746918-Reviews-L...</td>\n",
       "      <td>d10746918</td>\n",
       "    </tr>\n",
       "    <tr>\n",
       "      <th>1</th>\n",
       "      <td>id_1</td>\n",
       "      <td>Helsinki</td>\n",
       "      <td>['European', 'Scandinavian', 'Gluten Free Opti...</td>\n",
       "      <td>106.0</td>\n",
       "      <td>$$ - $$$</td>\n",
       "      <td>97.0</td>\n",
       "      <td>[['Very good reviews!', 'Fine dining in Hakani...</td>\n",
       "      <td>/Restaurant_Review-g189934-d6674944-Reviews-Ra...</td>\n",
       "      <td>d6674944</td>\n",
       "    </tr>\n",
       "    <tr>\n",
       "      <th>2</th>\n",
       "      <td>id_2</td>\n",
       "      <td>Edinburgh</td>\n",
       "      <td>['Vegetarian Friendly']</td>\n",
       "      <td>810.0</td>\n",
       "      <td>$$ - $$$</td>\n",
       "      <td>28.0</td>\n",
       "      <td>[['Better than the Links', 'Ivy Black'], ['12/...</td>\n",
       "      <td>/Restaurant_Review-g186525-d13129638-Reviews-B...</td>\n",
       "      <td>d13129638</td>\n",
       "    </tr>\n",
       "    <tr>\n",
       "      <th>3</th>\n",
       "      <td>id_3</td>\n",
       "      <td>London</td>\n",
       "      <td>['Italian', 'Mediterranean', 'European', 'Vege...</td>\n",
       "      <td>1669.0</td>\n",
       "      <td>$$$$</td>\n",
       "      <td>202.0</td>\n",
       "      <td>[['Most exquisite', 'Delicious and authentic']...</td>\n",
       "      <td>/Restaurant_Review-g186338-d680417-Reviews-Qui...</td>\n",
       "      <td>d680417</td>\n",
       "    </tr>\n",
       "    <tr>\n",
       "      <th>4</th>\n",
       "      <td>id_4</td>\n",
       "      <td>Bratislava</td>\n",
       "      <td>['Italian', 'Mediterranean', 'European', 'Seaf...</td>\n",
       "      <td>37.0</td>\n",
       "      <td>$$$$</td>\n",
       "      <td>162.0</td>\n",
       "      <td>[['Always the best in bratislava', 'Very good ...</td>\n",
       "      <td>/Restaurant_Review-g274924-d1112354-Reviews-Ma...</td>\n",
       "      <td>d1112354</td>\n",
       "    </tr>\n",
       "  </tbody>\n",
       "</table>\n",
       "</div>"
      ],
      "text/plain": [
       "  Restaurant_id        City  \\\n",
       "0          id_0       Paris   \n",
       "1          id_1    Helsinki   \n",
       "2          id_2   Edinburgh   \n",
       "3          id_3      London   \n",
       "4          id_4  Bratislava   \n",
       "\n",
       "                                       Cuisine Style  Ranking Price Range  \\\n",
       "0                                     ['Bar', 'Pub']  12963.0    $$ - $$$   \n",
       "1  ['European', 'Scandinavian', 'Gluten Free Opti...    106.0    $$ - $$$   \n",
       "2                            ['Vegetarian Friendly']    810.0    $$ - $$$   \n",
       "3  ['Italian', 'Mediterranean', 'European', 'Vege...   1669.0        $$$$   \n",
       "4  ['Italian', 'Mediterranean', 'European', 'Seaf...     37.0        $$$$   \n",
       "\n",
       "   Number of Reviews                                            Reviews  \\\n",
       "0                4.0                                           [[], []]   \n",
       "1               97.0  [['Very good reviews!', 'Fine dining in Hakani...   \n",
       "2               28.0  [['Better than the Links', 'Ivy Black'], ['12/...   \n",
       "3              202.0  [['Most exquisite', 'Delicious and authentic']...   \n",
       "4              162.0  [['Always the best in bratislava', 'Very good ...   \n",
       "\n",
       "                                              URL_TA      ID_TA  \n",
       "0  /Restaurant_Review-g187147-d10746918-Reviews-L...  d10746918  \n",
       "1  /Restaurant_Review-g189934-d6674944-Reviews-Ra...   d6674944  \n",
       "2  /Restaurant_Review-g186525-d13129638-Reviews-B...  d13129638  \n",
       "3  /Restaurant_Review-g186338-d680417-Reviews-Qui...    d680417  \n",
       "4  /Restaurant_Review-g274924-d1112354-Reviews-Ma...   d1112354  "
      ]
     },
     "execution_count": 8,
     "metadata": {},
     "output_type": "execute_result"
    }
   ],
   "source": [
    "df_test.head(5)"
   ]
  },
  {
   "cell_type": "code",
   "execution_count": 9,
   "metadata": {},
   "outputs": [],
   "source": [
    "# ВАЖНО! дря корректной обработки признаков объединяем трейн и тест в один датасет\n",
    "df_train['sample'] = 1 # помечаем где у нас трейн\n",
    "df_test['sample'] = 0 # помечаем где у нас тест\n",
    "df_test['Rating'] = 0 # в тесте у нас нет значения Rating, мы его должны предсказать, по этому пока просто заполняем нулями\n",
    "\n",
    "df = df_test.append(df_train, sort=False).reset_index(drop=True) # объединяем"
   ]
  },
  {
   "cell_type": "code",
   "execution_count": 10,
   "metadata": {},
   "outputs": [
    {
     "name": "stdout",
     "output_type": "stream",
     "text": [
      "<class 'pandas.core.frame.DataFrame'>\n",
      "RangeIndex: 50000 entries, 0 to 49999\n",
      "Data columns (total 11 columns):\n",
      " #   Column             Non-Null Count  Dtype  \n",
      "---  ------             --------------  -----  \n",
      " 0   Restaurant_id      50000 non-null  object \n",
      " 1   City               50000 non-null  object \n",
      " 2   Cuisine Style      38410 non-null  object \n",
      " 3   Ranking            50000 non-null  float64\n",
      " 4   Price Range        32639 non-null  object \n",
      " 5   Number of Reviews  46800 non-null  float64\n",
      " 6   Reviews            49998 non-null  object \n",
      " 7   URL_TA             50000 non-null  object \n",
      " 8   ID_TA              50000 non-null  object \n",
      " 9   sample             50000 non-null  int64  \n",
      " 10  Rating             50000 non-null  float64\n",
      "dtypes: float64(3), int64(1), object(7)\n",
      "memory usage: 4.2+ MB\n"
     ]
    }
   ],
   "source": [
    "df.info()"
   ]
  },
  {
   "cell_type": "markdown",
   "metadata": {},
   "source": [
    "Подробнее по признакам:\n",
    "* City: Город \n",
    "* Cuisine Style: Кухня\n",
    "* Ranking: Ранг ресторана относительно других ресторанов в этом городе\n",
    "* Price Range: Цены в ресторане в 3 категориях\n",
    "* Number of Reviews: Количество отзывов\n",
    "* Reviews: 2 последних отзыва и даты этих отзывов\n",
    "* URL_TA: страница ресторана на 'www.tripadvisor.com' \n",
    "* ID_TA: ID ресторана в TripAdvisor\n",
    "* Rating: Рейтинг ресторана\n",
    "* Restaurant_id: ID ресторана"
   ]
  },
  {
   "cell_type": "code",
   "execution_count": 11,
   "metadata": {},
   "outputs": [
    {
     "data": {
      "text/html": [
       "<div>\n",
       "<style scoped>\n",
       "    .dataframe tbody tr th:only-of-type {\n",
       "        vertical-align: middle;\n",
       "    }\n",
       "\n",
       "    .dataframe tbody tr th {\n",
       "        vertical-align: top;\n",
       "    }\n",
       "\n",
       "    .dataframe thead th {\n",
       "        text-align: right;\n",
       "    }\n",
       "</style>\n",
       "<table border=\"1\" class=\"dataframe\">\n",
       "  <thead>\n",
       "    <tr style=\"text-align: right;\">\n",
       "      <th></th>\n",
       "      <th>Restaurant_id</th>\n",
       "      <th>City</th>\n",
       "      <th>Cuisine Style</th>\n",
       "      <th>Ranking</th>\n",
       "      <th>Price Range</th>\n",
       "      <th>Number of Reviews</th>\n",
       "      <th>Reviews</th>\n",
       "      <th>URL_TA</th>\n",
       "      <th>ID_TA</th>\n",
       "      <th>sample</th>\n",
       "      <th>Rating</th>\n",
       "    </tr>\n",
       "  </thead>\n",
       "  <tbody>\n",
       "    <tr>\n",
       "      <th>42387</th>\n",
       "      <td>id_1545</td>\n",
       "      <td>Lyon</td>\n",
       "      <td>NaN</td>\n",
       "      <td>1546.0</td>\n",
       "      <td>NaN</td>\n",
       "      <td>13.0</td>\n",
       "      <td>[['A delicious first meal in Lyon'], ['12/21/2...</td>\n",
       "      <td>/Restaurant_Review-g187265-d5981654-Reviews-Vi...</td>\n",
       "      <td>d5981654</td>\n",
       "      <td>1</td>\n",
       "      <td>4.5</td>\n",
       "    </tr>\n",
       "    <tr>\n",
       "      <th>22877</th>\n",
       "      <td>id_2530</td>\n",
       "      <td>Berlin</td>\n",
       "      <td>['Mediterranean', 'Turkish', 'Vegetarian Frien...</td>\n",
       "      <td>2532.0</td>\n",
       "      <td>$</td>\n",
       "      <td>6.0</td>\n",
       "      <td>[['Great Turkish Breakfast', 'Cheap, fresh and...</td>\n",
       "      <td>/Restaurant_Review-g187323-d10497827-Reviews-P...</td>\n",
       "      <td>d10497827</td>\n",
       "      <td>1</td>\n",
       "      <td>5.0</td>\n",
       "    </tr>\n",
       "    <tr>\n",
       "      <th>41004</th>\n",
       "      <td>id_1961</td>\n",
       "      <td>Lyon</td>\n",
       "      <td>['Mexican']</td>\n",
       "      <td>2007.0</td>\n",
       "      <td>NaN</td>\n",
       "      <td>2.0</td>\n",
       "      <td>[[], []]</td>\n",
       "      <td>/Restaurant_Review-g1080938-d5808701-Reviews-G...</td>\n",
       "      <td>d5808701</td>\n",
       "      <td>1</td>\n",
       "      <td>4.0</td>\n",
       "    </tr>\n",
       "    <tr>\n",
       "      <th>44768</th>\n",
       "      <td>id_648</td>\n",
       "      <td>London</td>\n",
       "      <td>['European', 'British', 'Vegetarian Friendly',...</td>\n",
       "      <td>649.0</td>\n",
       "      <td>$$$$</td>\n",
       "      <td>1836.0</td>\n",
       "      <td>[['Totally Unique', 'Lunch Boxing Day sales'],...</td>\n",
       "      <td>/Restaurant_Review-g186338-d5264070-Reviews-Be...</td>\n",
       "      <td>d5264070</td>\n",
       "      <td>1</td>\n",
       "      <td>4.0</td>\n",
       "    </tr>\n",
       "    <tr>\n",
       "      <th>31201</th>\n",
       "      <td>id_3674</td>\n",
       "      <td>Rome</td>\n",
       "      <td>['Brew Pub', 'Bar', 'Delicatessen', 'Pub', 'Wi...</td>\n",
       "      <td>3675.0</td>\n",
       "      <td>$</td>\n",
       "      <td>8.0</td>\n",
       "      <td>[[], []]</td>\n",
       "      <td>/Restaurant_Review-g187791-d12708319-Reviews-R...</td>\n",
       "      <td>d12708319</td>\n",
       "      <td>1</td>\n",
       "      <td>5.0</td>\n",
       "    </tr>\n",
       "  </tbody>\n",
       "</table>\n",
       "</div>"
      ],
      "text/plain": [
       "      Restaurant_id    City  \\\n",
       "42387       id_1545    Lyon   \n",
       "22877       id_2530  Berlin   \n",
       "41004       id_1961    Lyon   \n",
       "44768        id_648  London   \n",
       "31201       id_3674    Rome   \n",
       "\n",
       "                                           Cuisine Style  Ranking Price Range  \\\n",
       "42387                                                NaN   1546.0         NaN   \n",
       "22877  ['Mediterranean', 'Turkish', 'Vegetarian Frien...   2532.0           $   \n",
       "41004                                        ['Mexican']   2007.0         NaN   \n",
       "44768  ['European', 'British', 'Vegetarian Friendly',...    649.0        $$$$   \n",
       "31201  ['Brew Pub', 'Bar', 'Delicatessen', 'Pub', 'Wi...   3675.0           $   \n",
       "\n",
       "       Number of Reviews                                            Reviews  \\\n",
       "42387               13.0  [['A delicious first meal in Lyon'], ['12/21/2...   \n",
       "22877                6.0  [['Great Turkish Breakfast', 'Cheap, fresh and...   \n",
       "41004                2.0                                           [[], []]   \n",
       "44768             1836.0  [['Totally Unique', 'Lunch Boxing Day sales'],...   \n",
       "31201                8.0                                           [[], []]   \n",
       "\n",
       "                                                  URL_TA      ID_TA  sample  \\\n",
       "42387  /Restaurant_Review-g187265-d5981654-Reviews-Vi...   d5981654       1   \n",
       "22877  /Restaurant_Review-g187323-d10497827-Reviews-P...  d10497827       1   \n",
       "41004  /Restaurant_Review-g1080938-d5808701-Reviews-G...   d5808701       1   \n",
       "44768  /Restaurant_Review-g186338-d5264070-Reviews-Be...   d5264070       1   \n",
       "31201  /Restaurant_Review-g187791-d12708319-Reviews-R...  d12708319       1   \n",
       "\n",
       "       Rating  \n",
       "42387     4.5  \n",
       "22877     5.0  \n",
       "41004     4.0  \n",
       "44768     4.0  \n",
       "31201     5.0  "
      ]
     },
     "execution_count": 11,
     "metadata": {},
     "output_type": "execute_result"
    }
   ],
   "source": [
    "df.sample(5)"
   ]
  },
  {
   "cell_type": "code",
   "execution_count": 12,
   "metadata": {},
   "outputs": [
    {
     "data": {
      "text/plain": [
       "\"[['Very good reviews!', 'Fine dining in Hakaniemi'], ['12/05/2017', '10/29/2017']]\""
      ]
     },
     "execution_count": 12,
     "metadata": {},
     "output_type": "execute_result"
    }
   ],
   "source": [
    "df.Reviews[1]"
   ]
  },
  {
   "cell_type": "markdown",
   "metadata": {},
   "source": [
    "Как видим, большинство признаков у нас требует очистки и предварительной обработки."
   ]
  },
  {
   "cell_type": "markdown",
   "metadata": {},
   "source": [
    "# Очистка данных\n"
   ]
  },
  {
   "cell_type": "markdown",
   "metadata": {},
   "source": [
    "## Обработка NAN "
   ]
  },
  {
   "cell_type": "code",
   "execution_count": 13,
   "metadata": {},
   "outputs": [
    {
     "data": {
      "text/plain": [
       "$$ - $$$    23041\n",
       "$            7816\n",
       "$$$$         1782\n",
       "Name: Price Range, dtype: int64"
      ]
     },
     "execution_count": 13,
     "metadata": {},
     "output_type": "execute_result"
    }
   ],
   "source": [
    "df['Price Range'].value_counts()"
   ]
  },
  {
   "cell_type": "markdown",
   "metadata": {},
   "source": [
    "Уровень цен по умолчанию сделаем средним, т.к. таких ресторанов больше всего и создадим новый признак: \"Уровень цен\""
   ]
  },
  {
   "cell_type": "code",
   "execution_count": 14,
   "metadata": {},
   "outputs": [],
   "source": [
    "df['Uroven_cen'] = df['Price Range'].fillna('$$ - $$$')\n",
    "df['Uroven_cen'] = df['Uroven_cen'].replace('', '$$ - $$$')"
   ]
  },
  {
   "cell_type": "markdown",
   "metadata": {},
   "source": [
    "Если стиль кухни неизвестен, так и назовем \"Неизвестное\""
   ]
  },
  {
   "cell_type": "code",
   "execution_count": 15,
   "metadata": {},
   "outputs": [],
   "source": [
    "df['Cuisine Style'] = df['Cuisine Style'].fillna(\" Neizvestnoe \")"
   ]
  },
  {
   "cell_type": "code",
   "execution_count": 16,
   "metadata": {},
   "outputs": [
    {
     "data": {
      "text/plain": [
       "2.0"
      ]
     },
     "execution_count": 16,
     "metadata": {},
     "output_type": "execute_result"
    }
   ],
   "source": [
    "df['Number of Reviews'].min()"
   ]
  },
  {
   "cell_type": "markdown",
   "metadata": {},
   "source": [
    "Если нет количества отзывов, будем считать, что их 2 - минимальное количество отзывов"
   ]
  },
  {
   "cell_type": "code",
   "execution_count": 17,
   "metadata": {},
   "outputs": [],
   "source": [
    "df['Number of Reviews'] = df['Number of Reviews'].fillna(2)"
   ]
  },
  {
   "cell_type": "code",
   "execution_count": 18,
   "metadata": {},
   "outputs": [],
   "source": [
    "df['Reviews'] = df['Reviews'].str.replace(\"\\[]\", \"04/25/2017\") \n",
    "# Заменяем пропуски на самое старое значение публикации отзыва\n",
    "df['Reviews'] = df['Reviews'].fillna(\"04/25/2017\") "
   ]
  },
  {
   "cell_type": "markdown",
   "metadata": {},
   "source": [
    "Сделаем признак \"Уровень цен\" порядковым"
   ]
  },
  {
   "cell_type": "code",
   "execution_count": 19,
   "metadata": {},
   "outputs": [],
   "source": [
    "df['Uroven_cen'] = df['Uroven_cen'].apply(ceny)"
   ]
  },
  {
   "cell_type": "markdown",
   "metadata": {},
   "source": [
    "Создадим словари городов:"
   ]
  },
  {
   "cell_type": "code",
   "execution_count": 20,
   "metadata": {},
   "outputs": [],
   "source": [
    "slovar_gorodov = {}\n",
    "for city in cities:\n",
    "    slovar_gorodov[city] = df[df['City']==city]['Ranking'].max()\n",
    "\n",
    "slovar_gorodov_rew = {}\n",
    "for city in cities:\n",
    "    slovar_gorodov_rew[city] = df[df['City']==city]['Number of Reviews'].max()"
   ]
  },
  {
   "cell_type": "markdown",
   "metadata": {},
   "source": [
    "# EDA \n",
    "[Exploratory Data Analysis](https://ru.wikipedia.org/wiki/Разведочный_анализ_данных) - Анализ данных\n",
    "На этом этапе мы строим графики, ищем закономерности, аномалии, выбросы или связи между признаками.\n",
    "В общем цель этого этапа понять, что эти данные могут нам дать и как признаки могут быть взаимосвязаны между собой.\n",
    "Понимание изначальных признаков позволит сгенерировать новые, более сильные и, тем самым, сделать нашу модель лучше.\n",
    "![](https://miro.medium.com/max/2598/1*RXdMb7Uk6mGqWqPguHULaQ.png)"
   ]
  },
  {
   "cell_type": "markdown",
   "metadata": {},
   "source": [
    "Создадим новый признак: \"Всего кухонь\", посчитав, сколько видов кухонь в ресторане"
   ]
  },
  {
   "cell_type": "code",
   "execution_count": 21,
   "metadata": {},
   "outputs": [],
   "source": [
    "df['Cuisine Style'] = df['Cuisine Style'].apply(lambda stroka: stroka[1:-1])\n",
    "df['Cuisine Style'] = df['Cuisine Style'].apply(lambda s: s.split(', '))\n",
    "df['Vsego_kuhon'] = df['Cuisine Style'].apply(lambda s: len(s))"
   ]
  },
  {
   "cell_type": "code",
   "execution_count": 22,
   "metadata": {},
   "outputs": [
    {
     "data": {
      "text/plain": [
       "126"
      ]
     },
     "execution_count": 22,
     "metadata": {},
     "output_type": "execute_result"
    }
   ],
   "source": [
    "df_temp = df.explode('Cuisine Style')\n",
    "len(df_temp['Cuisine Style'].value_counts()) # Всего кухонь 126"
   ]
  },
  {
   "cell_type": "markdown",
   "metadata": {},
   "source": [
    "Т.к. видов кухонь много, не будем создавать dummy-переменные из всех видов кухонь, выделим только основные, а оставшиеся назовем \"Остальное\""
   ]
  },
  {
   "cell_type": "code",
   "execution_count": 23,
   "metadata": {},
   "outputs": [],
   "source": [
    "kuhni = df_temp['Cuisine Style'].value_counts()\n",
    "kuhni[kuhni>1000].sum()\n",
    "kuhni[kuhni>1000].index # 80% всех кухонь\n",
    "stroka_kuhon = str(kuhni[kuhni>1000].index)\n",
    "df['kuhni'] = df['Cuisine Style'].apply(kuhni_preobr)\n",
    "df['kuhni'] = df['kuhni'].apply(spisok_to_str)"
   ]
  },
  {
   "cell_type": "markdown",
   "metadata": {},
   "source": [
    "Создадим новые признаки: даты отзывов и разница между датами публикаций отзывов"
   ]
  },
  {
   "cell_type": "code",
   "execution_count": 24,
   "metadata": {},
   "outputs": [],
   "source": [
    "pattern = re.compile('\\d+\\S\\d+\\S\\d+') # Создаем паттерн для поиска дат\n",
    "df['daty'] = df['Reviews'].apply(lambda s: pattern.findall(s)) # создаем новый столбец с датами из столбца Reviews\n"
   ]
  },
  {
   "cell_type": "code",
   "execution_count": 25,
   "metadata": {},
   "outputs": [],
   "source": [
    "df['first_date'] = df['daty'].apply(lambda spisok: spisok[-2] if len(spisok)>=2 else spisok[0] )\n",
    "# создаем столбец с датой последнего отзыва \n",
    "df['second_date'] = df['daty'].apply(lambda spisok: spisok[-1] if len(spisok)>=2 else \"04/25/2017\")\n",
    "# Создаем столбец с датой предыдущего отзыва\n",
    "df['first_norm_data'] = df['first_date'].apply(lambda stroka: datetime.strptime(stroka, '%m/%d/%Y'))\n",
    "df['second_norm_data'] = df['second_date'].apply(lambda stroka: datetime.strptime(stroka, '%m/%d/%Y'))\n",
    "# переводим столбцы с датами в формат дат\n",
    "df['raznica'] = df['first_norm_data']-df['second_norm_data']\n",
    "df['raznica'] = df.raznica.dt.days # считаем разницу между публикацией отзывов\n",
    "df['raznica_posl'] = (df['first_norm_data'].max() - df['first_norm_data']).dt.days"
   ]
  },
  {
   "cell_type": "markdown",
   "metadata": {},
   "source": [
    "Создаем признак, обрабатывая текст отзывов с помощью функции из предобработки"
   ]
  },
  {
   "cell_type": "code",
   "execution_count": 26,
   "metadata": {},
   "outputs": [],
   "source": [
    "df['text'] = df['Reviews'].apply(ploho)"
   ]
  },
  {
   "cell_type": "markdown",
   "metadata": {},
   "source": [
    "Создадим новый признак, записав в него сколько максимальное количество ресторанов в городе, он нам понадобится для создания нескольких признаков дальше"
   ]
  },
  {
   "cell_type": "code",
   "execution_count": 27,
   "metadata": {},
   "outputs": [],
   "source": [
    "df['Rank_max'] = df['City'].apply(max_Rank) \n",
    "# делаем столбец в котором содержится сколько всего ресторанов в городе"
   ]
  },
  {
   "cell_type": "markdown",
   "metadata": {},
   "source": [
    "Создадим новые признаки: количество жителей и туристов на один ресторан"
   ]
  },
  {
   "cell_type": "code",
   "execution_count": 28,
   "metadata": {},
   "outputs": [],
   "source": [
    "df['turisty'] = df['City'].apply(tourism)\n",
    "df['turist_per rest'] = df['turisty'] / df['Rank_max']\n",
    "df['zhiteli'] = df['City'].map(zhitely)\n",
    "df['zhiteli_per_rest'] = df['zhiteli'] / df['Rank_max']"
   ]
  },
  {
   "cell_type": "markdown",
   "metadata": {},
   "source": [
    "Создадим новый признак, распределив рестораны на уникальные, мелкий сети и крупные сети"
   ]
  },
  {
   "cell_type": "code",
   "execution_count": 29,
   "metadata": {},
   "outputs": [],
   "source": [
    "id_restoranov = dict(df['Restaurant_id'].value_counts()) \n",
    "# создаем словарь, в котором ключи - ID ресторанов,а значения - количество ресторанов с этим ID\n",
    "df['Restaurant_id'] = df['Restaurant_id'].map(id_restoranov).apply(sortirovka_restoranov) \n",
    "#делим все рестораны на три категории"
   ]
  },
  {
   "cell_type": "markdown",
   "metadata": {},
   "source": [
    "у меня получилось, что модель считает, что лучше этот признак оставить последовательным, а не делать dummy-переменные"
   ]
  },
  {
   "cell_type": "markdown",
   "metadata": {},
   "source": [
    "### Посмотрим распределение признака"
   ]
  },
  {
   "cell_type": "code",
   "execution_count": 30,
   "metadata": {},
   "outputs": [
    {
     "data": {
      "text/plain": [
       "<matplotlib.axes._subplots.AxesSubplot at 0x10ed41c0>"
      ]
     },
     "execution_count": 30,
     "metadata": {},
     "output_type": "execute_result"
    },
    {
     "data": {
      "image/png": "[encoded data removed]",
      "text/plain": [
       "<Figure size 720x504 with 1 Axes>"
      ]
     },
     "metadata": {
      "needs_background": "light"
     },
     "output_type": "display_data"
    }
   ],
   "source": [
    "plt.rcParams['figure.figsize'] = (10,7)\n",
    "df_train['Ranking'].hist(bins=100)"
   ]
  },
  {
   "cell_type": "markdown",
   "metadata": {},
   "source": [
    "У нас много ресторанов, которые не дотягивают и до 2500 места в своем городе, а что там по городам?"
   ]
  },
  {
   "cell_type": "code",
   "execution_count": 31,
   "metadata": {},
   "outputs": [
    {
     "data": {
      "text/plain": [
       "<matplotlib.axes._subplots.AxesSubplot at 0xccd9640>"
      ]
     },
     "execution_count": 31,
     "metadata": {},
     "output_type": "execute_result"
    },
    {
     "data": {
      "image/png": "[encoded data removed]",
      "text/plain": [
       "<Figure size 720x504 with 1 Axes>"
      ]
     },
     "metadata": {
      "needs_background": "light"
     },
     "output_type": "display_data"
    }
   ],
   "source": [
    "df_train['City'].value_counts(ascending=True).plot(kind='barh')"
   ]
  },
  {
   "cell_type": "markdown",
   "metadata": {},
   "source": [
    "А кто-то говорил, что французы любят поесть=) Посмотрим, как изменится распределение в большом городе:"
   ]
  },
  {
   "cell_type": "code",
   "execution_count": 32,
   "metadata": {},
   "outputs": [
    {
     "data": {
      "text/plain": [
       "<matplotlib.axes._subplots.AxesSubplot at 0x12278b20>"
      ]
     },
     "execution_count": 32,
     "metadata": {},
     "output_type": "execute_result"
    },
    {
     "data": {
      "image/png": "[encoded data removed]",
      "text/plain": [
       "<Figure size 720x504 with 1 Axes>"
      ]
     },
     "metadata": {
      "needs_background": "light"
     },
     "output_type": "display_data"
    }
   ],
   "source": [
    "df_train['Ranking'][df_train['City'] =='London'].hist(bins=100)"
   ]
  },
  {
   "cell_type": "code",
   "execution_count": 33,
   "metadata": {},
   "outputs": [
    {
     "data": {
      "image/png": "[encoded data removed]",
      "text/plain": [
       "<Figure size 720x504 with 1 Axes>"
      ]
     },
     "metadata": {
      "needs_background": "light"
     },
     "output_type": "display_data"
    }
   ],
   "source": [
    "# посмотрим на топ 10 городов\n",
    "for x in (df_train['City'].value_counts())[0:10].index:\n",
    "    df_train['Ranking'][df_train['City'] == x].hist(bins=100)\n",
    "plt.show()"
   ]
  },
  {
   "cell_type": "markdown",
   "metadata": {},
   "source": [
    "Создаем признак, \"нормализовав\" место ресторана в городе"
   ]
  },
  {
   "cell_type": "code",
   "execution_count": 34,
   "metadata": {},
   "outputs": [],
   "source": [
    "df['norm_gorod'] = df['Ranking'] / df['Rank_max'] # Делим место города на количество ресторанов в городе"
   ]
  },
  {
   "cell_type": "markdown",
   "metadata": {},
   "source": [
    "### Посмотрим распределение целевой переменной"
   ]
  },
  {
   "cell_type": "code",
   "execution_count": 35,
   "metadata": {},
   "outputs": [
    {
     "data": {
      "text/plain": [
       "<matplotlib.axes._subplots.AxesSubplot at 0x122a0f70>"
      ]
     },
     "execution_count": 35,
     "metadata": {},
     "output_type": "execute_result"
    },
    {
     "data": {
      "image/png": "[encoded data removed]",
      "text/plain": [
       "<Figure size 720x504 with 1 Axes>"
      ]
     },
     "metadata": {
      "needs_background": "light"
     },
     "output_type": "display_data"
    }
   ],
   "source": [
    "df_train['Rating'].value_counts(ascending=True).plot(kind='barh')"
   ]
  },
  {
   "cell_type": "markdown",
   "metadata": {},
   "source": [
    "### Посмотрим распределение целевой переменной относительно признака"
   ]
  },
  {
   "cell_type": "code",
   "execution_count": 36,
   "metadata": {},
   "outputs": [
    {
     "data": {
      "text/plain": [
       "<matplotlib.axes._subplots.AxesSubplot at 0x12e92e20>"
      ]
     },
     "execution_count": 36,
     "metadata": {},
     "output_type": "execute_result"
    },
    {
     "data": {
      "image/png": "[encoded data removed]",
      "text/plain": [
       "<Figure size 720x504 with 1 Axes>"
      ]
     },
     "metadata": {
      "needs_background": "light"
     },
     "output_type": "display_data"
    }
   ],
   "source": [
    "df_train['Ranking'][df_train['Rating'] == 5].hist(bins=100)"
   ]
  },
  {
   "cell_type": "code",
   "execution_count": 37,
   "metadata": {},
   "outputs": [
    {
     "data": {
      "text/plain": [
       "<matplotlib.axes._subplots.AxesSubplot at 0x12d5fb20>"
      ]
     },
     "execution_count": 37,
     "metadata": {},
     "output_type": "execute_result"
    },
    {
     "data": {
      "image/png": "[encoded data removed]",
      "text/plain": [
       "<Figure size 720x504 with 1 Axes>"
      ]
     },
     "metadata": {
      "needs_background": "light"
     },
     "output_type": "display_data"
    }
   ],
   "source": [
    "df_train['Ranking'][df_train['Rating'] < 4].hist(bins=100)"
   ]
  },
  {
   "cell_type": "markdown",
   "metadata": {},
   "source": [
    "### корреляция признаков"
   ]
  },
  {
   "cell_type": "code",
   "execution_count": 38,
   "metadata": {},
   "outputs": [
    {
     "data": {
      "text/plain": [
       "<matplotlib.axes._subplots.AxesSubplot at 0xccd9310>"
      ]
     },
     "execution_count": 38,
     "metadata": {},
     "output_type": "execute_result"
    },
    {
     "data": {
      "image/png": "[encoded data removed]",
      "text/plain": [
       "<Figure size 1080x720 with 2 Axes>"
      ]
     },
     "metadata": {
      "needs_background": "light"
     },
     "output_type": "display_data"
    }
   ],
   "source": [
    "plt.rcParams['figure.figsize'] = (15,10)\n",
    "sns.heatmap(df.drop(['sample'], axis=1).corr(),)"
   ]
  },
  {
   "cell_type": "markdown",
   "metadata": {},
   "source": [
    "# Dummy-переменные"
   ]
  },
  {
   "cell_type": "markdown",
   "metadata": {},
   "source": [
    "Создадим dummy-переменные из оставшихся видов кухонь"
   ]
  },
  {
   "cell_type": "code",
   "execution_count": 39,
   "metadata": {},
   "outputs": [],
   "source": [
    "vidy_kuhon = df['kuhni'].str.get_dummies(', ')\n",
    "df = pd.concat([df, vidy_kuhon], axis=1)"
   ]
  },
  {
   "cell_type": "markdown",
   "metadata": {},
   "source": [
    "# Data Preprocessing"
   ]
  },
  {
   "cell_type": "code",
   "execution_count": 40,
   "metadata": {},
   "outputs": [],
   "source": [
    "df.drop(['City', 'Cuisine Style','Price Range','Reviews','URL_TA','ID_TA','first_date', 'kuhni', 'second_date',\n",
    "           'daty','first_norm_data','second_norm_data', 'Rank_max','turisty','zhiteli'], axis=1, inplace=True, errors='ignore')"
   ]
  },
  {
   "cell_type": "code",
   "execution_count": 41,
   "metadata": {},
   "outputs": [
    {
     "name": "stdout",
     "output_type": "stream",
     "text": [
      "<class 'pandas.core.frame.DataFrame'>\n",
      "RangeIndex: 50000 entries, 0 to 49999\n",
      "Data columns (total 39 columns):\n",
      " #   Column                   Non-Null Count  Dtype  \n",
      "---  ------                   --------------  -----  \n",
      " 0   Restaurant_id            50000 non-null  int64  \n",
      " 1   Ranking                  50000 non-null  float64\n",
      " 2   Number of Reviews        50000 non-null  float64\n",
      " 3   sample                   50000 non-null  int64  \n",
      " 4   Rating                   50000 non-null  float64\n",
      " 5   Uroven_cen               50000 non-null  int64  \n",
      " 6   Vsego_kuhon              50000 non-null  int64  \n",
      " 7   raznica                  50000 non-null  int64  \n",
      " 8   raznica_posl             50000 non-null  int64  \n",
      " 9   text                     50000 non-null  int64  \n",
      " 10  turist_per rest          50000 non-null  float64\n",
      " 11  zhiteli_per_rest         50000 non-null  float64\n",
      " 12  norm_gorod               50000 non-null  float64\n",
      " 13  \"'American'\"             50000 non-null  int64  \n",
      " 14  \"'Asian'\"                50000 non-null  int64  \n",
      " 15  \"'Bar'\"                  50000 non-null  int64  \n",
      " 16  \"'British'\"              50000 non-null  int64  \n",
      " 17  \"'Cafe'\"                 50000 non-null  int64  \n",
      " 18  \"'Central European'\"     50000 non-null  int64  \n",
      " 19  \"'Chinese'\"              50000 non-null  int64  \n",
      " 20  \"'European'\"             50000 non-null  int64  \n",
      " 21  \"'Fast Food'\"            50000 non-null  int64  \n",
      " 22  \"'French'\"               50000 non-null  int64  \n",
      " 23  \"'Gluten Free Options'\"  50000 non-null  int64  \n",
      " 24  \"'Indian'\"               50000 non-null  int64  \n",
      " 25  \"'International'\"        50000 non-null  int64  \n",
      " 26  \"'Italian'\"              50000 non-null  int64  \n",
      " 27  \"'Japanese'\"             50000 non-null  int64  \n",
      " 28  \"'Mediterranean'\"        50000 non-null  int64  \n",
      " 29  \"'Pizza'\"                50000 non-null  int64  \n",
      " 30  \"'Portuguese'\"           50000 non-null  int64  \n",
      " 31  \"'Pub'\"                  50000 non-null  int64  \n",
      " 32  \"'Seafood'\"              50000 non-null  int64  \n",
      " 33  \"'Spanish'\"              50000 non-null  int64  \n",
      " 34  \"'Sushi'\"                50000 non-null  int64  \n",
      " 35  \"'Vegan Options'\"        50000 non-null  int64  \n",
      " 36  \"'Vegetarian Friendly'\"  50000 non-null  int64  \n",
      " 37  'Neizvestnoe'            50000 non-null  int64  \n",
      " 38  'Ostalnoe'               50000 non-null  int64  \n",
      "dtypes: float64(6), int64(33)\n",
      "memory usage: 14.9 MB\n"
     ]
    }
   ],
   "source": [
    "df.info()"
   ]
  },
  {
   "cell_type": "code",
   "execution_count": 42,
   "metadata": {},
   "outputs": [
    {
     "data": {
      "text/html": [
       "<div>\n",
       "<style scoped>\n",
       "    .dataframe tbody tr th:only-of-type {\n",
       "        vertical-align: middle;\n",
       "    }\n",
       "\n",
       "    .dataframe tbody tr th {\n",
       "        vertical-align: top;\n",
       "    }\n",
       "\n",
       "    .dataframe thead th {\n",
       "        text-align: right;\n",
       "    }\n",
       "</style>\n",
       "<table border=\"1\" class=\"dataframe\">\n",
       "  <thead>\n",
       "    <tr style=\"text-align: right;\">\n",
       "      <th></th>\n",
       "      <th>Restaurant_id</th>\n",
       "      <th>Ranking</th>\n",
       "      <th>Number of Reviews</th>\n",
       "      <th>sample</th>\n",
       "      <th>Rating</th>\n",
       "      <th>Uroven_cen</th>\n",
       "      <th>Vsego_kuhon</th>\n",
       "      <th>raznica</th>\n",
       "      <th>raznica_posl</th>\n",
       "      <th>text</th>\n",
       "      <th>...</th>\n",
       "      <th>\"'Pizza'\"</th>\n",
       "      <th>\"'Portuguese'\"</th>\n",
       "      <th>\"'Pub'\"</th>\n",
       "      <th>\"'Seafood'\"</th>\n",
       "      <th>\"'Spanish'\"</th>\n",
       "      <th>\"'Sushi'\"</th>\n",
       "      <th>\"'Vegan Options'\"</th>\n",
       "      <th>\"'Vegetarian Friendly'\"</th>\n",
       "      <th>'Neizvestnoe'</th>\n",
       "      <th>'Ostalnoe'</th>\n",
       "    </tr>\n",
       "  </thead>\n",
       "  <tbody>\n",
       "    <tr>\n",
       "      <th>Restaurant_id</th>\n",
       "      <td>1.000000</td>\n",
       "      <td>-0.665311</td>\n",
       "      <td>0.128607</td>\n",
       "      <td>0.228320</td>\n",
       "      <td>0.304113</td>\n",
       "      <td>0.015425</td>\n",
       "      <td>0.189105</td>\n",
       "      <td>0.011252</td>\n",
       "      <td>-0.112805</td>\n",
       "      <td>0.112899</td>\n",
       "      <td>...</td>\n",
       "      <td>0.028755</td>\n",
       "      <td>0.054971</td>\n",
       "      <td>0.002458</td>\n",
       "      <td>0.046350</td>\n",
       "      <td>0.008097</td>\n",
       "      <td>0.003713</td>\n",
       "      <td>0.122014</td>\n",
       "      <td>0.176026</td>\n",
       "      <td>-0.086889</td>\n",
       "      <td>0.105399</td>\n",
       "    </tr>\n",
       "    <tr>\n",
       "      <th>Ranking</th>\n",
       "      <td>-0.665311</td>\n",
       "      <td>1.000000</td>\n",
       "      <td>-0.223077</td>\n",
       "      <td>0.006271</td>\n",
       "      <td>-0.109897</td>\n",
       "      <td>-0.026334</td>\n",
       "      <td>-0.322408</td>\n",
       "      <td>-0.009251</td>\n",
       "      <td>0.186595</td>\n",
       "      <td>-0.186507</td>\n",
       "      <td>...</td>\n",
       "      <td>-0.039910</td>\n",
       "      <td>-0.087233</td>\n",
       "      <td>-0.011064</td>\n",
       "      <td>-0.075019</td>\n",
       "      <td>-0.017153</td>\n",
       "      <td>-0.016536</td>\n",
       "      <td>-0.216514</td>\n",
       "      <td>-0.299214</td>\n",
       "      <td>0.150058</td>\n",
       "      <td>-0.170735</td>\n",
       "    </tr>\n",
       "    <tr>\n",
       "      <th>Number of Reviews</th>\n",
       "      <td>0.128607</td>\n",
       "      <td>-0.223077</td>\n",
       "      <td>1.000000</td>\n",
       "      <td>0.002683</td>\n",
       "      <td>0.011006</td>\n",
       "      <td>0.107821</td>\n",
       "      <td>0.409218</td>\n",
       "      <td>-0.008773</td>\n",
       "      <td>-0.203274</td>\n",
       "      <td>0.091027</td>\n",
       "      <td>...</td>\n",
       "      <td>0.067548</td>\n",
       "      <td>0.029854</td>\n",
       "      <td>0.002245</td>\n",
       "      <td>0.129134</td>\n",
       "      <td>0.052394</td>\n",
       "      <td>0.006650</td>\n",
       "      <td>0.323157</td>\n",
       "      <td>0.365970</td>\n",
       "      <td>-0.201299</td>\n",
       "      <td>0.098521</td>\n",
       "    </tr>\n",
       "    <tr>\n",
       "      <th>sample</th>\n",
       "      <td>0.228320</td>\n",
       "      <td>0.006271</td>\n",
       "      <td>0.002683</td>\n",
       "      <td>1.000000</td>\n",
       "      <td>0.936543</td>\n",
       "      <td>-0.003419</td>\n",
       "      <td>-0.003202</td>\n",
       "      <td>-0.000134</td>\n",
       "      <td>-0.003907</td>\n",
       "      <td>-0.003428</td>\n",
       "      <td>...</td>\n",
       "      <td>0.009286</td>\n",
       "      <td>-0.000305</td>\n",
       "      <td>0.000543</td>\n",
       "      <td>0.000684</td>\n",
       "      <td>0.006544</td>\n",
       "      <td>-0.001192</td>\n",
       "      <td>-0.009640</td>\n",
       "      <td>-0.003094</td>\n",
       "      <td>0.001303</td>\n",
       "      <td>-0.005373</td>\n",
       "    </tr>\n",
       "    <tr>\n",
       "      <th>Rating</th>\n",
       "      <td>0.304113</td>\n",
       "      <td>-0.109897</td>\n",
       "      <td>0.011006</td>\n",
       "      <td>0.936543</td>\n",
       "      <td>1.000000</td>\n",
       "      <td>-0.012176</td>\n",
       "      <td>0.034506</td>\n",
       "      <td>0.000702</td>\n",
       "      <td>-0.032546</td>\n",
       "      <td>0.073738</td>\n",
       "      <td>...</td>\n",
       "      <td>-0.001764</td>\n",
       "      <td>0.006840</td>\n",
       "      <td>0.002297</td>\n",
       "      <td>0.004679</td>\n",
       "      <td>-0.002147</td>\n",
       "      <td>-0.007682</td>\n",
       "      <td>0.029015</td>\n",
       "      <td>0.037317</td>\n",
       "      <td>-0.010781</td>\n",
       "      <td>0.025677</td>\n",
       "    </tr>\n",
       "    <tr>\n",
       "      <th>Uroven_cen</th>\n",
       "      <td>0.015425</td>\n",
       "      <td>-0.026334</td>\n",
       "      <td>0.107821</td>\n",
       "      <td>-0.003419</td>\n",
       "      <td>-0.012176</td>\n",
       "      <td>1.000000</td>\n",
       "      <td>0.002816</td>\n",
       "      <td>-0.024830</td>\n",
       "      <td>0.015277</td>\n",
       "      <td>-0.004042</td>\n",
       "      <td>...</td>\n",
       "      <td>-0.083239</td>\n",
       "      <td>-0.046254</td>\n",
       "      <td>-0.048543</td>\n",
       "      <td>0.065094</td>\n",
       "      <td>0.007876</td>\n",
       "      <td>0.028294</td>\n",
       "      <td>-0.009134</td>\n",
       "      <td>0.016919</td>\n",
       "      <td>0.157392</td>\n",
       "      <td>-0.070438</td>\n",
       "    </tr>\n",
       "    <tr>\n",
       "      <th>Vsego_kuhon</th>\n",
       "      <td>0.189105</td>\n",
       "      <td>-0.322408</td>\n",
       "      <td>0.409218</td>\n",
       "      <td>-0.003202</td>\n",
       "      <td>0.034506</td>\n",
       "      <td>0.002816</td>\n",
       "      <td>1.000000</td>\n",
       "      <td>0.006683</td>\n",
       "      <td>-0.331398</td>\n",
       "      <td>0.176568</td>\n",
       "      <td>...</td>\n",
       "      <td>0.172933</td>\n",
       "      <td>0.067744</td>\n",
       "      <td>0.206041</td>\n",
       "      <td>0.182103</td>\n",
       "      <td>0.089345</td>\n",
       "      <td>0.106461</td>\n",
       "      <td>0.557174</td>\n",
       "      <td>0.691530</td>\n",
       "      <td>-0.489476</td>\n",
       "      <td>0.452011</td>\n",
       "    </tr>\n",
       "    <tr>\n",
       "      <th>raznica</th>\n",
       "      <td>0.011252</td>\n",
       "      <td>-0.009251</td>\n",
       "      <td>-0.008773</td>\n",
       "      <td>-0.000134</td>\n",
       "      <td>0.000702</td>\n",
       "      <td>-0.024830</td>\n",
       "      <td>0.006683</td>\n",
       "      <td>1.000000</td>\n",
       "      <td>-0.451194</td>\n",
       "      <td>0.051883</td>\n",
       "      <td>...</td>\n",
       "      <td>0.003314</td>\n",
       "      <td>0.004780</td>\n",
       "      <td>0.000561</td>\n",
       "      <td>0.012270</td>\n",
       "      <td>-0.000107</td>\n",
       "      <td>0.017867</td>\n",
       "      <td>-0.011139</td>\n",
       "      <td>-0.004256</td>\n",
       "      <td>-0.046971</td>\n",
       "      <td>0.018589</td>\n",
       "    </tr>\n",
       "    <tr>\n",
       "      <th>raznica_posl</th>\n",
       "      <td>-0.112805</td>\n",
       "      <td>0.186595</td>\n",
       "      <td>-0.203274</td>\n",
       "      <td>-0.003907</td>\n",
       "      <td>-0.032546</td>\n",
       "      <td>0.015277</td>\n",
       "      <td>-0.331398</td>\n",
       "      <td>-0.451194</td>\n",
       "      <td>1.000000</td>\n",
       "      <td>-0.081062</td>\n",
       "      <td>...</td>\n",
       "      <td>-0.031643</td>\n",
       "      <td>-0.038851</td>\n",
       "      <td>-0.072187</td>\n",
       "      <td>-0.046386</td>\n",
       "      <td>-0.006647</td>\n",
       "      <td>0.001066</td>\n",
       "      <td>-0.197724</td>\n",
       "      <td>-0.302132</td>\n",
       "      <td>0.155707</td>\n",
       "      <td>-0.112538</td>\n",
       "    </tr>\n",
       "    <tr>\n",
       "      <th>text</th>\n",
       "      <td>0.112899</td>\n",
       "      <td>-0.186507</td>\n",
       "      <td>0.091027</td>\n",
       "      <td>-0.003428</td>\n",
       "      <td>0.073738</td>\n",
       "      <td>-0.004042</td>\n",
       "      <td>0.176568</td>\n",
       "      <td>0.051883</td>\n",
       "      <td>-0.081062</td>\n",
       "      <td>1.000000</td>\n",
       "      <td>...</td>\n",
       "      <td>0.017706</td>\n",
       "      <td>0.014783</td>\n",
       "      <td>0.005197</td>\n",
       "      <td>0.033498</td>\n",
       "      <td>0.010344</td>\n",
       "      <td>0.002708</td>\n",
       "      <td>0.120149</td>\n",
       "      <td>0.180794</td>\n",
       "      <td>-0.114778</td>\n",
       "      <td>0.075011</td>\n",
       "    </tr>\n",
       "    <tr>\n",
       "      <th>turist_per rest</th>\n",
       "      <td>0.094441</td>\n",
       "      <td>-0.138489</td>\n",
       "      <td>0.038866</td>\n",
       "      <td>-0.002175</td>\n",
       "      <td>0.028222</td>\n",
       "      <td>-0.050405</td>\n",
       "      <td>0.124992</td>\n",
       "      <td>0.010077</td>\n",
       "      <td>-0.061319</td>\n",
       "      <td>0.051617</td>\n",
       "      <td>...</td>\n",
       "      <td>0.036718</td>\n",
       "      <td>-0.019356</td>\n",
       "      <td>0.074281</td>\n",
       "      <td>0.011443</td>\n",
       "      <td>-0.214897</td>\n",
       "      <td>-0.008190</td>\n",
       "      <td>0.048449</td>\n",
       "      <td>0.069004</td>\n",
       "      <td>-0.081985</td>\n",
       "      <td>0.174331</td>\n",
       "    </tr>\n",
       "    <tr>\n",
       "      <th>zhiteli_per_rest</th>\n",
       "      <td>-0.044784</td>\n",
       "      <td>0.064753</td>\n",
       "      <td>-0.018375</td>\n",
       "      <td>-0.001856</td>\n",
       "      <td>0.012909</td>\n",
       "      <td>-0.011865</td>\n",
       "      <td>0.041667</td>\n",
       "      <td>0.004850</td>\n",
       "      <td>-0.020160</td>\n",
       "      <td>0.022134</td>\n",
       "      <td>...</td>\n",
       "      <td>0.034238</td>\n",
       "      <td>-0.168176</td>\n",
       "      <td>0.040994</td>\n",
       "      <td>0.006258</td>\n",
       "      <td>-0.076752</td>\n",
       "      <td>0.015819</td>\n",
       "      <td>0.044956</td>\n",
       "      <td>0.076745</td>\n",
       "      <td>0.019109</td>\n",
       "      <td>0.049266</td>\n",
       "    </tr>\n",
       "    <tr>\n",
       "      <th>norm_gorod</th>\n",
       "      <td>-0.351213</td>\n",
       "      <td>0.570506</td>\n",
       "      <td>-0.407168</td>\n",
       "      <td>0.001995</td>\n",
       "      <td>-0.168783</td>\n",
       "      <td>-0.044051</td>\n",
       "      <td>-0.543578</td>\n",
       "      <td>-0.030357</td>\n",
       "      <td>0.359891</td>\n",
       "      <td>-0.310393</td>\n",
       "      <td>...</td>\n",
       "      <td>-0.035247</td>\n",
       "      <td>-0.032198</td>\n",
       "      <td>-0.045781</td>\n",
       "      <td>-0.115268</td>\n",
       "      <td>-0.066575</td>\n",
       "      <td>-0.020264</td>\n",
       "      <td>-0.390011</td>\n",
       "      <td>-0.550901</td>\n",
       "      <td>0.326699</td>\n",
       "      <td>-0.200544</td>\n",
       "    </tr>\n",
       "    <tr>\n",
       "      <th>\"'American'\"</th>\n",
       "      <td>-0.001830</td>\n",
       "      <td>-0.008211</td>\n",
       "      <td>0.046894</td>\n",
       "      <td>0.000393</td>\n",
       "      <td>-0.008012</td>\n",
       "      <td>-0.063905</td>\n",
       "      <td>0.091686</td>\n",
       "      <td>-0.001221</td>\n",
       "      <td>-0.050086</td>\n",
       "      <td>-0.010994</td>\n",
       "      <td>...</td>\n",
       "      <td>-0.027265</td>\n",
       "      <td>-0.026999</td>\n",
       "      <td>0.047571</td>\n",
       "      <td>-0.023417</td>\n",
       "      <td>-0.026764</td>\n",
       "      <td>-0.029170</td>\n",
       "      <td>0.004008</td>\n",
       "      <td>0.020623</td>\n",
       "      <td>-0.101221</td>\n",
       "      <td>0.046424</td>\n",
       "    </tr>\n",
       "    <tr>\n",
       "      <th>\"'Asian'\"</th>\n",
       "      <td>0.001063</td>\n",
       "      <td>-0.005595</td>\n",
       "      <td>0.029347</td>\n",
       "      <td>-0.003364</td>\n",
       "      <td>-0.004504</td>\n",
       "      <td>-0.024251</td>\n",
       "      <td>0.196731</td>\n",
       "      <td>0.019024</td>\n",
       "      <td>-0.082980</td>\n",
       "      <td>0.034033</td>\n",
       "      <td>...</td>\n",
       "      <td>-0.077365</td>\n",
       "      <td>-0.046468</td>\n",
       "      <td>-0.065482</td>\n",
       "      <td>0.003896</td>\n",
       "      <td>-0.067264</td>\n",
       "      <td>0.337532</td>\n",
       "      <td>0.157098</td>\n",
       "      <td>0.179293</td>\n",
       "      <td>-0.157226</td>\n",
       "      <td>0.138076</td>\n",
       "    </tr>\n",
       "    <tr>\n",
       "      <th>\"'Bar'\"</th>\n",
       "      <td>0.020343</td>\n",
       "      <td>-0.038871</td>\n",
       "      <td>0.077623</td>\n",
       "      <td>0.003975</td>\n",
       "      <td>-0.001989</td>\n",
       "      <td>-0.027180</td>\n",
       "      <td>0.283535</td>\n",
       "      <td>0.003608</td>\n",
       "      <td>-0.118770</td>\n",
       "      <td>0.023863</td>\n",
       "      <td>...</td>\n",
       "      <td>-0.048801</td>\n",
       "      <td>-0.021070</td>\n",
       "      <td>0.694550</td>\n",
       "      <td>-0.040963</td>\n",
       "      <td>0.018986</td>\n",
       "      <td>-0.046393</td>\n",
       "      <td>-0.017328</td>\n",
       "      <td>0.062187</td>\n",
       "      <td>-0.164043</td>\n",
       "      <td>0.087350</td>\n",
       "    </tr>\n",
       "    <tr>\n",
       "      <th>\"'British'\"</th>\n",
       "      <td>-0.058492</td>\n",
       "      <td>0.087624</td>\n",
       "      <td>0.082992</td>\n",
       "      <td>0.000358</td>\n",
       "      <td>0.002980</td>\n",
       "      <td>-0.007188</td>\n",
       "      <td>0.144773</td>\n",
       "      <td>-0.005046</td>\n",
       "      <td>-0.092846</td>\n",
       "      <td>0.024912</td>\n",
       "      <td>...</td>\n",
       "      <td>-0.047889</td>\n",
       "      <td>-0.032512</td>\n",
       "      <td>0.265508</td>\n",
       "      <td>0.017846</td>\n",
       "      <td>-0.051878</td>\n",
       "      <td>-0.034593</td>\n",
       "      <td>0.041090</td>\n",
       "      <td>0.092743</td>\n",
       "      <td>-0.111894</td>\n",
       "      <td>0.005612</td>\n",
       "    </tr>\n",
       "    <tr>\n",
       "      <th>\"'Cafe'\"</th>\n",
       "      <td>-0.003716</td>\n",
       "      <td>0.004074</td>\n",
       "      <td>-0.020494</td>\n",
       "      <td>0.003990</td>\n",
       "      <td>0.012097</td>\n",
       "      <td>-0.120614</td>\n",
       "      <td>0.148560</td>\n",
       "      <td>0.002270</td>\n",
       "      <td>-0.061779</td>\n",
       "      <td>0.015751</td>\n",
       "      <td>...</td>\n",
       "      <td>-0.046369</td>\n",
       "      <td>-0.006200</td>\n",
       "      <td>0.032826</td>\n",
       "      <td>-0.043000</td>\n",
       "      <td>-0.013622</td>\n",
       "      <td>-0.039170</td>\n",
       "      <td>0.085216</td>\n",
       "      <td>0.079181</td>\n",
       "      <td>-0.135879</td>\n",
       "      <td>0.034314</td>\n",
       "    </tr>\n",
       "    <tr>\n",
       "      <th>\"'Central European'\"</th>\n",
       "      <td>0.081131</td>\n",
       "      <td>-0.138600</td>\n",
       "      <td>0.095893</td>\n",
       "      <td>0.003121</td>\n",
       "      <td>0.009872</td>\n",
       "      <td>0.042233</td>\n",
       "      <td>0.252252</td>\n",
       "      <td>0.000312</td>\n",
       "      <td>-0.079845</td>\n",
       "      <td>0.039766</td>\n",
       "      <td>...</td>\n",
       "      <td>-0.031739</td>\n",
       "      <td>-0.029256</td>\n",
       "      <td>0.059590</td>\n",
       "      <td>-0.012596</td>\n",
       "      <td>-0.045064</td>\n",
       "      <td>-0.031382</td>\n",
       "      <td>0.014724</td>\n",
       "      <td>0.118911</td>\n",
       "      <td>-0.103900</td>\n",
       "      <td>0.219498</td>\n",
       "    </tr>\n",
       "    <tr>\n",
       "      <th>\"'Chinese'\"</th>\n",
       "      <td>-0.033573</td>\n",
       "      <td>0.047129</td>\n",
       "      <td>-0.014029</td>\n",
       "      <td>-0.003521</td>\n",
       "      <td>-0.021039</td>\n",
       "      <td>-0.053128</td>\n",
       "      <td>0.013792</td>\n",
       "      <td>0.013380</td>\n",
       "      <td>0.004704</td>\n",
       "      <td>-0.016907</td>\n",
       "      <td>...</td>\n",
       "      <td>-0.043619</td>\n",
       "      <td>-0.029128</td>\n",
       "      <td>-0.043050</td>\n",
       "      <td>-0.010867</td>\n",
       "      <td>-0.043261</td>\n",
       "      <td>0.088236</td>\n",
       "      <td>-0.011047</td>\n",
       "      <td>0.005184</td>\n",
       "      <td>-0.094796</td>\n",
       "      <td>-0.026773</td>\n",
       "    </tr>\n",
       "    <tr>\n",
       "      <th>\"'European'\"</th>\n",
       "      <td>0.176533</td>\n",
       "      <td>-0.280233</td>\n",
       "      <td>0.214594</td>\n",
       "      <td>0.001291</td>\n",
       "      <td>0.016217</td>\n",
       "      <td>0.094908</td>\n",
       "      <td>0.486926</td>\n",
       "      <td>0.005548</td>\n",
       "      <td>-0.175640</td>\n",
       "      <td>0.101024</td>\n",
       "      <td>...</td>\n",
       "      <td>0.050633</td>\n",
       "      <td>0.258806</td>\n",
       "      <td>0.034018</td>\n",
       "      <td>0.049528</td>\n",
       "      <td>0.065588</td>\n",
       "      <td>-0.092132</td>\n",
       "      <td>0.130902</td>\n",
       "      <td>0.265841</td>\n",
       "      <td>-0.318178</td>\n",
       "      <td>0.195249</td>\n",
       "    </tr>\n",
       "    <tr>\n",
       "      <th>\"'Fast Food'\"</th>\n",
       "      <td>-0.010649</td>\n",
       "      <td>0.021050</td>\n",
       "      <td>0.000058</td>\n",
       "      <td>0.001835</td>\n",
       "      <td>-0.001692</td>\n",
       "      <td>-0.277461</td>\n",
       "      <td>0.109277</td>\n",
       "      <td>0.001363</td>\n",
       "      <td>-0.053636</td>\n",
       "      <td>-0.011636</td>\n",
       "      <td>...</td>\n",
       "      <td>0.028135</td>\n",
       "      <td>-0.016794</td>\n",
       "      <td>-0.022267</td>\n",
       "      <td>-0.004019</td>\n",
       "      <td>-0.031553</td>\n",
       "      <td>-0.001501</td>\n",
       "      <td>0.061189</td>\n",
       "      <td>0.047694</td>\n",
       "      <td>-0.115644</td>\n",
       "      <td>0.057425</td>\n",
       "    </tr>\n",
       "    <tr>\n",
       "      <th>\"'French'\"</th>\n",
       "      <td>-0.024985</td>\n",
       "      <td>0.041533</td>\n",
       "      <td>0.063928</td>\n",
       "      <td>0.002589</td>\n",
       "      <td>0.006533</td>\n",
       "      <td>0.095563</td>\n",
       "      <td>0.029788</td>\n",
       "      <td>-0.000559</td>\n",
       "      <td>-0.016423</td>\n",
       "      <td>0.030644</td>\n",
       "      <td>...</td>\n",
       "      <td>-0.072481</td>\n",
       "      <td>-0.041005</td>\n",
       "      <td>-0.013832</td>\n",
       "      <td>-0.015607</td>\n",
       "      <td>-0.056695</td>\n",
       "      <td>-0.048549</td>\n",
       "      <td>-0.039690</td>\n",
       "      <td>-0.003832</td>\n",
       "      <td>-0.161322</td>\n",
       "      <td>-0.039664</td>\n",
       "    </tr>\n",
       "    <tr>\n",
       "      <th>\"'Gluten Free Options'\"</th>\n",
       "      <td>0.122461</td>\n",
       "      <td>-0.216674</td>\n",
       "      <td>0.415528</td>\n",
       "      <td>-0.005740</td>\n",
       "      <td>0.025691</td>\n",
       "      <td>0.139514</td>\n",
       "      <td>0.540947</td>\n",
       "      <td>-0.019736</td>\n",
       "      <td>-0.207688</td>\n",
       "      <td>0.109460</td>\n",
       "      <td>...</td>\n",
       "      <td>0.033118</td>\n",
       "      <td>-0.014240</td>\n",
       "      <td>-0.011803</td>\n",
       "      <td>0.098077</td>\n",
       "      <td>0.041279</td>\n",
       "      <td>0.031132</td>\n",
       "      <td>0.492405</td>\n",
       "      <td>0.469228</td>\n",
       "      <td>-0.186845</td>\n",
       "      <td>0.121579</td>\n",
       "    </tr>\n",
       "    <tr>\n",
       "      <th>\"'Indian'\"</th>\n",
       "      <td>-0.038264</td>\n",
       "      <td>0.052109</td>\n",
       "      <td>0.002518</td>\n",
       "      <td>-0.006654</td>\n",
       "      <td>-0.006542</td>\n",
       "      <td>-0.013802</td>\n",
       "      <td>0.081665</td>\n",
       "      <td>0.008600</td>\n",
       "      <td>-0.026172</td>\n",
       "      <td>0.026473</td>\n",
       "      <td>...</td>\n",
       "      <td>-0.038021</td>\n",
       "      <td>-0.019543</td>\n",
       "      <td>-0.039045</td>\n",
       "      <td>-0.030015</td>\n",
       "      <td>-0.041578</td>\n",
       "      <td>-0.025581</td>\n",
       "      <td>0.145391</td>\n",
       "      <td>0.111756</td>\n",
       "      <td>-0.090736</td>\n",
       "      <td>0.036628</td>\n",
       "    </tr>\n",
       "    <tr>\n",
       "      <th>\"'International'\"</th>\n",
       "      <td>0.041892</td>\n",
       "      <td>-0.070473</td>\n",
       "      <td>0.042389</td>\n",
       "      <td>0.002881</td>\n",
       "      <td>0.011148</td>\n",
       "      <td>0.041353</td>\n",
       "      <td>0.183671</td>\n",
       "      <td>0.000638</td>\n",
       "      <td>-0.030321</td>\n",
       "      <td>0.032069</td>\n",
       "      <td>...</td>\n",
       "      <td>-0.035764</td>\n",
       "      <td>-0.001541</td>\n",
       "      <td>0.038117</td>\n",
       "      <td>-0.003704</td>\n",
       "      <td>0.008564</td>\n",
       "      <td>-0.026378</td>\n",
       "      <td>0.041336</td>\n",
       "      <td>0.058804</td>\n",
       "      <td>-0.111131</td>\n",
       "      <td>0.086422</td>\n",
       "    </tr>\n",
       "    <tr>\n",
       "      <th>\"'Italian'\"</th>\n",
       "      <td>0.059524</td>\n",
       "      <td>-0.088257</td>\n",
       "      <td>0.120374</td>\n",
       "      <td>0.002474</td>\n",
       "      <td>0.009372</td>\n",
       "      <td>-0.026694</td>\n",
       "      <td>0.207182</td>\n",
       "      <td>0.013614</td>\n",
       "      <td>-0.028313</td>\n",
       "      <td>0.045978</td>\n",
       "      <td>...</td>\n",
       "      <td>0.474130</td>\n",
       "      <td>-0.060940</td>\n",
       "      <td>-0.057856</td>\n",
       "      <td>0.129457</td>\n",
       "      <td>-0.090596</td>\n",
       "      <td>-0.068196</td>\n",
       "      <td>0.096882</td>\n",
       "      <td>0.177170</td>\n",
       "      <td>-0.229544</td>\n",
       "      <td>-0.139579</td>\n",
       "    </tr>\n",
       "    <tr>\n",
       "      <th>\"'Japanese'\"</th>\n",
       "      <td>-0.007900</td>\n",
       "      <td>-0.000338</td>\n",
       "      <td>0.005282</td>\n",
       "      <td>-0.006341</td>\n",
       "      <td>-0.010047</td>\n",
       "      <td>0.031982</td>\n",
       "      <td>0.103414</td>\n",
       "      <td>0.016310</td>\n",
       "      <td>0.001413</td>\n",
       "      <td>0.001381</td>\n",
       "      <td>...</td>\n",
       "      <td>-0.052288</td>\n",
       "      <td>-0.032534</td>\n",
       "      <td>-0.045759</td>\n",
       "      <td>0.051769</td>\n",
       "      <td>-0.044813</td>\n",
       "      <td>0.704750</td>\n",
       "      <td>0.023490</td>\n",
       "      <td>0.041739</td>\n",
       "      <td>-0.107975</td>\n",
       "      <td>-0.021944</td>\n",
       "    </tr>\n",
       "    <tr>\n",
       "      <th>\"'Mediterranean'\"</th>\n",
       "      <td>0.093453</td>\n",
       "      <td>-0.147984</td>\n",
       "      <td>0.182647</td>\n",
       "      <td>0.002891</td>\n",
       "      <td>0.018614</td>\n",
       "      <td>0.018788</td>\n",
       "      <td>0.383432</td>\n",
       "      <td>0.015803</td>\n",
       "      <td>-0.117122</td>\n",
       "      <td>0.095528</td>\n",
       "      <td>...</td>\n",
       "      <td>0.167479</td>\n",
       "      <td>0.109505</td>\n",
       "      <td>-0.066929</td>\n",
       "      <td>0.188030</td>\n",
       "      <td>0.296836</td>\n",
       "      <td>-0.069490</td>\n",
       "      <td>0.172773</td>\n",
       "      <td>0.244427</td>\n",
       "      <td>-0.236521</td>\n",
       "      <td>0.012550</td>\n",
       "    </tr>\n",
       "    <tr>\n",
       "      <th>\"'Pizza'\"</th>\n",
       "      <td>0.028755</td>\n",
       "      <td>-0.039910</td>\n",
       "      <td>0.067548</td>\n",
       "      <td>0.009286</td>\n",
       "      <td>-0.001764</td>\n",
       "      <td>-0.083239</td>\n",
       "      <td>0.172933</td>\n",
       "      <td>0.003314</td>\n",
       "      <td>-0.031643</td>\n",
       "      <td>0.017706</td>\n",
       "      <td>...</td>\n",
       "      <td>1.000000</td>\n",
       "      <td>-0.041069</td>\n",
       "      <td>-0.036688</td>\n",
       "      <td>0.051301</td>\n",
       "      <td>-0.067058</td>\n",
       "      <td>-0.045093</td>\n",
       "      <td>0.088357</td>\n",
       "      <td>0.131707</td>\n",
       "      <td>-0.150751</td>\n",
       "      <td>-0.115388</td>\n",
       "    </tr>\n",
       "    <tr>\n",
       "      <th>\"'Portuguese'\"</th>\n",
       "      <td>0.054971</td>\n",
       "      <td>-0.087233</td>\n",
       "      <td>0.029854</td>\n",
       "      <td>-0.000305</td>\n",
       "      <td>0.006840</td>\n",
       "      <td>-0.046254</td>\n",
       "      <td>0.067744</td>\n",
       "      <td>0.004780</td>\n",
       "      <td>-0.038851</td>\n",
       "      <td>0.014783</td>\n",
       "      <td>...</td>\n",
       "      <td>-0.041069</td>\n",
       "      <td>1.000000</td>\n",
       "      <td>-0.027823</td>\n",
       "      <td>0.042932</td>\n",
       "      <td>-0.016206</td>\n",
       "      <td>-0.026265</td>\n",
       "      <td>-0.013993</td>\n",
       "      <td>-0.023978</td>\n",
       "      <td>-0.092717</td>\n",
       "      <td>-0.035108</td>\n",
       "    </tr>\n",
       "    <tr>\n",
       "      <th>\"'Pub'\"</th>\n",
       "      <td>0.002458</td>\n",
       "      <td>-0.011064</td>\n",
       "      <td>0.002245</td>\n",
       "      <td>0.000543</td>\n",
       "      <td>0.002297</td>\n",
       "      <td>-0.048543</td>\n",
       "      <td>0.206041</td>\n",
       "      <td>0.000561</td>\n",
       "      <td>-0.072187</td>\n",
       "      <td>0.005197</td>\n",
       "      <td>...</td>\n",
       "      <td>-0.036688</td>\n",
       "      <td>-0.027823</td>\n",
       "      <td>1.000000</td>\n",
       "      <td>-0.038130</td>\n",
       "      <td>-0.018877</td>\n",
       "      <td>-0.042119</td>\n",
       "      <td>-0.050126</td>\n",
       "      <td>-0.009573</td>\n",
       "      <td>-0.140203</td>\n",
       "      <td>0.089080</td>\n",
       "    </tr>\n",
       "    <tr>\n",
       "      <th>\"'Seafood'\"</th>\n",
       "      <td>0.046350</td>\n",
       "      <td>-0.075019</td>\n",
       "      <td>0.129134</td>\n",
       "      <td>0.000684</td>\n",
       "      <td>0.004679</td>\n",
       "      <td>0.065094</td>\n",
       "      <td>0.182103</td>\n",
       "      <td>0.012270</td>\n",
       "      <td>-0.046386</td>\n",
       "      <td>0.033498</td>\n",
       "      <td>...</td>\n",
       "      <td>0.051301</td>\n",
       "      <td>0.042932</td>\n",
       "      <td>-0.038130</td>\n",
       "      <td>1.000000</td>\n",
       "      <td>0.019156</td>\n",
       "      <td>0.071173</td>\n",
       "      <td>0.022703</td>\n",
       "      <td>0.055586</td>\n",
       "      <td>-0.108516</td>\n",
       "      <td>-0.004595</td>\n",
       "    </tr>\n",
       "    <tr>\n",
       "      <th>\"'Spanish'\"</th>\n",
       "      <td>0.008097</td>\n",
       "      <td>-0.017153</td>\n",
       "      <td>0.052394</td>\n",
       "      <td>0.006544</td>\n",
       "      <td>-0.002147</td>\n",
       "      <td>0.007876</td>\n",
       "      <td>0.089345</td>\n",
       "      <td>-0.000107</td>\n",
       "      <td>-0.006647</td>\n",
       "      <td>0.010344</td>\n",
       "      <td>...</td>\n",
       "      <td>-0.067058</td>\n",
       "      <td>-0.016206</td>\n",
       "      <td>-0.018877</td>\n",
       "      <td>0.019156</td>\n",
       "      <td>1.000000</td>\n",
       "      <td>-0.041923</td>\n",
       "      <td>0.005247</td>\n",
       "      <td>0.009455</td>\n",
       "      <td>-0.149684</td>\n",
       "      <td>-0.058893</td>\n",
       "    </tr>\n",
       "    <tr>\n",
       "      <th>\"'Sushi'\"</th>\n",
       "      <td>0.003713</td>\n",
       "      <td>-0.016536</td>\n",
       "      <td>0.006650</td>\n",
       "      <td>-0.001192</td>\n",
       "      <td>-0.007682</td>\n",
       "      <td>0.028294</td>\n",
       "      <td>0.106461</td>\n",
       "      <td>0.017867</td>\n",
       "      <td>0.001066</td>\n",
       "      <td>0.002708</td>\n",
       "      <td>...</td>\n",
       "      <td>-0.045093</td>\n",
       "      <td>-0.026265</td>\n",
       "      <td>-0.042119</td>\n",
       "      <td>0.071173</td>\n",
       "      <td>-0.041923</td>\n",
       "      <td>1.000000</td>\n",
       "      <td>0.013954</td>\n",
       "      <td>0.038045</td>\n",
       "      <td>-0.094931</td>\n",
       "      <td>-0.027061</td>\n",
       "    </tr>\n",
       "    <tr>\n",
       "      <th>\"'Vegan Options'\"</th>\n",
       "      <td>0.122014</td>\n",
       "      <td>-0.216514</td>\n",
       "      <td>0.323157</td>\n",
       "      <td>-0.009640</td>\n",
       "      <td>0.029015</td>\n",
       "      <td>-0.009134</td>\n",
       "      <td>0.557174</td>\n",
       "      <td>-0.011139</td>\n",
       "      <td>-0.197724</td>\n",
       "      <td>0.120149</td>\n",
       "      <td>...</td>\n",
       "      <td>0.088357</td>\n",
       "      <td>-0.013993</td>\n",
       "      <td>-0.050126</td>\n",
       "      <td>0.022703</td>\n",
       "      <td>0.005247</td>\n",
       "      <td>0.013954</td>\n",
       "      <td>1.000000</td>\n",
       "      <td>0.556443</td>\n",
       "      <td>-0.196728</td>\n",
       "      <td>0.124601</td>\n",
       "    </tr>\n",
       "    <tr>\n",
       "      <th>\"'Vegetarian Friendly'\"</th>\n",
       "      <td>0.176026</td>\n",
       "      <td>-0.299214</td>\n",
       "      <td>0.365970</td>\n",
       "      <td>-0.003094</td>\n",
       "      <td>0.037317</td>\n",
       "      <td>0.016919</td>\n",
       "      <td>0.691530</td>\n",
       "      <td>-0.004256</td>\n",
       "      <td>-0.302132</td>\n",
       "      <td>0.180794</td>\n",
       "      <td>...</td>\n",
       "      <td>0.131707</td>\n",
       "      <td>-0.023978</td>\n",
       "      <td>-0.009573</td>\n",
       "      <td>0.055586</td>\n",
       "      <td>0.009455</td>\n",
       "      <td>0.038045</td>\n",
       "      <td>0.556443</td>\n",
       "      <td>1.000000</td>\n",
       "      <td>-0.342913</td>\n",
       "      <td>0.177721</td>\n",
       "    </tr>\n",
       "    <tr>\n",
       "      <th>'Neizvestnoe'</th>\n",
       "      <td>-0.086889</td>\n",
       "      <td>0.150058</td>\n",
       "      <td>-0.201299</td>\n",
       "      <td>0.001303</td>\n",
       "      <td>-0.010781</td>\n",
       "      <td>0.157392</td>\n",
       "      <td>-0.489476</td>\n",
       "      <td>-0.046971</td>\n",
       "      <td>0.155707</td>\n",
       "      <td>-0.114778</td>\n",
       "      <td>...</td>\n",
       "      <td>-0.150751</td>\n",
       "      <td>-0.092717</td>\n",
       "      <td>-0.140203</td>\n",
       "      <td>-0.108516</td>\n",
       "      <td>-0.149684</td>\n",
       "      <td>-0.094931</td>\n",
       "      <td>-0.196728</td>\n",
       "      <td>-0.342913</td>\n",
       "      <td>1.000000</td>\n",
       "      <td>-0.374230</td>\n",
       "    </tr>\n",
       "    <tr>\n",
       "      <th>'Ostalnoe'</th>\n",
       "      <td>0.105399</td>\n",
       "      <td>-0.170735</td>\n",
       "      <td>0.098521</td>\n",
       "      <td>-0.005373</td>\n",
       "      <td>0.025677</td>\n",
       "      <td>-0.070438</td>\n",
       "      <td>0.452011</td>\n",
       "      <td>0.018589</td>\n",
       "      <td>-0.112538</td>\n",
       "      <td>0.075011</td>\n",
       "      <td>...</td>\n",
       "      <td>-0.115388</td>\n",
       "      <td>-0.035108</td>\n",
       "      <td>0.089080</td>\n",
       "      <td>-0.004595</td>\n",
       "      <td>-0.058893</td>\n",
       "      <td>-0.027061</td>\n",
       "      <td>0.124601</td>\n",
       "      <td>0.177721</td>\n",
       "      <td>-0.374230</td>\n",
       "      <td>1.000000</td>\n",
       "    </tr>\n",
       "  </tbody>\n",
       "</table>\n",
       "<p>39 rows × 39 columns</p>\n",
       "</div>"
      ],
      "text/plain": [
       "                         Restaurant_id   Ranking  Number of Reviews    sample  \\\n",
       "Restaurant_id                 1.000000 -0.665311           0.128607  0.228320   \n",
       "Ranking                      -0.665311  1.000000          -0.223077  0.006271   \n",
       "Number of Reviews             0.128607 -0.223077           1.000000  0.002683   \n",
       "sample                        0.228320  0.006271           0.002683  1.000000   \n",
       "Rating                        0.304113 -0.109897           0.011006  0.936543   \n",
       "Uroven_cen                    0.015425 -0.026334           0.107821 -0.003419   \n",
       "Vsego_kuhon                   0.189105 -0.322408           0.409218 -0.003202   \n",
       "raznica                       0.011252 -0.009251          -0.008773 -0.000134   \n",
       "raznica_posl                 -0.112805  0.186595          -0.203274 -0.003907   \n",
       "text                          0.112899 -0.186507           0.091027 -0.003428   \n",
       "turist_per rest               0.094441 -0.138489           0.038866 -0.002175   \n",
       "zhiteli_per_rest             -0.044784  0.064753          -0.018375 -0.001856   \n",
       "norm_gorod                   -0.351213  0.570506          -0.407168  0.001995   \n",
       "\"'American'\"                 -0.001830 -0.008211           0.046894  0.000393   \n",
       "\"'Asian'\"                     0.001063 -0.005595           0.029347 -0.003364   \n",
       "\"'Bar'\"                       0.020343 -0.038871           0.077623  0.003975   \n",
       "\"'British'\"                  -0.058492  0.087624           0.082992  0.000358   \n",
       "\"'Cafe'\"                     -0.003716  0.004074          -0.020494  0.003990   \n",
       "\"'Central European'\"          0.081131 -0.138600           0.095893  0.003121   \n",
       "\"'Chinese'\"                  -0.033573  0.047129          -0.014029 -0.003521   \n",
       "\"'European'\"                  0.176533 -0.280233           0.214594  0.001291   \n",
       "\"'Fast Food'\"                -0.010649  0.021050           0.000058  0.001835   \n",
       "\"'French'\"                   -0.024985  0.041533           0.063928  0.002589   \n",
       "\"'Gluten Free Options'\"       0.122461 -0.216674           0.415528 -0.005740   \n",
       "\"'Indian'\"                   -0.038264  0.052109           0.002518 -0.006654   \n",
       "\"'International'\"             0.041892 -0.070473           0.042389  0.002881   \n",
       "\"'Italian'\"                   0.059524 -0.088257           0.120374  0.002474   \n",
       "\"'Japanese'\"                 -0.007900 -0.000338           0.005282 -0.006341   \n",
       "\"'Mediterranean'\"             0.093453 -0.147984           0.182647  0.002891   \n",
       "\"'Pizza'\"                     0.028755 -0.039910           0.067548  0.009286   \n",
       "\"'Portuguese'\"                0.054971 -0.087233           0.029854 -0.000305   \n",
       "\"'Pub'\"                       0.002458 -0.011064           0.002245  0.000543   \n",
       "\"'Seafood'\"                   0.046350 -0.075019           0.129134  0.000684   \n",
       "\"'Spanish'\"                   0.008097 -0.017153           0.052394  0.006544   \n",
       "\"'Sushi'\"                     0.003713 -0.016536           0.006650 -0.001192   \n",
       "\"'Vegan Options'\"             0.122014 -0.216514           0.323157 -0.009640   \n",
       "\"'Vegetarian Friendly'\"       0.176026 -0.299214           0.365970 -0.003094   \n",
       "'Neizvestnoe'                -0.086889  0.150058          -0.201299  0.001303   \n",
       "'Ostalnoe'                    0.105399 -0.170735           0.098521 -0.005373   \n",
       "\n",
       "                           Rating  Uroven_cen  Vsego_kuhon   raznica  \\\n",
       "Restaurant_id            0.304113    0.015425     0.189105  0.011252   \n",
       "Ranking                 -0.109897   -0.026334    -0.322408 -0.009251   \n",
       "Number of Reviews        0.011006    0.107821     0.409218 -0.008773   \n",
       "sample                   0.936543   -0.003419    -0.003202 -0.000134   \n",
       "Rating                   1.000000   -0.012176     0.034506  0.000702   \n",
       "Uroven_cen              -0.012176    1.000000     0.002816 -0.024830   \n",
       "Vsego_kuhon              0.034506    0.002816     1.000000  0.006683   \n",
       "raznica                  0.000702   -0.024830     0.006683  1.000000   \n",
       "raznica_posl            -0.032546    0.015277    -0.331398 -0.451194   \n",
       "text                     0.073738   -0.004042     0.176568  0.051883   \n",
       "turist_per rest          0.028222   -0.050405     0.124992  0.010077   \n",
       "zhiteli_per_rest         0.012909   -0.011865     0.041667  0.004850   \n",
       "norm_gorod              -0.168783   -0.044051    -0.543578 -0.030357   \n",
       "\"'American'\"            -0.008012   -0.063905     0.091686 -0.001221   \n",
       "\"'Asian'\"               -0.004504   -0.024251     0.196731  0.019024   \n",
       "\"'Bar'\"                 -0.001989   -0.027180     0.283535  0.003608   \n",
       "\"'British'\"              0.002980   -0.007188     0.144773 -0.005046   \n",
       "\"'Cafe'\"                 0.012097   -0.120614     0.148560  0.002270   \n",
       "\"'Central European'\"     0.009872    0.042233     0.252252  0.000312   \n",
       "\"'Chinese'\"             -0.021039   -0.053128     0.013792  0.013380   \n",
       "\"'European'\"             0.016217    0.094908     0.486926  0.005548   \n",
       "\"'Fast Food'\"           -0.001692   -0.277461     0.109277  0.001363   \n",
       "\"'French'\"               0.006533    0.095563     0.029788 -0.000559   \n",
       "\"'Gluten Free Options'\"  0.025691    0.139514     0.540947 -0.019736   \n",
       "\"'Indian'\"              -0.006542   -0.013802     0.081665  0.008600   \n",
       "\"'International'\"        0.011148    0.041353     0.183671  0.000638   \n",
       "\"'Italian'\"              0.009372   -0.026694     0.207182  0.013614   \n",
       "\"'Japanese'\"            -0.010047    0.031982     0.103414  0.016310   \n",
       "\"'Mediterranean'\"        0.018614    0.018788     0.383432  0.015803   \n",
       "\"'Pizza'\"               -0.001764   -0.083239     0.172933  0.003314   \n",
       "\"'Portuguese'\"           0.006840   -0.046254     0.067744  0.004780   \n",
       "\"'Pub'\"                  0.002297   -0.048543     0.206041  0.000561   \n",
       "\"'Seafood'\"              0.004679    0.065094     0.182103  0.012270   \n",
       "\"'Spanish'\"             -0.002147    0.007876     0.089345 -0.000107   \n",
       "\"'Sushi'\"               -0.007682    0.028294     0.106461  0.017867   \n",
       "\"'Vegan Options'\"        0.029015   -0.009134     0.557174 -0.011139   \n",
       "\"'Vegetarian Friendly'\"  0.037317    0.016919     0.691530 -0.004256   \n",
       "'Neizvestnoe'           -0.010781    0.157392    -0.489476 -0.046971   \n",
       "'Ostalnoe'               0.025677   -0.070438     0.452011  0.018589   \n",
       "\n",
       "                         raznica_posl      text  ...  \"'Pizza'\"  \\\n",
       "Restaurant_id               -0.112805  0.112899  ...   0.028755   \n",
       "Ranking                      0.186595 -0.186507  ...  -0.039910   \n",
       "Number of Reviews           -0.203274  0.091027  ...   0.067548   \n",
       "sample                      -0.003907 -0.003428  ...   0.009286   \n",
       "Rating                      -0.032546  0.073738  ...  -0.001764   \n",
       "Uroven_cen                   0.015277 -0.004042  ...  -0.083239   \n",
       "Vsego_kuhon                 -0.331398  0.176568  ...   0.172933   \n",
       "raznica                     -0.451194  0.051883  ...   0.003314   \n",
       "raznica_posl                 1.000000 -0.081062  ...  -0.031643   \n",
       "text                        -0.081062  1.000000  ...   0.017706   \n",
       "turist_per rest             -0.061319  0.051617  ...   0.036718   \n",
       "zhiteli_per_rest            -0.020160  0.022134  ...   0.034238   \n",
       "norm_gorod                   0.359891 -0.310393  ...  -0.035247   \n",
       "\"'American'\"                -0.050086 -0.010994  ...  -0.027265   \n",
       "\"'Asian'\"                   -0.082980  0.034033  ...  -0.077365   \n",
       "\"'Bar'\"                     -0.118770  0.023863  ...  -0.048801   \n",
       "\"'British'\"                 -0.092846  0.024912  ...  -0.047889   \n",
       "\"'Cafe'\"                    -0.061779  0.015751  ...  -0.046369   \n",
       "\"'Central European'\"        -0.079845  0.039766  ...  -0.031739   \n",
       "\"'Chinese'\"                  0.004704 -0.016907  ...  -0.043619   \n",
       "\"'European'\"                -0.175640  0.101024  ...   0.050633   \n",
       "\"'Fast Food'\"               -0.053636 -0.011636  ...   0.028135   \n",
       "\"'French'\"                  -0.016423  0.030644  ...  -0.072481   \n",
       "\"'Gluten Free Options'\"     -0.207688  0.109460  ...   0.033118   \n",
       "\"'Indian'\"                  -0.026172  0.026473  ...  -0.038021   \n",
       "\"'International'\"           -0.030321  0.032069  ...  -0.035764   \n",
       "\"'Italian'\"                 -0.028313  0.045978  ...   0.474130   \n",
       "\"'Japanese'\"                 0.001413  0.001381  ...  -0.052288   \n",
       "\"'Mediterranean'\"           -0.117122  0.095528  ...   0.167479   \n",
       "\"'Pizza'\"                   -0.031643  0.017706  ...   1.000000   \n",
       "\"'Portuguese'\"              -0.038851  0.014783  ...  -0.041069   \n",
       "\"'Pub'\"                     -0.072187  0.005197  ...  -0.036688   \n",
       "\"'Seafood'\"                 -0.046386  0.033498  ...   0.051301   \n",
       "\"'Spanish'\"                 -0.006647  0.010344  ...  -0.067058   \n",
       "\"'Sushi'\"                    0.001066  0.002708  ...  -0.045093   \n",
       "\"'Vegan Options'\"           -0.197724  0.120149  ...   0.088357   \n",
       "\"'Vegetarian Friendly'\"     -0.302132  0.180794  ...   0.131707   \n",
       "'Neizvestnoe'                0.155707 -0.114778  ...  -0.150751   \n",
       "'Ostalnoe'                  -0.112538  0.075011  ...  -0.115388   \n",
       "\n",
       "                         \"'Portuguese'\"   \"'Pub'\"  \"'Seafood'\"  \"'Spanish'\"  \\\n",
       "Restaurant_id                  0.054971  0.002458     0.046350     0.008097   \n",
       "Ranking                       -0.087233 -0.011064    -0.075019    -0.017153   \n",
       "Number of Reviews              0.029854  0.002245     0.129134     0.052394   \n",
       "sample                        -0.000305  0.000543     0.000684     0.006544   \n",
       "Rating                         0.006840  0.002297     0.004679    -0.002147   \n",
       "Uroven_cen                    -0.046254 -0.048543     0.065094     0.007876   \n",
       "Vsego_kuhon                    0.067744  0.206041     0.182103     0.089345   \n",
       "raznica                        0.004780  0.000561     0.012270    -0.000107   \n",
       "raznica_posl                  -0.038851 -0.072187    -0.046386    -0.006647   \n",
       "text                           0.014783  0.005197     0.033498     0.010344   \n",
       "turist_per rest               -0.019356  0.074281     0.011443    -0.214897   \n",
       "zhiteli_per_rest              -0.168176  0.040994     0.006258    -0.076752   \n",
       "norm_gorod                    -0.032198 -0.045781    -0.115268    -0.066575   \n",
       "\"'American'\"                  -0.026999  0.047571    -0.023417    -0.026764   \n",
       "\"'Asian'\"                     -0.046468 -0.065482     0.003896    -0.067264   \n",
       "\"'Bar'\"                       -0.021070  0.694550    -0.040963     0.018986   \n",
       "\"'British'\"                   -0.032512  0.265508     0.017846    -0.051878   \n",
       "\"'Cafe'\"                      -0.006200  0.032826    -0.043000    -0.013622   \n",
       "\"'Central European'\"          -0.029256  0.059590    -0.012596    -0.045064   \n",
       "\"'Chinese'\"                   -0.029128 -0.043050    -0.010867    -0.043261   \n",
       "\"'European'\"                   0.258806  0.034018     0.049528     0.065588   \n",
       "\"'Fast Food'\"                 -0.016794 -0.022267    -0.004019    -0.031553   \n",
       "\"'French'\"                    -0.041005 -0.013832    -0.015607    -0.056695   \n",
       "\"'Gluten Free Options'\"       -0.014240 -0.011803     0.098077     0.041279   \n",
       "\"'Indian'\"                    -0.019543 -0.039045    -0.030015    -0.041578   \n",
       "\"'International'\"             -0.001541  0.038117    -0.003704     0.008564   \n",
       "\"'Italian'\"                   -0.060940 -0.057856     0.129457    -0.090596   \n",
       "\"'Japanese'\"                  -0.032534 -0.045759     0.051769    -0.044813   \n",
       "\"'Mediterranean'\"              0.109505 -0.066929     0.188030     0.296836   \n",
       "\"'Pizza'\"                     -0.041069 -0.036688     0.051301    -0.067058   \n",
       "\"'Portuguese'\"                 1.000000 -0.027823     0.042932    -0.016206   \n",
       "\"'Pub'\"                       -0.027823  1.000000    -0.038130    -0.018877   \n",
       "\"'Seafood'\"                    0.042932 -0.038130     1.000000     0.019156   \n",
       "\"'Spanish'\"                   -0.016206 -0.018877     0.019156     1.000000   \n",
       "\"'Sushi'\"                     -0.026265 -0.042119     0.071173    -0.041923   \n",
       "\"'Vegan Options'\"             -0.013993 -0.050126     0.022703     0.005247   \n",
       "\"'Vegetarian Friendly'\"       -0.023978 -0.009573     0.055586     0.009455   \n",
       "'Neizvestnoe'                 -0.092717 -0.140203    -0.108516    -0.149684   \n",
       "'Ostalnoe'                    -0.035108  0.089080    -0.004595    -0.058893   \n",
       "\n",
       "                         \"'Sushi'\"  \"'Vegan Options'\"  \\\n",
       "Restaurant_id             0.003713           0.122014   \n",
       "Ranking                  -0.016536          -0.216514   \n",
       "Number of Reviews         0.006650           0.323157   \n",
       "sample                   -0.001192          -0.009640   \n",
       "Rating                   -0.007682           0.029015   \n",
       "Uroven_cen                0.028294          -0.009134   \n",
       "Vsego_kuhon               0.106461           0.557174   \n",
       "raznica                   0.017867          -0.011139   \n",
       "raznica_posl              0.001066          -0.197724   \n",
       "text                      0.002708           0.120149   \n",
       "turist_per rest          -0.008190           0.048449   \n",
       "zhiteli_per_rest          0.015819           0.044956   \n",
       "norm_gorod               -0.020264          -0.390011   \n",
       "\"'American'\"             -0.029170           0.004008   \n",
       "\"'Asian'\"                 0.337532           0.157098   \n",
       "\"'Bar'\"                  -0.046393          -0.017328   \n",
       "\"'British'\"              -0.034593           0.041090   \n",
       "\"'Cafe'\"                 -0.039170           0.085216   \n",
       "\"'Central European'\"     -0.031382           0.014724   \n",
       "\"'Chinese'\"               0.088236          -0.011047   \n",
       "\"'European'\"             -0.092132           0.130902   \n",
       "\"'Fast Food'\"            -0.001501           0.061189   \n",
       "\"'French'\"               -0.048549          -0.039690   \n",
       "\"'Gluten Free Options'\"   0.031132           0.492405   \n",
       "\"'Indian'\"               -0.025581           0.145391   \n",
       "\"'International'\"        -0.026378           0.041336   \n",
       "\"'Italian'\"              -0.068196           0.096882   \n",
       "\"'Japanese'\"              0.704750           0.023490   \n",
       "\"'Mediterranean'\"        -0.069490           0.172773   \n",
       "\"'Pizza'\"                -0.045093           0.088357   \n",
       "\"'Portuguese'\"           -0.026265          -0.013993   \n",
       "\"'Pub'\"                  -0.042119          -0.050126   \n",
       "\"'Seafood'\"               0.071173           0.022703   \n",
       "\"'Spanish'\"              -0.041923           0.005247   \n",
       "\"'Sushi'\"                 1.000000           0.013954   \n",
       "\"'Vegan Options'\"         0.013954           1.000000   \n",
       "\"'Vegetarian Friendly'\"   0.038045           0.556443   \n",
       "'Neizvestnoe'            -0.094931          -0.196728   \n",
       "'Ostalnoe'               -0.027061           0.124601   \n",
       "\n",
       "                         \"'Vegetarian Friendly'\"  'Neizvestnoe'  'Ostalnoe'  \n",
       "Restaurant_id                           0.176026      -0.086889    0.105399  \n",
       "Ranking                                -0.299214       0.150058   -0.170735  \n",
       "Number of Reviews                       0.365970      -0.201299    0.098521  \n",
       "sample                                 -0.003094       0.001303   -0.005373  \n",
       "Rating                                  0.037317      -0.010781    0.025677  \n",
       "Uroven_cen                              0.016919       0.157392   -0.070438  \n",
       "Vsego_kuhon                             0.691530      -0.489476    0.452011  \n",
       "raznica                                -0.004256      -0.046971    0.018589  \n",
       "raznica_posl                           -0.302132       0.155707   -0.112538  \n",
       "text                                    0.180794      -0.114778    0.075011  \n",
       "turist_per rest                         0.069004      -0.081985    0.174331  \n",
       "zhiteli_per_rest                        0.076745       0.019109    0.049266  \n",
       "norm_gorod                             -0.550901       0.326699   -0.200544  \n",
       "\"'American'\"                            0.020623      -0.101221    0.046424  \n",
       "\"'Asian'\"                               0.179293      -0.157226    0.138076  \n",
       "\"'Bar'\"                                 0.062187      -0.164043    0.087350  \n",
       "\"'British'\"                             0.092743      -0.111894    0.005612  \n",
       "\"'Cafe'\"                                0.079181      -0.135879    0.034314  \n",
       "\"'Central European'\"                    0.118911      -0.103900    0.219498  \n",
       "\"'Chinese'\"                             0.005184      -0.094796   -0.026773  \n",
       "\"'European'\"                            0.265841      -0.318178    0.195249  \n",
       "\"'Fast Food'\"                           0.047694      -0.115644    0.057425  \n",
       "\"'French'\"                             -0.003832      -0.161322   -0.039664  \n",
       "\"'Gluten Free Options'\"                 0.469228      -0.186845    0.121579  \n",
       "\"'Indian'\"                              0.111756      -0.090736    0.036628  \n",
       "\"'International'\"                       0.058804      -0.111131    0.086422  \n",
       "\"'Italian'\"                             0.177170      -0.229544   -0.139579  \n",
       "\"'Japanese'\"                            0.041739      -0.107975   -0.021944  \n",
       "\"'Mediterranean'\"                       0.244427      -0.236521    0.012550  \n",
       "\"'Pizza'\"                               0.131707      -0.150751   -0.115388  \n",
       "\"'Portuguese'\"                         -0.023978      -0.092717   -0.035108  \n",
       "\"'Pub'\"                                -0.009573      -0.140203    0.089080  \n",
       "\"'Seafood'\"                             0.055586      -0.108516   -0.004595  \n",
       "\"'Spanish'\"                             0.009455      -0.149684   -0.058893  \n",
       "\"'Sushi'\"                               0.038045      -0.094931   -0.027061  \n",
       "\"'Vegan Options'\"                       0.556443      -0.196728    0.124601  \n",
       "\"'Vegetarian Friendly'\"                 1.000000      -0.342913    0.177721  \n",
       "'Neizvestnoe'                          -0.342913       1.000000   -0.374230  \n",
       "'Ostalnoe'                              0.177721      -0.374230    1.000000  \n",
       "\n",
       "[39 rows x 39 columns]"
      ]
     },
     "execution_count": 42,
     "metadata": {},
     "output_type": "execute_result"
    }
   ],
   "source": [
    "df.corr()"
   ]
  },
  {
   "cell_type": "code",
   "execution_count": 43,
   "metadata": {},
   "outputs": [
    {
     "name": "stdout",
     "output_type": "stream",
     "text": [
      "<class 'pandas.core.frame.DataFrame'>\n",
      "RangeIndex: 50000 entries, 0 to 49999\n",
      "Data columns (total 39 columns):\n",
      " #   Column                   Non-Null Count  Dtype  \n",
      "---  ------                   --------------  -----  \n",
      " 0   Restaurant_id            50000 non-null  int64  \n",
      " 1   Ranking                  50000 non-null  float64\n",
      " 2   Number of Reviews        50000 non-null  float64\n",
      " 3   sample                   50000 non-null  int64  \n",
      " 4   Rating                   50000 non-null  float64\n",
      " 5   Uroven_cen               50000 non-null  int64  \n",
      " 6   Vsego_kuhon              50000 non-null  int64  \n",
      " 7   raznica                  50000 non-null  int64  \n",
      " 8   raznica_posl             50000 non-null  int64  \n",
      " 9   text                     50000 non-null  int64  \n",
      " 10  turist_per rest          50000 non-null  float64\n",
      " 11  zhiteli_per_rest         50000 non-null  float64\n",
      " 12  norm_gorod               50000 non-null  float64\n",
      " 13  \"'American'\"             50000 non-null  int64  \n",
      " 14  \"'Asian'\"                50000 non-null  int64  \n",
      " 15  \"'Bar'\"                  50000 non-null  int64  \n",
      " 16  \"'British'\"              50000 non-null  int64  \n",
      " 17  \"'Cafe'\"                 50000 non-null  int64  \n",
      " 18  \"'Central European'\"     50000 non-null  int64  \n",
      " 19  \"'Chinese'\"              50000 non-null  int64  \n",
      " 20  \"'European'\"             50000 non-null  int64  \n",
      " 21  \"'Fast Food'\"            50000 non-null  int64  \n",
      " 22  \"'French'\"               50000 non-null  int64  \n",
      " 23  \"'Gluten Free Options'\"  50000 non-null  int64  \n",
      " 24  \"'Indian'\"               50000 non-null  int64  \n",
      " 25  \"'International'\"        50000 non-null  int64  \n",
      " 26  \"'Italian'\"              50000 non-null  int64  \n",
      " 27  \"'Japanese'\"             50000 non-null  int64  \n",
      " 28  \"'Mediterranean'\"        50000 non-null  int64  \n",
      " 29  \"'Pizza'\"                50000 non-null  int64  \n",
      " 30  \"'Portuguese'\"           50000 non-null  int64  \n",
      " 31  \"'Pub'\"                  50000 non-null  int64  \n",
      " 32  \"'Seafood'\"              50000 non-null  int64  \n",
      " 33  \"'Spanish'\"              50000 non-null  int64  \n",
      " 34  \"'Sushi'\"                50000 non-null  int64  \n",
      " 35  \"'Vegan Options'\"        50000 non-null  int64  \n",
      " 36  \"'Vegetarian Friendly'\"  50000 non-null  int64  \n",
      " 37  'Neizvestnoe'            50000 non-null  int64  \n",
      " 38  'Ostalnoe'               50000 non-null  int64  \n",
      "dtypes: float64(6), int64(33)\n",
      "memory usage: 14.9 MB\n"
     ]
    }
   ],
   "source": [
    "df.info()"
   ]
  },
  {
   "cell_type": "code",
   "execution_count": 44,
   "metadata": {},
   "outputs": [],
   "source": [
    "# Теперь выделим тестовую часть\n",
    "train_data = df.query('sample == 1').drop(['sample'], axis=1)\n",
    "test_data = df.query('sample == 0').drop(['sample'], axis=1)\n",
    "\n",
    "y = train_data.Rating.values            # наш таргет\n",
    "X = train_data.drop(['Rating'], axis=1)"
   ]
  },
  {
   "cell_type": "markdown",
   "metadata": {},
   "source": [
    "**Перед тем как отправлять наши данные на обучение, разделим данные на еще один тест и трейн, для валидации. \n",
    "Это поможет нам проверить, как хорошо наша модель работает, до отправки submissiona на kaggle.**"
   ]
  },
  {
   "cell_type": "code",
   "execution_count": 45,
   "metadata": {},
   "outputs": [],
   "source": [
    "# Воспользуемся специальной функцие train_test_split для разбивки тестовых данных\n",
    "# выделим 20% данных на валидацию (параметр test_size)\n",
    "X_train, X_test, y_train, y_test = train_test_split(X, y, test_size=0.2, random_state=RANDOM_SEED)"
   ]
  },
  {
   "cell_type": "code",
   "execution_count": 46,
   "metadata": {},
   "outputs": [
    {
     "data": {
      "text/plain": [
       "((10000, 38), (40000, 38), (40000, 37), (32000, 37), (8000, 37))"
      ]
     },
     "execution_count": 46,
     "metadata": {},
     "output_type": "execute_result"
    }
   ],
   "source": [
    "# проверяем\n",
    "test_data.shape, train_data.shape, X.shape, X_train.shape, X_test.shape"
   ]
  },
  {
   "cell_type": "markdown",
   "metadata": {},
   "source": [
    "# Model \n",
    "Сам ML"
   ]
  },
  {
   "cell_type": "code",
   "execution_count": 47,
   "metadata": {},
   "outputs": [],
   "source": [
    "# Импортируем необходимые библиотеки:\n",
    "from sklearn.ensemble import RandomForestRegressor # инструмент для создания и обучения модели\n",
    "from sklearn import metrics # инструменты для оценки точности модели"
   ]
  },
  {
   "cell_type": "code",
   "execution_count": 48,
   "metadata": {},
   "outputs": [],
   "source": [
    "# Создаём модель (НАСТРОЙКИ НЕ ТРОГАЕМ)\n",
    "model = RandomForestRegressor(n_estimators=100, verbose=1, n_jobs=-1, random_state=RANDOM_SEED)"
   ]
  },
  {
   "cell_type": "code",
   "execution_count": 49,
   "metadata": {},
   "outputs": [
    {
     "name": "stderr",
     "output_type": "stream",
     "text": [
      "[Parallel(n_jobs=-1)]: Using backend ThreadingBackend with 4 concurrent workers.\n",
      "[Parallel(n_jobs=-1)]: Done  42 tasks      | elapsed:    2.7s\n",
      "[Parallel(n_jobs=-1)]: Done 100 out of 100 | elapsed:    6.2s finished\n",
      "[Parallel(n_jobs=4)]: Using backend ThreadingBackend with 4 concurrent workers.\n",
      "[Parallel(n_jobs=4)]: Done  42 tasks      | elapsed:    0.0s\n",
      "[Parallel(n_jobs=4)]: Done 100 out of 100 | elapsed:    0.0s finished\n"
     ]
    }
   ],
   "source": [
    "# Обучаем модель на тестовом наборе данных\n",
    "model.fit(X_train, y_train)\n",
    "\n",
    "# Используем обученную модель для предсказания рейтинга ресторанов в тестовой выборке.\n",
    "# Предсказанные значения записываем в переменную y_pred\n",
    "y_pred = model.predict(X_test)"
   ]
  },
  {
   "cell_type": "code",
   "execution_count": 50,
   "metadata": {},
   "outputs": [
    {
     "name": "stdout",
     "output_type": "stream",
     "text": [
      "MAE: 0.201175\n"
     ]
    }
   ],
   "source": [
    "# Сравниваем предсказанные значения (y_pred) с реальными (y_test), и смотрим насколько они в среднем отличаются\n",
    "# Метрика называется Mean Absolute Error (MAE) и показывает среднее отклонение предсказанных значений от фактических.\n",
    "print('MAE:', metrics.mean_absolute_error(y_test, y_pred))"
   ]
  },
  {
   "cell_type": "code",
   "execution_count": 51,
   "metadata": {},
   "outputs": [
    {
     "data": {
      "text/plain": [
       "<matplotlib.axes._subplots.AxesSubplot at 0x12e22d90>"
      ]
     },
     "execution_count": 51,
     "metadata": {},
     "output_type": "execute_result"
    },
    {
     "data": {
      "image/png": "[encoded data removed]",
      "text/plain": [
       "<Figure size 720x720 with 1 Axes>"
      ]
     },
     "metadata": {
      "needs_background": "light"
     },
     "output_type": "display_data"
    }
   ],
   "source": [
    "# в RandomForestRegressor есть возможность вывести самые важные признаки для модели\n",
    "plt.rcParams['figure.figsize'] = (10,10)\n",
    "feat_importances = pd.Series(model.feature_importances_, index=X.columns)\n",
    "feat_importances.nlargest(15).plot(kind='barh')"
   ]
  },
  {
   "cell_type": "markdown",
   "metadata": {},
   "source": [
    "# Что можно было сделать, чтоб улучшить результат:\n",
    "* Я никак не парсил сайт трипадвизора, потому что не умею.\n",
    "* Не разобрался когда надо делать dummy-переменные, у меня получается что они либо никак не влияют, либо влияют мало\n",
    "* Почему-то у меня получилось, что признаки, которые коррелируют с переменной достаточно сильно, на модель влияют слабо\n"
   ]
  },
  {
   "cell_type": "code",
   "execution_count": null,
   "metadata": {},
   "outputs": [],
   "source": []
  }
 ],
 "metadata": {
  "kernelspec": {
   "display_name": "Python 3",
   "language": "python",
   "name": "python3"
  },
  "language_info": {
   "codemirror_mode": {
    "name": "ipython",
    "version": 3
   },
   "file_extension": ".py",
   "mimetype": "text/x-python",
   "name": "python",
   "nbconvert_exporter": "python",
   "pygments_lexer": "ipython3",
   "version": "3.8.3"
  }
 },
 "nbformat": 4,
 "nbformat_minor": 4
}
