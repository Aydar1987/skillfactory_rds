{
 "cells": [
  {
   "cell_type": "markdown",
   "metadata": {
    "papermill": {
     "duration": 0.044093,
     "end_time": "2021-02-28T15:46:13.487819",
     "exception": false,
     "start_time": "2021-02-28T15:46:13.443726",
     "status": "completed"
    },
    "tags": []
   },
   "source": [
    "## Импорт библиотек"
   ]
  },
  {
   "cell_type": "code",
   "execution_count": 1,
   "metadata": {
    "execution": {
     "iopub.execute_input": "2021-02-28T15:46:13.579959Z",
     "iopub.status.busy": "2021-02-28T15:46:13.579214Z",
     "iopub.status.idle": "2021-02-28T15:46:14.994497Z",
     "shell.execute_reply": "2021-02-28T15:46:14.993268Z"
    },
    "papermill": {
     "duration": 1.463577,
     "end_time": "2021-02-28T15:46:14.994729",
     "exception": false,
     "start_time": "2021-02-28T15:46:13.531152",
     "status": "completed"
    },
    "tags": []
   },
   "outputs": [],
   "source": [
    "\n",
    "from pandas import Series\n",
    "import pandas as pd\n",
    "import numpy as np\n",
    "\n",
    "\n",
    "import matplotlib.pyplot as plt\n",
    "import seaborn as sns\n",
    "\n",
    "from sklearn.feature_selection import f_classif, mutual_info_classif\n",
    "from sklearn.preprocessing import LabelEncoder, OneHotEncoder, StandardScaler\n",
    "\n",
    "from sklearn.model_selection import train_test_split\n",
    "from sklearn.linear_model import LogisticRegression\n",
    "\n",
    "\n",
    "from sklearn.metrics import confusion_matrix\n",
    "from sklearn.metrics import auc, roc_auc_score, roc_curve, accuracy_score, f1_score"
   ]
  },
  {
   "cell_type": "markdown",
   "metadata": {
    "papermill": {
     "duration": 0.041465,
     "end_time": "2021-02-28T15:46:15.077984",
     "exception": false,
     "start_time": "2021-02-28T15:46:15.036519",
     "status": "completed"
    },
    "tags": []
   },
   "source": [
    "## Загрузка данных"
   ]
  },
  {
   "cell_type": "code",
   "execution_count": 2,
   "metadata": {
    "execution": {
     "iopub.execute_input": "2021-02-28T15:46:15.169139Z",
     "iopub.status.busy": "2021-02-28T15:46:15.168427Z",
     "iopub.status.idle": "2021-02-28T15:46:15.466605Z",
     "shell.execute_reply": "2021-02-28T15:46:15.467181Z"
    },
    "papermill": {
     "duration": 0.346283,
     "end_time": "2021-02-28T15:46:15.467370",
     "exception": false,
     "start_time": "2021-02-28T15:46:15.121087",
     "status": "completed"
    },
    "tags": []
   },
   "outputs": [
    {
     "name": "stdout",
     "output_type": "stream",
     "text": [
      "<class 'pandas.core.frame.DataFrame'>\n",
      "RangeIndex: 73799 entries, 0 to 73798\n",
      "Data columns (total 19 columns):\n",
      " #   Column            Non-Null Count  Dtype  \n",
      "---  ------            --------------  -----  \n",
      " 0   client_id         73799 non-null  int64  \n",
      " 1   app_date          73799 non-null  object \n",
      " 2   education         73492 non-null  object \n",
      " 3   sex               73799 non-null  object \n",
      " 4   age               73799 non-null  int64  \n",
      " 5   car               73799 non-null  object \n",
      " 6   car_type          73799 non-null  object \n",
      " 7   decline_app_cnt   73799 non-null  int64  \n",
      " 8   good_work         73799 non-null  int64  \n",
      " 9   score_bki         73799 non-null  float64\n",
      " 10  bki_request_cnt   73799 non-null  int64  \n",
      " 11  region_rating     73799 non-null  int64  \n",
      " 12  home_address      73799 non-null  int64  \n",
      " 13  work_address      73799 non-null  int64  \n",
      " 14  income            73799 non-null  int64  \n",
      " 15  sna               73799 non-null  int64  \n",
      " 16  first_time        73799 non-null  int64  \n",
      " 17  foreign_passport  73799 non-null  object \n",
      " 18  default           73799 non-null  int64  \n",
      "dtypes: float64(1), int64(12), object(6)\n",
      "memory usage: 10.7+ MB\n"
     ]
    }
   ],
   "source": [
    "train = pd.read_csv('train.csv')\n",
    "train.info()"
   ]
  },
  {
   "cell_type": "code",
   "execution_count": 3,
   "metadata": {
    "execution": {
     "iopub.execute_input": "2021-02-28T15:46:15.558588Z",
     "iopub.status.busy": "2021-02-28T15:46:15.557705Z",
     "iopub.status.idle": "2021-02-28T15:46:15.691067Z",
     "shell.execute_reply": "2021-02-28T15:46:15.691811Z"
    },
    "papermill": {
     "duration": 0.182333,
     "end_time": "2021-02-28T15:46:15.692046",
     "exception": false,
     "start_time": "2021-02-28T15:46:15.509713",
     "status": "completed"
    },
    "tags": []
   },
   "outputs": [
    {
     "name": "stdout",
     "output_type": "stream",
     "text": [
      "<class 'pandas.core.frame.DataFrame'>\n",
      "RangeIndex: 36349 entries, 0 to 36348\n",
      "Data columns (total 18 columns):\n",
      " #   Column            Non-Null Count  Dtype  \n",
      "---  ------            --------------  -----  \n",
      " 0   client_id         36349 non-null  int64  \n",
      " 1   app_date          36349 non-null  object \n",
      " 2   education         36178 non-null  object \n",
      " 3   sex               36349 non-null  object \n",
      " 4   age               36349 non-null  int64  \n",
      " 5   car               36349 non-null  object \n",
      " 6   car_type          36349 non-null  object \n",
      " 7   decline_app_cnt   36349 non-null  int64  \n",
      " 8   good_work         36349 non-null  int64  \n",
      " 9   score_bki         36349 non-null  float64\n",
      " 10  bki_request_cnt   36349 non-null  int64  \n",
      " 11  region_rating     36349 non-null  int64  \n",
      " 12  home_address      36349 non-null  int64  \n",
      " 13  work_address      36349 non-null  int64  \n",
      " 14  income            36349 non-null  int64  \n",
      " 15  sna               36349 non-null  int64  \n",
      " 16  first_time        36349 non-null  int64  \n",
      " 17  foreign_passport  36349 non-null  object \n",
      "dtypes: float64(1), int64(11), object(6)\n",
      "memory usage: 5.0+ MB\n"
     ]
    }
   ],
   "source": [
    "test = pd.read_csv('test.csv')\n",
    "test.info()"
   ]
  },
  {
   "cell_type": "code",
   "execution_count": 4,
   "metadata": {
    "execution": {
     "iopub.execute_input": "2021-02-28T15:46:15.782264Z",
     "iopub.status.busy": "2021-02-28T15:46:15.781616Z",
     "iopub.status.idle": "2021-02-28T15:46:15.791125Z",
     "shell.execute_reply": "2021-02-28T15:46:15.791637Z"
    },
    "papermill": {
     "duration": 0.056025,
     "end_time": "2021-02-28T15:46:15.791805",
     "exception": false,
     "start_time": "2021-02-28T15:46:15.735780",
     "status": "completed"
    },
    "tags": []
   },
   "outputs": [
    {
     "data": {
      "text/plain": [
       "0    64427\n",
       "1     9372\n",
       "Name: default, dtype: int64"
      ]
     },
     "execution_count": 4,
     "metadata": {},
     "output_type": "execute_result"
    }
   ],
   "source": [
    "train['default'].value_counts()"
   ]
  },
  {
   "cell_type": "markdown",
   "metadata": {
    "papermill": {
     "duration": 0.042514,
     "end_time": "2021-02-28T15:46:15.877068",
     "exception": false,
     "start_time": "2021-02-28T15:46:15.834554",
     "status": "completed"
    },
    "tags": []
   },
   "source": [
    "## oversampling"
   ]
  },
  {
   "cell_type": "code",
   "execution_count": 5,
   "metadata": {
    "execution": {
     "iopub.execute_input": "2021-02-28T15:46:15.966206Z",
     "iopub.status.busy": "2021-02-28T15:46:15.965535Z",
     "iopub.status.idle": "2021-02-28T15:46:16.246430Z",
     "shell.execute_reply": "2021-02-28T15:46:16.245718Z"
    },
    "papermill": {
     "duration": 0.326634,
     "end_time": "2021-02-28T15:46:16.246576",
     "exception": false,
     "start_time": "2021-02-28T15:46:15.919942",
     "status": "completed"
    },
    "tags": []
   },
   "outputs": [],
   "source": [
    "# Выборка сильно смещена, для балансировки применим\n",
    "train_def = train[train['default'] == 1]\n",
    "for i in range(6):\n",
    "    train = train.append(train_def).reset_index(drop=True)"
   ]
  },
  {
   "cell_type": "code",
   "execution_count": 6,
   "metadata": {
    "execution": {
     "iopub.execute_input": "2021-02-28T15:46:16.339108Z",
     "iopub.status.busy": "2021-02-28T15:46:16.338089Z",
     "iopub.status.idle": "2021-02-28T15:46:16.345697Z",
     "shell.execute_reply": "2021-02-28T15:46:16.346168Z"
    },
    "papermill": {
     "duration": 0.056213,
     "end_time": "2021-02-28T15:46:16.346366",
     "exception": false,
     "start_time": "2021-02-28T15:46:16.290153",
     "status": "completed"
    },
    "tags": []
   },
   "outputs": [
    {
     "data": {
      "text/plain": [
       "1    65604\n",
       "0    64427\n",
       "Name: default, dtype: int64"
      ]
     },
     "execution_count": 6,
     "metadata": {},
     "output_type": "execute_result"
    }
   ],
   "source": [
    "train['default'].value_counts() # проверяем, сбалансировались ли данные"
   ]
  },
  {
   "cell_type": "markdown",
   "metadata": {
    "papermill": {
     "duration": 0.043336,
     "end_time": "2021-02-28T15:46:16.433111",
     "exception": false,
     "start_time": "2021-02-28T15:46:16.389775",
     "status": "completed"
    },
    "tags": []
   },
   "source": [
    "## Работа с пропусками"
   ]
  },
  {
   "cell_type": "code",
   "execution_count": 7,
   "metadata": {
    "execution": {
     "iopub.execute_input": "2021-02-28T15:46:16.565744Z",
     "iopub.status.busy": "2021-02-28T15:46:16.564995Z",
     "iopub.status.idle": "2021-02-28T15:46:16.619568Z",
     "shell.execute_reply": "2021-02-28T15:46:16.618683Z"
    },
    "papermill": {
     "duration": 0.142277,
     "end_time": "2021-02-28T15:46:16.619794",
     "exception": false,
     "start_time": "2021-02-28T15:46:16.477517",
     "status": "completed"
    },
    "tags": []
   },
   "outputs": [
    {
     "data": {
      "text/plain": [
       "client_id             0\n",
       "app_date              0\n",
       "education           517\n",
       "sex                   0\n",
       "age                   0\n",
       "car                   0\n",
       "car_type              0\n",
       "decline_app_cnt       0\n",
       "good_work             0\n",
       "score_bki             0\n",
       "bki_request_cnt       0\n",
       "region_rating         0\n",
       "home_address          0\n",
       "work_address          0\n",
       "income                0\n",
       "sna                   0\n",
       "first_time            0\n",
       "foreign_passport      0\n",
       "default               0\n",
       "dtype: int64"
      ]
     },
     "execution_count": 7,
     "metadata": {},
     "output_type": "execute_result"
    }
   ],
   "source": [
    "train.isnull().sum()"
   ]
  },
  {
   "cell_type": "code",
   "execution_count": 8,
   "metadata": {
    "execution": {
     "iopub.execute_input": "2021-02-28T15:46:16.734399Z",
     "iopub.status.busy": "2021-02-28T15:46:16.733623Z",
     "iopub.status.idle": "2021-02-28T15:46:16.775347Z",
     "shell.execute_reply": "2021-02-28T15:46:16.774768Z"
    },
    "papermill": {
     "duration": 0.100998,
     "end_time": "2021-02-28T15:46:16.775520",
     "exception": false,
     "start_time": "2021-02-28T15:46:16.674522",
     "status": "completed"
    },
    "tags": []
   },
   "outputs": [
    {
     "data": {
      "text/plain": [
       "client_id             0\n",
       "app_date              0\n",
       "education           171\n",
       "sex                   0\n",
       "age                   0\n",
       "car                   0\n",
       "car_type              0\n",
       "decline_app_cnt       0\n",
       "good_work             0\n",
       "score_bki             0\n",
       "bki_request_cnt       0\n",
       "region_rating         0\n",
       "home_address          0\n",
       "work_address          0\n",
       "income                0\n",
       "sna                   0\n",
       "first_time            0\n",
       "foreign_passport      0\n",
       "dtype: int64"
      ]
     },
     "execution_count": 8,
     "metadata": {},
     "output_type": "execute_result"
    }
   ],
   "source": [
    "test.isnull().sum()"
   ]
  },
  {
   "cell_type": "markdown",
   "metadata": {
    "papermill": {
     "duration": 0.045942,
     "end_time": "2021-02-28T15:46:16.866068",
     "exception": false,
     "start_time": "2021-02-28T15:46:16.820126",
     "status": "completed"
    },
    "tags": []
   },
   "source": [
    "Пропуски есть только в столбце с образованием"
   ]
  },
  {
   "cell_type": "code",
   "execution_count": 9,
   "metadata": {
    "execution": {
     "iopub.execute_input": "2021-02-28T15:46:16.990837Z",
     "iopub.status.busy": "2021-02-28T15:46:16.977522Z",
     "iopub.status.idle": "2021-02-28T15:46:17.175640Z",
     "shell.execute_reply": "2021-02-28T15:46:17.176191Z"
    },
    "papermill": {
     "duration": 0.26513,
     "end_time": "2021-02-28T15:46:17.176380",
     "exception": false,
     "start_time": "2021-02-28T15:46:16.911250",
     "status": "completed"
    },
    "tags": []
   },
   "outputs": [
    {
     "data": {
      "text/plain": [
       "<matplotlib.axes._subplots.AxesSubplot at 0xbabd820>"
      ]
     },
     "execution_count": 9,
     "metadata": {},
     "output_type": "execute_result"
    },
    {
     "data": {
      "image/png": "[encoded data removed]",
      "text/plain": [
       "<Figure size 432x288 with 1 Axes>"
      ]
     },
     "metadata": {
      "needs_background": "light"
     },
     "output_type": "display_data"
    }
   ],
   "source": [
    "train['education'].value_counts().plot.barh()"
   ]
  },
  {
   "cell_type": "code",
   "execution_count": 10,
   "metadata": {
    "execution": {
     "iopub.execute_input": "2021-02-28T15:46:17.271633Z",
     "iopub.status.busy": "2021-02-28T15:46:17.270633Z",
     "iopub.status.idle": "2021-02-28T15:46:17.420214Z",
     "shell.execute_reply": "2021-02-28T15:46:17.420809Z"
    },
    "papermill": {
     "duration": 0.19861,
     "end_time": "2021-02-28T15:46:17.420986",
     "exception": false,
     "start_time": "2021-02-28T15:46:17.222376",
     "status": "completed"
    },
    "tags": []
   },
   "outputs": [
    {
     "data": {
      "text/plain": [
       "<matplotlib.axes._subplots.AxesSubplot at 0xbb30ac0>"
      ]
     },
     "execution_count": 10,
     "metadata": {},
     "output_type": "execute_result"
    },
    {
     "data": {
      "image/png": "[encoded data removed]",
      "text/plain": [
       "<Figure size 432x288 with 1 Axes>"
      ]
     },
     "metadata": {
      "needs_background": "light"
     },
     "output_type": "display_data"
    }
   ],
   "source": [
    "test['education'].value_counts().plot.barh()"
   ]
  },
  {
   "cell_type": "markdown",
   "metadata": {
    "papermill": {
     "duration": 0.046439,
     "end_time": "2021-02-28T15:46:17.513677",
     "exception": false,
     "start_time": "2021-02-28T15:46:17.467238",
     "status": "completed"
    },
    "tags": []
   },
   "source": [
    "И в тестовом и в тренировочном датасете пропусков немного, заменим их на самое часто встречающееся значение - 'SCH'"
   ]
  },
  {
   "cell_type": "code",
   "execution_count": 11,
   "metadata": {
    "execution": {
     "iopub.execute_input": "2021-02-28T15:46:17.612934Z",
     "iopub.status.busy": "2021-02-28T15:46:17.611956Z",
     "iopub.status.idle": "2021-02-28T15:46:17.638204Z",
     "shell.execute_reply": "2021-02-28T15:46:17.637632Z"
    },
    "papermill": {
     "duration": 0.076513,
     "end_time": "2021-02-28T15:46:17.638375",
     "exception": false,
     "start_time": "2021-02-28T15:46:17.561862",
     "status": "completed"
    },
    "tags": []
   },
   "outputs": [],
   "source": [
    "train['education'] = train['education'].fillna('SCH')\n",
    "test['education'] = test['education'].fillna('SCH')"
   ]
  },
  {
   "cell_type": "markdown",
   "metadata": {
    "papermill": {
     "duration": 0.046436,
     "end_time": "2021-02-28T15:46:17.732094",
     "exception": false,
     "start_time": "2021-02-28T15:46:17.685658",
     "status": "completed"
    },
    "tags": []
   },
   "source": [
    "## Преобразуем столбец с датами"
   ]
  },
  {
   "cell_type": "code",
   "execution_count": 12,
   "metadata": {
    "execution": {
     "iopub.execute_input": "2021-02-28T15:46:17.832386Z",
     "iopub.status.busy": "2021-02-28T15:46:17.831640Z",
     "iopub.status.idle": "2021-02-28T15:46:17.835265Z",
     "shell.execute_reply": "2021-02-28T15:46:17.835924Z"
    },
    "papermill": {
     "duration": 0.057286,
     "end_time": "2021-02-28T15:46:17.836102",
     "exception": false,
     "start_time": "2021-02-28T15:46:17.778816",
     "status": "completed"
    },
    "tags": []
   },
   "outputs": [
    {
     "data": {
      "text/plain": [
       "0    01FEB2014\n",
       "1    12MAR2014\n",
       "2    01FEB2014\n",
       "3    23JAN2014\n",
       "4    18APR2014\n",
       "Name: app_date, dtype: object"
      ]
     },
     "execution_count": 12,
     "metadata": {},
     "output_type": "execute_result"
    }
   ],
   "source": [
    "train['app_date'].head()"
   ]
  },
  {
   "cell_type": "code",
   "execution_count": 13,
   "metadata": {
    "execution": {
     "iopub.execute_input": "2021-02-28T15:46:17.946557Z",
     "iopub.status.busy": "2021-02-28T15:46:17.945568Z",
     "iopub.status.idle": "2021-02-28T15:46:17.985353Z",
     "shell.execute_reply": "2021-02-28T15:46:17.984571Z"
    },
    "papermill": {
     "duration": 0.101731,
     "end_time": "2021-02-28T15:46:17.985532",
     "exception": false,
     "start_time": "2021-02-28T15:46:17.883801",
     "status": "completed"
    },
    "tags": []
   },
   "outputs": [],
   "source": [
    "train['app_date'] = pd.to_datetime(train['app_date'])"
   ]
  },
  {
   "cell_type": "code",
   "execution_count": 14,
   "metadata": {
    "execution": {
     "iopub.execute_input": "2021-02-28T15:46:18.089292Z",
     "iopub.status.busy": "2021-02-28T15:46:18.088635Z",
     "iopub.status.idle": "2021-02-28T15:46:18.094982Z",
     "shell.execute_reply": "2021-02-28T15:46:18.094321Z"
    },
    "papermill": {
     "duration": 0.060246,
     "end_time": "2021-02-28T15:46:18.095123",
     "exception": false,
     "start_time": "2021-02-28T15:46:18.034877",
     "status": "completed"
    },
    "tags": []
   },
   "outputs": [
    {
     "data": {
      "text/plain": [
       "Timestamp('2014-04-30 00:00:00')"
      ]
     },
     "execution_count": 14,
     "metadata": {},
     "output_type": "execute_result"
    }
   ],
   "source": [
    "train['app_date'].max()  "
   ]
  },
  {
   "cell_type": "code",
   "execution_count": 15,
   "metadata": {
    "execution": {
     "iopub.execute_input": "2021-02-28T15:46:18.199209Z",
     "iopub.status.busy": "2021-02-28T15:46:18.198570Z",
     "iopub.status.idle": "2021-02-28T15:46:18.219535Z",
     "shell.execute_reply": "2021-02-28T15:46:18.220044Z"
    },
    "papermill": {
     "duration": 0.076968,
     "end_time": "2021-02-28T15:46:18.220233",
     "exception": false,
     "start_time": "2021-02-28T15:46:18.143265",
     "status": "completed"
    },
    "tags": []
   },
   "outputs": [],
   "source": [
    "test['app_date'] = pd.to_datetime(test['app_date'])"
   ]
  },
  {
   "cell_type": "code",
   "execution_count": 16,
   "metadata": {
    "execution": {
     "iopub.execute_input": "2021-02-28T15:46:18.322564Z",
     "iopub.status.busy": "2021-02-28T15:46:18.321727Z",
     "iopub.status.idle": "2021-02-28T15:46:18.325178Z",
     "shell.execute_reply": "2021-02-28T15:46:18.325640Z"
    },
    "papermill": {
     "duration": 0.05737,
     "end_time": "2021-02-28T15:46:18.325812",
     "exception": false,
     "start_time": "2021-02-28T15:46:18.268442",
     "status": "completed"
    },
    "tags": []
   },
   "outputs": [
    {
     "data": {
      "text/plain": [
       "Timestamp('2014-04-30 00:00:00')"
      ]
     },
     "execution_count": 16,
     "metadata": {},
     "output_type": "execute_result"
    }
   ],
   "source": [
    "test['app_date'].max()"
   ]
  },
  {
   "cell_type": "markdown",
   "metadata": {
    "papermill": {
     "duration": 0.047891,
     "end_time": "2021-02-28T15:46:18.422118",
     "exception": false,
     "start_time": "2021-02-28T15:46:18.374227",
     "status": "completed"
    },
    "tags": []
   },
   "source": [
    "### Новые признаки: месяц и разница в днях с последней заявкой из датасета"
   ]
  },
  {
   "cell_type": "code",
   "execution_count": 17,
   "metadata": {
    "execution": {
     "iopub.execute_input": "2021-02-28T15:46:18.522613Z",
     "iopub.status.busy": "2021-02-28T15:46:18.521794Z",
     "iopub.status.idle": "2021-02-28T15:46:18.546574Z",
     "shell.execute_reply": "2021-02-28T15:46:18.547123Z"
    },
    "papermill": {
     "duration": 0.077051,
     "end_time": "2021-02-28T15:46:18.547325",
     "exception": false,
     "start_time": "2021-02-28T15:46:18.470274",
     "status": "completed"
    },
    "tags": []
   },
   "outputs": [],
   "source": [
    "train['month'] = train['app_date'].dt.month\n",
    "test['month'] = test['app_date'].dt.month"
   ]
  },
  {
   "cell_type": "code",
   "execution_count": 18,
   "metadata": {
    "execution": {
     "iopub.execute_input": "2021-02-28T15:46:18.649069Z",
     "iopub.status.busy": "2021-02-28T15:46:18.648359Z",
     "iopub.status.idle": "2021-02-28T15:46:18.660680Z",
     "shell.execute_reply": "2021-02-28T15:46:18.660055Z"
    },
    "papermill": {
     "duration": 0.064094,
     "end_time": "2021-02-28T15:46:18.660823",
     "exception": false,
     "start_time": "2021-02-28T15:46:18.596729",
     "status": "completed"
    },
    "tags": []
   },
   "outputs": [],
   "source": [
    "test['app_date'] = (test['app_date'].max() - test['app_date']).dt.days\n",
    "train['app_date'] = (train['app_date'].max() - train['app_date']).dt.days"
   ]
  },
  {
   "cell_type": "markdown",
   "metadata": {
    "papermill": {
     "duration": 0.04883,
     "end_time": "2021-02-28T15:46:18.758607",
     "exception": false,
     "start_time": "2021-02-28T15:46:18.709777",
     "status": "completed"
    },
    "tags": []
   },
   "source": [
    "Пробовал создавать признак - день недели, но он только ухудшает модень"
   ]
  },
  {
   "cell_type": "markdown",
   "metadata": {
    "papermill": {
     "duration": 0.049146,
     "end_time": "2021-02-28T15:46:18.857265",
     "exception": false,
     "start_time": "2021-02-28T15:46:18.808119",
     "status": "completed"
    },
    "tags": []
   },
   "source": [
    "## Работа с численными признаками"
   ]
  },
  {
   "cell_type": "markdown",
   "metadata": {
    "papermill": {
     "duration": 0.048801,
     "end_time": "2021-02-28T15:46:18.956154",
     "exception": false,
     "start_time": "2021-02-28T15:46:18.907353",
     "status": "completed"
    },
    "tags": []
   },
   "source": []
  },
  {
   "cell_type": "code",
   "execution_count": 19,
   "metadata": {
    "execution": {
     "iopub.execute_input": "2021-02-28T15:46:19.058881Z",
     "iopub.status.busy": "2021-02-28T15:46:19.058181Z",
     "iopub.status.idle": "2021-02-28T15:46:19.211904Z",
     "shell.execute_reply": "2021-02-28T15:46:19.211328Z"
    },
    "papermill": {
     "duration": 0.206134,
     "end_time": "2021-02-28T15:46:19.212078",
     "exception": false,
     "start_time": "2021-02-28T15:46:19.005944",
     "status": "completed"
    },
    "tags": []
   },
   "outputs": [
    {
     "data": {
      "text/plain": [
       "<matplotlib.axes._subplots.AxesSubplot at 0xbc55340>"
      ]
     },
     "execution_count": 19,
     "metadata": {},
     "output_type": "execute_result"
    },
    {
     "data": {
      "image/png": "[encoded data removed]",
      "text/plain": [
       "<Figure size 432x288 with 1 Axes>"
      ]
     },
     "metadata": {
      "needs_background": "light"
     },
     "output_type": "display_data"
    }
   ],
   "source": [
    "sns.boxplot(x = 'default', y = 'age', data = train)"
   ]
  },
  {
   "cell_type": "code",
   "execution_count": 20,
   "metadata": {
    "execution": {
     "iopub.execute_input": "2021-02-28T15:46:19.319039Z",
     "iopub.status.busy": "2021-02-28T15:46:19.318343Z",
     "iopub.status.idle": "2021-02-28T15:46:19.496272Z",
     "shell.execute_reply": "2021-02-28T15:46:19.496769Z"
    },
    "papermill": {
     "duration": 0.234657,
     "end_time": "2021-02-28T15:46:19.497037",
     "exception": false,
     "start_time": "2021-02-28T15:46:19.262380",
     "status": "completed"
    },
    "tags": []
   },
   "outputs": [
    {
     "data": {
      "text/plain": [
       "<matplotlib.axes._subplots.AxesSubplot at 0xc33c940>"
      ]
     },
     "execution_count": 20,
     "metadata": {},
     "output_type": "execute_result"
    },
    {
     "data": {
      "image/png": "[encoded data removed]",
      "text/plain": [
       "<Figure size 432x288 with 1 Axes>"
      ]
     },
     "metadata": {
      "needs_background": "light"
     },
     "output_type": "display_data"
    }
   ],
   "source": [
    "sns.boxplot(x = 'default', y = 'decline_app_cnt', data = train)"
   ]
  },
  {
   "cell_type": "code",
   "execution_count": 21,
   "metadata": {
    "execution": {
     "iopub.execute_input": "2021-02-28T15:46:19.606205Z",
     "iopub.status.busy": "2021-02-28T15:46:19.605533Z",
     "iopub.status.idle": "2021-02-28T15:46:19.763973Z",
     "shell.execute_reply": "2021-02-28T15:46:19.763368Z"
    },
    "papermill": {
     "duration": 0.214551,
     "end_time": "2021-02-28T15:46:19.764136",
     "exception": false,
     "start_time": "2021-02-28T15:46:19.549585",
     "status": "completed"
    },
    "tags": []
   },
   "outputs": [
    {
     "data": {
      "text/plain": [
       "<matplotlib.axes._subplots.AxesSubplot at 0xc3bd370>"
      ]
     },
     "execution_count": 21,
     "metadata": {},
     "output_type": "execute_result"
    },
    {
     "data": {
      "image/png": "[encoded data removed]",
      "text/plain": [
       "<Figure size 432x288 with 1 Axes>"
      ]
     },
     "metadata": {
      "needs_background": "light"
     },
     "output_type": "display_data"
    }
   ],
   "source": [
    "sns.boxplot(x = 'default', y = 'bki_request_cnt', data = train)"
   ]
  },
  {
   "cell_type": "code",
   "execution_count": 22,
   "metadata": {
    "execution": {
     "iopub.execute_input": "2021-02-28T15:46:19.874541Z",
     "iopub.status.busy": "2021-02-28T15:46:19.873672Z",
     "iopub.status.idle": "2021-02-28T15:46:20.045600Z",
     "shell.execute_reply": "2021-02-28T15:46:20.044748Z"
    },
    "papermill": {
     "duration": 0.229372,
     "end_time": "2021-02-28T15:46:20.045758",
     "exception": false,
     "start_time": "2021-02-28T15:46:19.816386",
     "status": "completed"
    },
    "tags": []
   },
   "outputs": [
    {
     "data": {
      "text/plain": [
       "<matplotlib.axes._subplots.AxesSubplot at 0xc41e700>"
      ]
     },
     "execution_count": 22,
     "metadata": {},
     "output_type": "execute_result"
    },
    {
     "data": {
      "image/png": "[encoded data removed]",
      "text/plain": [
       "<Figure size 432x288 with 1 Axes>"
      ]
     },
     "metadata": {
      "needs_background": "light"
     },
     "output_type": "display_data"
    }
   ],
   "source": [
    "sns.boxplot(x = 'default', y = 'region_rating', data = train)"
   ]
  },
  {
   "cell_type": "code",
   "execution_count": 23,
   "metadata": {
    "execution": {
     "iopub.execute_input": "2021-02-28T15:46:20.160197Z",
     "iopub.status.busy": "2021-02-28T15:46:20.159064Z",
     "iopub.status.idle": "2021-02-28T15:46:20.322902Z",
     "shell.execute_reply": "2021-02-28T15:46:20.323453Z"
    },
    "papermill": {
     "duration": 0.223163,
     "end_time": "2021-02-28T15:46:20.323630",
     "exception": false,
     "start_time": "2021-02-28T15:46:20.100467",
     "status": "completed"
    },
    "tags": []
   },
   "outputs": [
    {
     "data": {
      "text/plain": [
       "<matplotlib.axes._subplots.AxesSubplot at 0xc352e20>"
      ]
     },
     "execution_count": 23,
     "metadata": {},
     "output_type": "execute_result"
    },
    {
     "data": {
      "image/png": "[encoded data removed]",
      "text/plain": [
       "<Figure size 432x288 with 1 Axes>"
      ]
     },
     "metadata": {
      "needs_background": "light"
     },
     "output_type": "display_data"
    }
   ],
   "source": [
    "sns.boxplot(x = 'default', y = 'score_bki', data = train)"
   ]
  },
  {
   "cell_type": "code",
   "execution_count": 24,
   "metadata": {
    "execution": {
     "iopub.execute_input": "2021-02-28T15:46:20.440866Z",
     "iopub.status.busy": "2021-02-28T15:46:20.440186Z",
     "iopub.status.idle": "2021-02-28T15:46:20.608404Z",
     "shell.execute_reply": "2021-02-28T15:46:20.608905Z"
    },
    "papermill": {
     "duration": 0.231208,
     "end_time": "2021-02-28T15:46:20.609165",
     "exception": false,
     "start_time": "2021-02-28T15:46:20.377957",
     "status": "completed"
    },
    "tags": []
   },
   "outputs": [
    {
     "data": {
      "text/plain": [
       "<matplotlib.axes._subplots.AxesSubplot at 0xbc58cd0>"
      ]
     },
     "execution_count": 24,
     "metadata": {},
     "output_type": "execute_result"
    },
    {
     "data": {
      "image/png": "[encoded data removed]",
      "text/plain": [
       "<Figure size 432x288 with 1 Axes>"
      ]
     },
     "metadata": {
      "needs_background": "light"
     },
     "output_type": "display_data"
    }
   ],
   "source": [
    "sns.boxplot(x = 'default', y = 'income', data = train)"
   ]
  },
  {
   "cell_type": "code",
   "execution_count": 25,
   "metadata": {
    "execution": {
     "iopub.execute_input": "2021-02-28T15:46:20.723751Z",
     "iopub.status.busy": "2021-02-28T15:46:20.722993Z",
     "iopub.status.idle": "2021-02-28T15:46:20.880460Z",
     "shell.execute_reply": "2021-02-28T15:46:20.879870Z"
    },
    "papermill": {
     "duration": 0.216071,
     "end_time": "2021-02-28T15:46:20.880604",
     "exception": false,
     "start_time": "2021-02-28T15:46:20.664533",
     "status": "completed"
    },
    "tags": []
   },
   "outputs": [
    {
     "data": {
      "text/plain": [
       "<matplotlib.axes._subplots.AxesSubplot at 0xd78abe0>"
      ]
     },
     "execution_count": 25,
     "metadata": {},
     "output_type": "execute_result"
    },
    {
     "data": {
      "image/png": "[encoded data removed]",
      "text/plain": [
       "<Figure size 432x288 with 1 Axes>"
      ]
     },
     "metadata": {
      "needs_background": "light"
     },
     "output_type": "display_data"
    }
   ],
   "source": [
    "sns.boxplot(x = 'default', y = 'app_date', data = train)"
   ]
  },
  {
   "cell_type": "markdown",
   "metadata": {
    "papermill": {
     "duration": 0.056864,
     "end_time": "2021-02-28T15:46:20.995726",
     "exception": false,
     "start_time": "2021-02-28T15:46:20.938862",
     "status": "completed"
    },
    "tags": []
   },
   "source": [
    "Выбросы есть, но удалять их не будем, т.к. все данные правдоподобные, и удаление плохо сказывается на модели"
   ]
  },
  {
   "cell_type": "markdown",
   "metadata": {
    "papermill": {
     "duration": 0.056564,
     "end_time": "2021-02-28T15:46:21.110950",
     "exception": false,
     "start_time": "2021-02-28T15:46:21.054386",
     "status": "completed"
    },
    "tags": []
   },
   "source": [
    "### Разделение признаков на типы "
   ]
  },
  {
   "cell_type": "code",
   "execution_count": 26,
   "metadata": {
    "execution": {
     "iopub.execute_input": "2021-02-28T15:46:21.230611Z",
     "iopub.status.busy": "2021-02-28T15:46:21.229789Z",
     "iopub.status.idle": "2021-02-28T15:46:21.232955Z",
     "shell.execute_reply": "2021-02-28T15:46:21.232468Z"
    },
    "papermill": {
     "duration": 0.065552,
     "end_time": "2021-02-28T15:46:21.233098",
     "exception": false,
     "start_time": "2021-02-28T15:46:21.167546",
     "status": "completed"
    },
    "tags": []
   },
   "outputs": [],
   "source": [
    "#Разделим все колонки по типам: бинарные, категориальные и числовые\n",
    "num_cols = ['age','decline_app_cnt','bki_request_cnt','income','score_bki','region_rating','app_date']\n",
    "bin_cols = ['sex', 'car', 'car_type', 'good_work', 'foreign_passport']\n",
    "cat_cols = ['education','home_address','work_address','sna','first_time', 'month']"
   ]
  },
  {
   "cell_type": "markdown",
   "metadata": {
    "papermill": {
     "duration": 0.056632,
     "end_time": "2021-02-28T15:46:21.346461",
     "exception": false,
     "start_time": "2021-02-28T15:46:21.289829",
     "status": "completed"
    },
    "tags": []
   },
   "source": [
    "### Гистограммы числовых признаков"
   ]
  },
  {
   "cell_type": "code",
   "execution_count": 27,
   "metadata": {
    "execution": {
     "iopub.execute_input": "2021-02-28T15:46:21.471981Z",
     "iopub.status.busy": "2021-02-28T15:46:21.471314Z",
     "iopub.status.idle": "2021-02-28T15:46:23.328253Z",
     "shell.execute_reply": "2021-02-28T15:46:23.327662Z"
    },
    "papermill": {
     "duration": 1.925263,
     "end_time": "2021-02-28T15:46:23.328413",
     "exception": false,
     "start_time": "2021-02-28T15:46:21.403150",
     "status": "completed"
    },
    "tags": []
   },
   "outputs": [
    {
     "data": {
      "image/png": "[encoded data removed]",
      "text/plain": [
       "<Figure size 1800x864 with 8 Axes>"
      ]
     },
     "metadata": {
      "needs_background": "light"
     },
     "output_type": "display_data"
    }
   ],
   "source": [
    "fig, axes = plt.subplots(2, 4, figsize=(25, 12))\n",
    "for col, i in zip(num_cols, range(7)):\n",
    "    sns.distplot(train[col], kde=False, ax=axes.flat[i])"
   ]
  },
  {
   "cell_type": "markdown",
   "metadata": {
    "papermill": {
     "duration": 0.05866,
     "end_time": "2021-02-28T15:46:23.446155",
     "exception": false,
     "start_time": "2021-02-28T15:46:23.387495",
     "status": "completed"
    },
    "tags": []
   },
   "source": [
    "Прологорифмируем признаки, значения которых сильно смещены влево"
   ]
  },
  {
   "cell_type": "code",
   "execution_count": 28,
   "metadata": {
    "execution": {
     "iopub.execute_input": "2021-02-28T15:46:23.578772Z",
     "iopub.status.busy": "2021-02-28T15:46:23.577863Z",
     "iopub.status.idle": "2021-02-28T15:46:24.817372Z",
     "shell.execute_reply": "2021-02-28T15:46:24.816696Z"
    },
    "papermill": {
     "duration": 1.312324,
     "end_time": "2021-02-28T15:46:24.817588",
     "exception": false,
     "start_time": "2021-02-28T15:46:23.505264",
     "status": "completed"
    },
    "tags": []
   },
   "outputs": [],
   "source": [
    "train['income_log'] = train['income'].apply(lambda x: np.log(x+1))\n",
    "train['decline_app_cnt_log'] = train['decline_app_cnt'].apply(lambda x: np.log(x+1))\n",
    "train['bki_request_cnt_log'] = train['bki_request_cnt'].apply(lambda x: np.log(x+1))\n",
    "test['income_log'] = test['income'].apply(lambda x: np.log(x+1))\n",
    "test['decline_app_cnt_log'] = test['decline_app_cnt'].apply(lambda x: np.log(x+1))\n",
    "test['bki_request_cnt_log'] = test['bki_request_cnt'].apply(lambda x: np.log(x+1))"
   ]
  },
  {
   "cell_type": "code",
   "execution_count": 29,
   "metadata": {
    "execution": {
     "iopub.execute_input": "2021-02-28T15:46:24.959374Z",
     "iopub.status.busy": "2021-02-28T15:46:24.956859Z",
     "iopub.status.idle": "2021-02-28T15:46:25.191543Z",
     "shell.execute_reply": "2021-02-28T15:46:25.190937Z"
    },
    "papermill": {
     "duration": 0.313631,
     "end_time": "2021-02-28T15:46:25.191692",
     "exception": false,
     "start_time": "2021-02-28T15:46:24.878061",
     "status": "completed"
    },
    "tags": []
   },
   "outputs": [
    {
     "data": {
      "text/plain": [
       "<matplotlib.axes._subplots.AxesSubplot at 0xddc0610>"
      ]
     },
     "execution_count": 29,
     "metadata": {},
     "output_type": "execute_result"
    },
    {
     "data": {
      "image/png": "[encoded data removed]",
      "text/plain": [
       "<Figure size 432x288 with 1 Axes>"
      ]
     },
     "metadata": {
      "needs_background": "light"
     },
     "output_type": "display_data"
    }
   ],
   "source": [
    "sns.distplot(train['income_log'], kde=False)"
   ]
  },
  {
   "cell_type": "code",
   "execution_count": 30,
   "metadata": {
    "execution": {
     "iopub.execute_input": "2021-02-28T15:46:25.336016Z",
     "iopub.status.busy": "2021-02-28T15:46:25.335014Z",
     "iopub.status.idle": "2021-02-28T15:46:25.560609Z",
     "shell.execute_reply": "2021-02-28T15:46:25.559380Z"
    },
    "papermill": {
     "duration": 0.309191,
     "end_time": "2021-02-28T15:46:25.560765",
     "exception": false,
     "start_time": "2021-02-28T15:46:25.251574",
     "status": "completed"
    },
    "tags": []
   },
   "outputs": [
    {
     "data": {
      "text/plain": [
       "<matplotlib.axes._subplots.AxesSubplot at 0xfc912e0>"
      ]
     },
     "execution_count": 30,
     "metadata": {},
     "output_type": "execute_result"
    },
    {
     "data": {
      "image/png": "[encoded data removed]",
      "text/plain": [
       "<Figure size 432x288 with 1 Axes>"
      ]
     },
     "metadata": {
      "needs_background": "light"
     },
     "output_type": "display_data"
    }
   ],
   "source": [
    "sns.distplot(train['decline_app_cnt_log'], kde=False)"
   ]
  },
  {
   "cell_type": "code",
   "execution_count": 31,
   "metadata": {
    "execution": {
     "iopub.execute_input": "2021-02-28T15:46:25.711126Z",
     "iopub.status.busy": "2021-02-28T15:46:25.710440Z",
     "iopub.status.idle": "2021-02-28T15:46:25.934885Z",
     "shell.execute_reply": "2021-02-28T15:46:25.935438Z"
    },
    "papermill": {
     "duration": 0.312832,
     "end_time": "2021-02-28T15:46:25.935613",
     "exception": false,
     "start_time": "2021-02-28T15:46:25.622781",
     "status": "completed"
    },
    "tags": []
   },
   "outputs": [
    {
     "data": {
      "text/plain": [
       "<matplotlib.axes._subplots.AxesSubplot at 0xdfa2a30>"
      ]
     },
     "execution_count": 31,
     "metadata": {},
     "output_type": "execute_result"
    },
    {
     "data": {
      "image/png": "[encoded data removed]",
      "text/plain": [
       "<Figure size 432x288 with 1 Axes>"
      ]
     },
     "metadata": {
      "needs_background": "light"
     },
     "output_type": "display_data"
    }
   ],
   "source": [
    "sns.distplot(train['bki_request_cnt_log'], kde=False)"
   ]
  },
  {
   "cell_type": "markdown",
   "metadata": {
    "papermill": {
     "duration": 0.064636,
     "end_time": "2021-02-28T15:46:26.062583",
     "exception": false,
     "start_time": "2021-02-28T15:46:25.997947",
     "status": "completed"
    },
    "tags": []
   },
   "source": [
    "Обновим список Числовых колонок"
   ]
  },
  {
   "cell_type": "code",
   "execution_count": 32,
   "metadata": {
    "execution": {
     "iopub.execute_input": "2021-02-28T15:46:26.191188Z",
     "iopub.status.busy": "2021-02-28T15:46:26.190272Z",
     "iopub.status.idle": "2021-02-28T15:46:26.195906Z",
     "shell.execute_reply": "2021-02-28T15:46:26.195243Z"
    },
    "papermill": {
     "duration": 0.071086,
     "end_time": "2021-02-28T15:46:26.196140",
     "exception": false,
     "start_time": "2021-02-28T15:46:26.125054",
     "status": "completed"
    },
    "tags": []
   },
   "outputs": [],
   "source": [
    "num_cols = ['age','decline_app_cnt_log','bki_request_cnt_log','income_log','score_bki','region_rating','app_date']"
   ]
  },
  {
   "cell_type": "markdown",
   "metadata": {
    "papermill": {
     "duration": 0.062854,
     "end_time": "2021-02-28T15:46:26.322882",
     "exception": false,
     "start_time": "2021-02-28T15:46:26.260028",
     "status": "completed"
    },
    "tags": []
   },
   "source": [
    "### Матрица корреляций"
   ]
  },
  {
   "cell_type": "code",
   "execution_count": 33,
   "metadata": {
    "execution": {
     "iopub.execute_input": "2021-02-28T15:46:26.454815Z",
     "iopub.status.busy": "2021-02-28T15:46:26.454128Z",
     "iopub.status.idle": "2021-02-28T15:46:26.779359Z",
     "shell.execute_reply": "2021-02-28T15:46:26.778802Z"
    },
    "papermill": {
     "duration": 0.393954,
     "end_time": "2021-02-28T15:46:26.779511",
     "exception": false,
     "start_time": "2021-02-28T15:46:26.385557",
     "status": "completed"
    },
    "tags": []
   },
   "outputs": [
    {
     "data": {
      "text/plain": [
       "<matplotlib.axes._subplots.AxesSubplot at 0xdca6970>"
      ]
     },
     "execution_count": 33,
     "metadata": {},
     "output_type": "execute_result"
    },
    {
     "data": {
      "image/png": "[encoded data removed]",
      "text/plain": [
       "<Figure size 432x288 with 2 Axes>"
      ]
     },
     "metadata": {
      "needs_background": "light"
     },
     "output_type": "display_data"
    }
   ],
   "source": [
    "sns.heatmap(train[num_cols].corr().abs(), vmin=0, vmax=1)"
   ]
  },
  {
   "cell_type": "markdown",
   "metadata": {
    "papermill": {
     "duration": 0.064699,
     "end_time": "2021-02-28T15:46:26.908934",
     "exception": false,
     "start_time": "2021-02-28T15:46:26.844235",
     "status": "completed"
    },
    "tags": []
   },
   "source": [
    "Сильно зависимых между собой признаков нет, удалять ничего не надо"
   ]
  },
  {
   "cell_type": "markdown",
   "metadata": {
    "papermill": {
     "duration": 0.064856,
     "end_time": "2021-02-28T15:46:27.037845",
     "exception": false,
     "start_time": "2021-02-28T15:46:26.972989",
     "status": "completed"
    },
    "tags": []
   },
   "source": [
    "### Значимость численных признаков"
   ]
  },
  {
   "cell_type": "code",
   "execution_count": 34,
   "metadata": {
    "execution": {
     "iopub.execute_input": "2021-02-28T15:46:27.179694Z",
     "iopub.status.busy": "2021-02-28T15:46:27.178440Z",
     "iopub.status.idle": "2021-02-28T15:46:27.350751Z",
     "shell.execute_reply": "2021-02-28T15:46:27.350170Z"
    },
    "papermill": {
     "duration": 0.247101,
     "end_time": "2021-02-28T15:46:27.350893",
     "exception": false,
     "start_time": "2021-02-28T15:46:27.103792",
     "status": "completed"
    },
    "tags": []
   },
   "outputs": [
    {
     "data": {
      "text/plain": [
       "<matplotlib.axes._subplots.AxesSubplot at 0xde07580>"
      ]
     },
     "execution_count": 34,
     "metadata": {},
     "output_type": "execute_result"
    },
    {
     "data": {
      "image/png": "[encoded data removed]",
      "text/plain": [
       "<Figure size 432x288 with 1 Axes>"
      ]
     },
     "metadata": {
      "needs_background": "light"
     },
     "output_type": "display_data"
    }
   ],
   "source": [
    "imp_num = Series(f_classif(train[num_cols], train['default'])[0], index = num_cols)\n",
    "imp_num.sort_values(inplace = True)\n",
    "imp_num.plot(kind = 'barh')"
   ]
  },
  {
   "cell_type": "markdown",
   "metadata": {
    "papermill": {
     "duration": 0.066059,
     "end_time": "2021-02-28T15:46:27.482688",
     "exception": false,
     "start_time": "2021-02-28T15:46:27.416629",
     "status": "completed"
    },
    "tags": []
   },
   "source": [
    "## Работа с бинарными и категориальными признаками"
   ]
  },
  {
   "cell_type": "code",
   "execution_count": 35,
   "metadata": {
    "execution": {
     "iopub.execute_input": "2021-02-28T15:46:27.646063Z",
     "iopub.status.busy": "2021-02-28T15:46:27.645061Z",
     "iopub.status.idle": "2021-02-28T15:46:27.932669Z",
     "shell.execute_reply": "2021-02-28T15:46:27.933180Z"
    },
    "papermill": {
     "duration": 0.384486,
     "end_time": "2021-02-28T15:46:27.933371",
     "exception": false,
     "start_time": "2021-02-28T15:46:27.548885",
     "status": "completed"
    },
    "tags": []
   },
   "outputs": [
    {
     "data": {
      "text/html": [
       "<div>\n",
       "<style scoped>\n",
       "    .dataframe tbody tr th:only-of-type {\n",
       "        vertical-align: middle;\n",
       "    }\n",
       "\n",
       "    .dataframe tbody tr th {\n",
       "        vertical-align: top;\n",
       "    }\n",
       "\n",
       "    .dataframe thead th {\n",
       "        text-align: right;\n",
       "    }\n",
       "</style>\n",
       "<table border=\"1\" class=\"dataframe\">\n",
       "  <thead>\n",
       "    <tr style=\"text-align: right;\">\n",
       "      <th></th>\n",
       "      <th>client_id</th>\n",
       "      <th>app_date</th>\n",
       "      <th>education</th>\n",
       "      <th>sex</th>\n",
       "      <th>age</th>\n",
       "      <th>car</th>\n",
       "      <th>car_type</th>\n",
       "      <th>decline_app_cnt</th>\n",
       "      <th>good_work</th>\n",
       "      <th>score_bki</th>\n",
       "      <th>...</th>\n",
       "      <th>work_address</th>\n",
       "      <th>income</th>\n",
       "      <th>sna</th>\n",
       "      <th>first_time</th>\n",
       "      <th>foreign_passport</th>\n",
       "      <th>default</th>\n",
       "      <th>month</th>\n",
       "      <th>income_log</th>\n",
       "      <th>decline_app_cnt_log</th>\n",
       "      <th>bki_request_cnt_log</th>\n",
       "    </tr>\n",
       "  </thead>\n",
       "  <tbody>\n",
       "    <tr>\n",
       "      <th>0</th>\n",
       "      <td>25905</td>\n",
       "      <td>88</td>\n",
       "      <td>SCH</td>\n",
       "      <td>1</td>\n",
       "      <td>62</td>\n",
       "      <td>1</td>\n",
       "      <td>1</td>\n",
       "      <td>0</td>\n",
       "      <td>0</td>\n",
       "      <td>-2.008753</td>\n",
       "      <td>...</td>\n",
       "      <td>2</td>\n",
       "      <td>18000</td>\n",
       "      <td>4</td>\n",
       "      <td>1</td>\n",
       "      <td>0</td>\n",
       "      <td>0</td>\n",
       "      <td>2</td>\n",
       "      <td>9.798183</td>\n",
       "      <td>0.000000</td>\n",
       "      <td>0.693147</td>\n",
       "    </tr>\n",
       "    <tr>\n",
       "      <th>1</th>\n",
       "      <td>63161</td>\n",
       "      <td>49</td>\n",
       "      <td>SCH</td>\n",
       "      <td>0</td>\n",
       "      <td>59</td>\n",
       "      <td>0</td>\n",
       "      <td>0</td>\n",
       "      <td>0</td>\n",
       "      <td>0</td>\n",
       "      <td>-1.532276</td>\n",
       "      <td>...</td>\n",
       "      <td>3</td>\n",
       "      <td>19000</td>\n",
       "      <td>4</td>\n",
       "      <td>1</td>\n",
       "      <td>0</td>\n",
       "      <td>0</td>\n",
       "      <td>3</td>\n",
       "      <td>9.852247</td>\n",
       "      <td>0.000000</td>\n",
       "      <td>1.386294</td>\n",
       "    </tr>\n",
       "    <tr>\n",
       "      <th>2</th>\n",
       "      <td>25887</td>\n",
       "      <td>88</td>\n",
       "      <td>SCH</td>\n",
       "      <td>1</td>\n",
       "      <td>25</td>\n",
       "      <td>1</td>\n",
       "      <td>0</td>\n",
       "      <td>2</td>\n",
       "      <td>0</td>\n",
       "      <td>-1.408142</td>\n",
       "      <td>...</td>\n",
       "      <td>2</td>\n",
       "      <td>30000</td>\n",
       "      <td>1</td>\n",
       "      <td>4</td>\n",
       "      <td>1</td>\n",
       "      <td>0</td>\n",
       "      <td>2</td>\n",
       "      <td>10.308986</td>\n",
       "      <td>1.098612</td>\n",
       "      <td>0.693147</td>\n",
       "    </tr>\n",
       "    <tr>\n",
       "      <th>3</th>\n",
       "      <td>16222</td>\n",
       "      <td>97</td>\n",
       "      <td>SCH</td>\n",
       "      <td>0</td>\n",
       "      <td>53</td>\n",
       "      <td>0</td>\n",
       "      <td>0</td>\n",
       "      <td>0</td>\n",
       "      <td>0</td>\n",
       "      <td>-2.057471</td>\n",
       "      <td>...</td>\n",
       "      <td>3</td>\n",
       "      <td>10000</td>\n",
       "      <td>1</td>\n",
       "      <td>3</td>\n",
       "      <td>0</td>\n",
       "      <td>0</td>\n",
       "      <td>1</td>\n",
       "      <td>9.210440</td>\n",
       "      <td>0.000000</td>\n",
       "      <td>1.098612</td>\n",
       "    </tr>\n",
       "    <tr>\n",
       "      <th>4</th>\n",
       "      <td>101655</td>\n",
       "      <td>12</td>\n",
       "      <td>GRD</td>\n",
       "      <td>1</td>\n",
       "      <td>48</td>\n",
       "      <td>0</td>\n",
       "      <td>0</td>\n",
       "      <td>0</td>\n",
       "      <td>1</td>\n",
       "      <td>-1.244723</td>\n",
       "      <td>...</td>\n",
       "      <td>3</td>\n",
       "      <td>30000</td>\n",
       "      <td>1</td>\n",
       "      <td>4</td>\n",
       "      <td>1</td>\n",
       "      <td>0</td>\n",
       "      <td>4</td>\n",
       "      <td>10.308986</td>\n",
       "      <td>0.000000</td>\n",
       "      <td>0.693147</td>\n",
       "    </tr>\n",
       "  </tbody>\n",
       "</table>\n",
       "<p>5 rows × 23 columns</p>\n",
       "</div>"
      ],
      "text/plain": [
       "   client_id  app_date education  sex  age  car  car_type  decline_app_cnt  \\\n",
       "0      25905        88       SCH    1   62    1         1                0   \n",
       "1      63161        49       SCH    0   59    0         0                0   \n",
       "2      25887        88       SCH    1   25    1         0                2   \n",
       "3      16222        97       SCH    0   53    0         0                0   \n",
       "4     101655        12       GRD    1   48    0         0                0   \n",
       "\n",
       "   good_work  score_bki  ...  work_address  income  sna  first_time  \\\n",
       "0          0  -2.008753  ...             2   18000    4           1   \n",
       "1          0  -1.532276  ...             3   19000    4           1   \n",
       "2          0  -1.408142  ...             2   30000    1           4   \n",
       "3          0  -2.057471  ...             3   10000    1           3   \n",
       "4          1  -1.244723  ...             3   30000    1           4   \n",
       "\n",
       "   foreign_passport  default  month  income_log  decline_app_cnt_log  \\\n",
       "0                 0        0      2    9.798183             0.000000   \n",
       "1                 0        0      3    9.852247             0.000000   \n",
       "2                 1        0      2   10.308986             1.098612   \n",
       "3                 0        0      1    9.210440             0.000000   \n",
       "4                 1        0      4   10.308986             0.000000   \n",
       "\n",
       "   bki_request_cnt_log  \n",
       "0             0.693147  \n",
       "1             1.386294  \n",
       "2             0.693147  \n",
       "3             1.098612  \n",
       "4             0.693147  \n",
       "\n",
       "[5 rows x 23 columns]"
      ]
     },
     "execution_count": 35,
     "metadata": {},
     "output_type": "execute_result"
    }
   ],
   "source": [
    "# Для бинарных признаков мы будем использовать LabelEncoder\n",
    "\n",
    "label_encoder = LabelEncoder()\n",
    "\n",
    "for column in bin_cols:\n",
    "    train[column] = label_encoder.fit_transform(train[column])\n",
    "    test[column] = label_encoder.fit_transform(test[column])\n",
    "    \n",
    "# убедимся в преобразовании    \n",
    "train.head()# Для бинарных признаков мы будем использовать LabelEncoder"
   ]
  },
  {
   "cell_type": "code",
   "execution_count": 36,
   "metadata": {
    "execution": {
     "iopub.execute_input": "2021-02-28T15:46:28.090966Z",
     "iopub.status.busy": "2021-02-28T15:46:28.077360Z",
     "iopub.status.idle": "2021-02-28T15:46:28.101901Z",
     "shell.execute_reply": "2021-02-28T15:46:28.102547Z"
    },
    "papermill": {
     "duration": 0.102847,
     "end_time": "2021-02-28T15:46:28.102729",
     "exception": false,
     "start_time": "2021-02-28T15:46:27.999882",
     "status": "completed"
    },
    "tags": []
   },
   "outputs": [],
   "source": [
    "obrazovanie = {'SCH':0, 'GRD':1, 'UGR':2, 'PGR':3, 'ACD':4} # преобразуем категориальные значения в числа\n",
    "train['education'] = train['education'].map(obrazovanie)\n",
    "test['education'] = test['education'].map(obrazovanie)"
   ]
  },
  {
   "cell_type": "markdown",
   "metadata": {
    "papermill": {
     "duration": 0.066422,
     "end_time": "2021-02-28T15:46:28.236233",
     "exception": false,
     "start_time": "2021-02-28T15:46:28.169811",
     "status": "completed"
    },
    "tags": []
   },
   "source": [
    "### Оценим значимость категориальных и бинарных признаков"
   ]
  },
  {
   "cell_type": "code",
   "execution_count": 37,
   "metadata": {
    "execution": {
     "iopub.execute_input": "2021-02-28T15:46:28.376626Z",
     "iopub.status.busy": "2021-02-28T15:46:28.375926Z",
     "iopub.status.idle": "2021-02-28T15:46:28.813765Z",
     "shell.execute_reply": "2021-02-28T15:46:28.814560Z"
    },
    "papermill": {
     "duration": 0.511672,
     "end_time": "2021-02-28T15:46:28.814742",
     "exception": false,
     "start_time": "2021-02-28T15:46:28.303070",
     "status": "completed"
    },
    "tags": []
   },
   "outputs": [
    {
     "data": {
      "text/plain": [
       "<matplotlib.axes._subplots.AxesSubplot at 0xc5b4820>"
      ]
     },
     "execution_count": 37,
     "metadata": {},
     "output_type": "execute_result"
    },
    {
     "data": {
      "image/png": "[encoded data removed]",
      "text/plain": [
       "<Figure size 432x288 with 1 Axes>"
      ]
     },
     "metadata": {
      "needs_background": "light"
     },
     "output_type": "display_data"
    }
   ],
   "source": [
    "imp_cat = Series(mutual_info_classif(train[bin_cols + cat_cols], train['default'],\n",
    "                                     discrete_features =True), index = bin_cols + cat_cols)\n",
    "imp_cat.sort_values(inplace = True)\n",
    "imp_cat.plot(kind = 'barh')"
   ]
  },
  {
   "cell_type": "markdown",
   "metadata": {
    "papermill": {
     "duration": 0.069767,
     "end_time": "2021-02-28T15:46:28.953231",
     "exception": false,
     "start_time": "2021-02-28T15:46:28.883464",
     "status": "completed"
    },
    "tags": []
   },
   "source": [
    "### Преобразуем категориальные переменные "
   ]
  },
  {
   "cell_type": "code",
   "execution_count": 38,
   "metadata": {
    "execution": {
     "iopub.execute_input": "2021-02-28T15:46:29.097123Z",
     "iopub.status.busy": "2021-02-28T15:46:29.096427Z",
     "iopub.status.idle": "2021-02-28T15:46:29.219530Z",
     "shell.execute_reply": "2021-02-28T15:46:29.218901Z"
    },
    "papermill": {
     "duration": 0.197919,
     "end_time": "2021-02-28T15:46:29.219682",
     "exception": false,
     "start_time": "2021-02-28T15:46:29.021763",
     "status": "completed"
    },
    "tags": []
   },
   "outputs": [],
   "source": [
    "X_cat = OneHotEncoder(sparse = False).fit_transform(train[cat_cols].values)\n",
    "X_cat.shape\n",
    "X_cat_test = OneHotEncoder(sparse = False).fit_transform(test[cat_cols].values)"
   ]
  },
  {
   "cell_type": "code",
   "execution_count": 39,
   "metadata": {
    "execution": {
     "iopub.execute_input": "2021-02-28T15:46:29.359745Z",
     "iopub.status.busy": "2021-02-28T15:46:29.358737Z",
     "iopub.status.idle": "2021-02-28T15:46:29.391495Z",
     "shell.execute_reply": "2021-02-28T15:46:29.391978Z"
    },
    "papermill": {
     "duration": 0.104743,
     "end_time": "2021-02-28T15:46:29.392170",
     "exception": false,
     "start_time": "2021-02-28T15:46:29.287427",
     "status": "completed"
    },
    "tags": []
   },
   "outputs": [],
   "source": [
    "X_num = StandardScaler().fit_transform(train[num_cols].values)\n",
    "X_num_test = StandardScaler().fit_transform(test[num_cols].values)"
   ]
  },
  {
   "cell_type": "code",
   "execution_count": 40,
   "metadata": {
    "execution": {
     "iopub.execute_input": "2021-02-28T15:46:29.531154Z",
     "iopub.status.busy": "2021-02-28T15:46:29.530468Z",
     "iopub.status.idle": "2021-02-28T15:46:29.570253Z",
     "shell.execute_reply": "2021-02-28T15:46:29.570870Z"
    },
    "papermill": {
     "duration": 0.111222,
     "end_time": "2021-02-28T15:46:29.571050",
     "exception": false,
     "start_time": "2021-02-28T15:46:29.459828",
     "status": "completed"
    },
    "tags": []
   },
   "outputs": [],
   "source": [
    "# Объединяем\n",
    "\n",
    "X = np.hstack([X_num, train[bin_cols].values, X_cat])\n",
    "X_test = np.hstack([X_num_test, test[bin_cols].values, X_cat_test])\n",
    "Y = train['default'].values"
   ]
  },
  {
   "cell_type": "markdown",
   "metadata": {
    "papermill": {
     "duration": 0.068034,
     "end_time": "2021-02-28T15:46:29.707612",
     "exception": false,
     "start_time": "2021-02-28T15:46:29.639578",
     "status": "completed"
    },
    "tags": []
   },
   "source": [
    "## Модель"
   ]
  },
  {
   "cell_type": "code",
   "execution_count": 41,
   "metadata": {
    "execution": {
     "iopub.execute_input": "2021-02-28T15:46:29.846429Z",
     "iopub.status.busy": "2021-02-28T15:46:29.845754Z",
     "iopub.status.idle": "2021-02-28T15:46:29.879369Z",
     "shell.execute_reply": "2021-02-28T15:46:29.879910Z"
    },
    "papermill": {
     "duration": 0.104831,
     "end_time": "2021-02-28T15:46:29.880093",
     "exception": false,
     "start_time": "2021-02-28T15:46:29.775262",
     "status": "completed"
    },
    "tags": []
   },
   "outputs": [],
   "source": [
    "# Разделим тренировочные данные на обучающую и валидационную выборку\n",
    "X_train, X_valid, y_train, y_valid = train_test_split(X, Y, test_size=0.20, random_state=42, shuffle=True)"
   ]
  },
  {
   "cell_type": "markdown",
   "metadata": {
    "papermill": {
     "duration": 0.068616,
     "end_time": "2021-02-28T15:46:30.017220",
     "exception": false,
     "start_time": "2021-02-28T15:46:29.948604",
     "status": "completed"
    },
    "tags": []
   },
   "source": [
    "### Регуляризация"
   ]
  },
  {
   "cell_type": "code",
   "execution_count": 42,
   "metadata": {
    "execution": {
     "iopub.execute_input": "2021-02-28T15:46:30.157881Z",
     "iopub.status.busy": "2021-02-28T15:46:30.157189Z",
     "iopub.status.idle": "2021-02-28T15:47:15.876261Z",
     "shell.execute_reply": "2021-02-28T15:47:15.875651Z"
    },
    "papermill": {
     "duration": 45.790346,
     "end_time": "2021-02-28T15:47:15.876436",
     "exception": false,
     "start_time": "2021-02-28T15:46:30.086090",
     "status": "completed"
    },
    "tags": []
   },
   "outputs": [
    {
     "name": "stderr",
     "output_type": "stream",
     "text": [
      "C:\\Users\\Aydar\\anaconda3\\lib\\site-packages\\sklearn\\model_selection\\_validation.py:548: FitFailedWarning: Estimator fit failed. The score on this train-test partition for these parameters will be set to nan. Details: \n",
      "Traceback (most recent call last):\n",
      "  File \"C:\\Users\\Aydar\\anaconda3\\lib\\site-packages\\sklearn\\model_selection\\_validation.py\", line 531, in _fit_and_score\n",
      "    estimator.fit(X_train, y_train, **fit_params)\n",
      "  File \"C:\\Users\\Aydar\\anaconda3\\lib\\site-packages\\sklearn\\linear_model\\_logistic.py\", line 1304, in fit\n",
      "    solver = _check_solver(self.solver, self.penalty, self.dual)\n",
      "  File \"C:\\Users\\Aydar\\anaconda3\\lib\\site-packages\\sklearn\\linear_model\\_logistic.py\", line 442, in _check_solver\n",
      "    raise ValueError(\"Solver %s supports only 'l2' or 'none' penalties, \"\n",
      "ValueError: Solver lbfgs supports only 'l2' or 'none' penalties, got l1 penalty.\n",
      "\n",
      "  warnings.warn(\"Estimator fit failed. The score on this train-test\"\n",
      "C:\\Users\\Aydar\\anaconda3\\lib\\site-packages\\sklearn\\model_selection\\_validation.py:548: FitFailedWarning: Estimator fit failed. The score on this train-test partition for these parameters will be set to nan. Details: \n",
      "Traceback (most recent call last):\n",
      "  File \"C:\\Users\\Aydar\\anaconda3\\lib\\site-packages\\sklearn\\model_selection\\_validation.py\", line 531, in _fit_and_score\n",
      "    estimator.fit(X_train, y_train, **fit_params)\n",
      "  File \"C:\\Users\\Aydar\\anaconda3\\lib\\site-packages\\sklearn\\linear_model\\_logistic.py\", line 1304, in fit\n",
      "    solver = _check_solver(self.solver, self.penalty, self.dual)\n",
      "  File \"C:\\Users\\Aydar\\anaconda3\\lib\\site-packages\\sklearn\\linear_model\\_logistic.py\", line 442, in _check_solver\n",
      "    raise ValueError(\"Solver %s supports only 'l2' or 'none' penalties, \"\n",
      "ValueError: Solver lbfgs supports only 'l2' or 'none' penalties, got l1 penalty.\n",
      "\n",
      "  warnings.warn(\"Estimator fit failed. The score on this train-test\"\n",
      "C:\\Users\\Aydar\\anaconda3\\lib\\site-packages\\sklearn\\model_selection\\_validation.py:548: FitFailedWarning: Estimator fit failed. The score on this train-test partition for these parameters will be set to nan. Details: \n",
      "Traceback (most recent call last):\n",
      "  File \"C:\\Users\\Aydar\\anaconda3\\lib\\site-packages\\sklearn\\model_selection\\_validation.py\", line 531, in _fit_and_score\n",
      "    estimator.fit(X_train, y_train, **fit_params)\n",
      "  File \"C:\\Users\\Aydar\\anaconda3\\lib\\site-packages\\sklearn\\linear_model\\_logistic.py\", line 1304, in fit\n",
      "    solver = _check_solver(self.solver, self.penalty, self.dual)\n",
      "  File \"C:\\Users\\Aydar\\anaconda3\\lib\\site-packages\\sklearn\\linear_model\\_logistic.py\", line 442, in _check_solver\n",
      "    raise ValueError(\"Solver %s supports only 'l2' or 'none' penalties, \"\n",
      "ValueError: Solver lbfgs supports only 'l2' or 'none' penalties, got l1 penalty.\n",
      "\n",
      "  warnings.warn(\"Estimator fit failed. The score on this train-test\"\n",
      "C:\\Users\\Aydar\\anaconda3\\lib\\site-packages\\sklearn\\model_selection\\_validation.py:548: FitFailedWarning: Estimator fit failed. The score on this train-test partition for these parameters will be set to nan. Details: \n",
      "Traceback (most recent call last):\n",
      "  File \"C:\\Users\\Aydar\\anaconda3\\lib\\site-packages\\sklearn\\model_selection\\_validation.py\", line 531, in _fit_and_score\n",
      "    estimator.fit(X_train, y_train, **fit_params)\n",
      "  File \"C:\\Users\\Aydar\\anaconda3\\lib\\site-packages\\sklearn\\linear_model\\_logistic.py\", line 1304, in fit\n",
      "    solver = _check_solver(self.solver, self.penalty, self.dual)\n",
      "  File \"C:\\Users\\Aydar\\anaconda3\\lib\\site-packages\\sklearn\\linear_model\\_logistic.py\", line 442, in _check_solver\n",
      "    raise ValueError(\"Solver %s supports only 'l2' or 'none' penalties, \"\n",
      "ValueError: Solver lbfgs supports only 'l2' or 'none' penalties, got l1 penalty.\n",
      "\n",
      "  warnings.warn(\"Estimator fit failed. The score on this train-test\"\n",
      "C:\\Users\\Aydar\\anaconda3\\lib\\site-packages\\sklearn\\model_selection\\_validation.py:548: FitFailedWarning: Estimator fit failed. The score on this train-test partition for these parameters will be set to nan. Details: \n",
      "Traceback (most recent call last):\n",
      "  File \"C:\\Users\\Aydar\\anaconda3\\lib\\site-packages\\sklearn\\model_selection\\_validation.py\", line 531, in _fit_and_score\n",
      "    estimator.fit(X_train, y_train, **fit_params)\n",
      "  File \"C:\\Users\\Aydar\\anaconda3\\lib\\site-packages\\sklearn\\linear_model\\_logistic.py\", line 1304, in fit\n",
      "    solver = _check_solver(self.solver, self.penalty, self.dual)\n",
      "  File \"C:\\Users\\Aydar\\anaconda3\\lib\\site-packages\\sklearn\\linear_model\\_logistic.py\", line 442, in _check_solver\n",
      "    raise ValueError(\"Solver %s supports only 'l2' or 'none' penalties, \"\n",
      "ValueError: Solver lbfgs supports only 'l2' or 'none' penalties, got l1 penalty.\n",
      "\n",
      "  warnings.warn(\"Estimator fit failed. The score on this train-test\"\n",
      "C:\\Users\\Aydar\\anaconda3\\lib\\site-packages\\sklearn\\model_selection\\_validation.py:548: FitFailedWarning: Estimator fit failed. The score on this train-test partition for these parameters will be set to nan. Details: \n",
      "Traceback (most recent call last):\n",
      "  File \"C:\\Users\\Aydar\\anaconda3\\lib\\site-packages\\sklearn\\model_selection\\_validation.py\", line 531, in _fit_and_score\n",
      "    estimator.fit(X_train, y_train, **fit_params)\n",
      "  File \"C:\\Users\\Aydar\\anaconda3\\lib\\site-packages\\sklearn\\linear_model\\_logistic.py\", line 1304, in fit\n",
      "    solver = _check_solver(self.solver, self.penalty, self.dual)\n",
      "  File \"C:\\Users\\Aydar\\anaconda3\\lib\\site-packages\\sklearn\\linear_model\\_logistic.py\", line 442, in _check_solver\n",
      "    raise ValueError(\"Solver %s supports only 'l2' or 'none' penalties, \"\n",
      "ValueError: Solver lbfgs supports only 'l2' or 'none' penalties, got l1 penalty.\n",
      "\n",
      "  warnings.warn(\"Estimator fit failed. The score on this train-test\"\n",
      "C:\\Users\\Aydar\\anaconda3\\lib\\site-packages\\sklearn\\model_selection\\_validation.py:548: FitFailedWarning: Estimator fit failed. The score on this train-test partition for these parameters will be set to nan. Details: \n",
      "Traceback (most recent call last):\n",
      "  File \"C:\\Users\\Aydar\\anaconda3\\lib\\site-packages\\sklearn\\model_selection\\_validation.py\", line 531, in _fit_and_score\n",
      "    estimator.fit(X_train, y_train, **fit_params)\n",
      "  File \"C:\\Users\\Aydar\\anaconda3\\lib\\site-packages\\sklearn\\linear_model\\_logistic.py\", line 1304, in fit\n",
      "    solver = _check_solver(self.solver, self.penalty, self.dual)\n",
      "  File \"C:\\Users\\Aydar\\anaconda3\\lib\\site-packages\\sklearn\\linear_model\\_logistic.py\", line 442, in _check_solver\n",
      "    raise ValueError(\"Solver %s supports only 'l2' or 'none' penalties, \"\n",
      "ValueError: Solver lbfgs supports only 'l2' or 'none' penalties, got l1 penalty.\n",
      "\n",
      "  warnings.warn(\"Estimator fit failed. The score on this train-test\"\n",
      "C:\\Users\\Aydar\\anaconda3\\lib\\site-packages\\sklearn\\model_selection\\_validation.py:548: FitFailedWarning: Estimator fit failed. The score on this train-test partition for these parameters will be set to nan. Details: \n",
      "Traceback (most recent call last):\n",
      "  File \"C:\\Users\\Aydar\\anaconda3\\lib\\site-packages\\sklearn\\model_selection\\_validation.py\", line 531, in _fit_and_score\n",
      "    estimator.fit(X_train, y_train, **fit_params)\n",
      "  File \"C:\\Users\\Aydar\\anaconda3\\lib\\site-packages\\sklearn\\linear_model\\_logistic.py\", line 1304, in fit\n",
      "    solver = _check_solver(self.solver, self.penalty, self.dual)\n",
      "  File \"C:\\Users\\Aydar\\anaconda3\\lib\\site-packages\\sklearn\\linear_model\\_logistic.py\", line 442, in _check_solver\n",
      "    raise ValueError(\"Solver %s supports only 'l2' or 'none' penalties, \"\n",
      "ValueError: Solver lbfgs supports only 'l2' or 'none' penalties, got l1 penalty.\n",
      "\n",
      "  warnings.warn(\"Estimator fit failed. The score on this train-test\"\n",
      "C:\\Users\\Aydar\\anaconda3\\lib\\site-packages\\sklearn\\model_selection\\_validation.py:548: FitFailedWarning: Estimator fit failed. The score on this train-test partition for these parameters will be set to nan. Details: \n",
      "Traceback (most recent call last):\n",
      "  File \"C:\\Users\\Aydar\\anaconda3\\lib\\site-packages\\sklearn\\model_selection\\_validation.py\", line 531, in _fit_and_score\n",
      "    estimator.fit(X_train, y_train, **fit_params)\n",
      "  File \"C:\\Users\\Aydar\\anaconda3\\lib\\site-packages\\sklearn\\linear_model\\_logistic.py\", line 1304, in fit\n",
      "    solver = _check_solver(self.solver, self.penalty, self.dual)\n",
      "  File \"C:\\Users\\Aydar\\anaconda3\\lib\\site-packages\\sklearn\\linear_model\\_logistic.py\", line 442, in _check_solver\n",
      "    raise ValueError(\"Solver %s supports only 'l2' or 'none' penalties, \"\n",
      "ValueError: Solver lbfgs supports only 'l2' or 'none' penalties, got l1 penalty.\n",
      "\n",
      "  warnings.warn(\"Estimator fit failed. The score on this train-test\"\n"
     ]
    },
    {
     "name": "stderr",
     "output_type": "stream",
     "text": [
      "C:\\Users\\Aydar\\anaconda3\\lib\\site-packages\\sklearn\\model_selection\\_validation.py:548: FitFailedWarning: Estimator fit failed. The score on this train-test partition for these parameters will be set to nan. Details: \n",
      "Traceback (most recent call last):\n",
      "  File \"C:\\Users\\Aydar\\anaconda3\\lib\\site-packages\\sklearn\\model_selection\\_validation.py\", line 531, in _fit_and_score\n",
      "    estimator.fit(X_train, y_train, **fit_params)\n",
      "  File \"C:\\Users\\Aydar\\anaconda3\\lib\\site-packages\\sklearn\\linear_model\\_logistic.py\", line 1304, in fit\n",
      "    solver = _check_solver(self.solver, self.penalty, self.dual)\n",
      "  File \"C:\\Users\\Aydar\\anaconda3\\lib\\site-packages\\sklearn\\linear_model\\_logistic.py\", line 442, in _check_solver\n",
      "    raise ValueError(\"Solver %s supports only 'l2' or 'none' penalties, \"\n",
      "ValueError: Solver lbfgs supports only 'l2' or 'none' penalties, got l1 penalty.\n",
      "\n",
      "  warnings.warn(\"Estimator fit failed. The score on this train-test\"\n"
     ]
    },
    {
     "name": "stdout",
     "output_type": "stream",
     "text": [
      "Лучшее Penalty: l2\n",
      "Лучшее C: 3593.813663804626\n"
     ]
    }
   ],
   "source": [
    "from sklearn.model_selection import GridSearchCV\n",
    "\n",
    "# Добавим типы регуляризации\n",
    "penalty = ['l1', 'l2']\n",
    "\n",
    "# Зададим ограничения для параметра регуляризации\n",
    "C = np.logspace(0, 4, 10)\n",
    "\n",
    "# Создадим гиперпараметры\n",
    "hyperparameters = dict(C=C, penalty=penalty)\n",
    "\n",
    "model = LogisticRegression()\n",
    "model.fit(X_train, y_train)\n",
    "\n",
    "# Создаем сетку поиска с использованием 5-кратной перекрестной проверки\n",
    "clf = GridSearchCV(model, hyperparameters, cv=5, verbose=0)\n",
    "\n",
    "best_model = clf.fit(X_train, y_train)\n",
    "\n",
    "# View best hyperparameters\n",
    "print('Лучшее Penalty:', best_model.best_estimator_.get_params()['penalty'])\n",
    "print('Лучшее C:', best_model.best_estimator_.get_params()['C'])"
   ]
  },
  {
   "cell_type": "markdown",
   "metadata": {
    "papermill": {
     "duration": 0.07332,
     "end_time": "2021-02-28T15:47:16.023124",
     "exception": false,
     "start_time": "2021-02-28T15:47:15.949804",
     "status": "completed"
    },
    "tags": []
   },
   "source": [
    "У  меня получилось, что регуляризация ни на что не повлияла"
   ]
  },
  {
   "cell_type": "code",
   "execution_count": 43,
   "metadata": {
    "execution": {
     "iopub.execute_input": "2021-02-28T15:47:16.175520Z",
     "iopub.status.busy": "2021-02-28T15:47:16.174793Z",
     "iopub.status.idle": "2021-02-28T15:47:16.177062Z",
     "shell.execute_reply": "2021-02-28T15:47:16.177674Z"
    },
    "papermill": {
     "duration": 0.080683,
     "end_time": "2021-02-28T15:47:16.177877",
     "exception": false,
     "start_time": "2021-02-28T15:47:16.097194",
     "status": "completed"
    },
    "tags": []
   },
   "outputs": [],
   "source": [
    "model = LogisticRegression(penalty = 'l2', C = 1)"
   ]
  },
  {
   "cell_type": "code",
   "execution_count": 44,
   "metadata": {
    "execution": {
     "iopub.execute_input": "2021-02-28T15:47:16.327697Z",
     "iopub.status.busy": "2021-02-28T15:47:16.327069Z",
     "iopub.status.idle": "2021-02-28T15:47:17.312474Z",
     "shell.execute_reply": "2021-02-28T15:47:17.311851Z"
    },
    "papermill": {
     "duration": 1.061903,
     "end_time": "2021-02-28T15:47:17.312614",
     "exception": false,
     "start_time": "2021-02-28T15:47:16.250711",
     "status": "completed"
    },
    "tags": []
   },
   "outputs": [
    {
     "data": {
      "text/plain": [
       "LogisticRegression(C=1)"
      ]
     },
     "execution_count": 44,
     "metadata": {},
     "output_type": "execute_result"
    }
   ],
   "source": [
    "# Обучение модели\n",
    "model.fit(X_train, y_train)"
   ]
  },
  {
   "cell_type": "code",
   "execution_count": 45,
   "metadata": {
    "execution": {
     "iopub.execute_input": "2021-02-28T15:47:17.464347Z",
     "iopub.status.busy": "2021-02-28T15:47:17.463624Z",
     "iopub.status.idle": "2021-02-28T15:47:17.468695Z",
     "shell.execute_reply": "2021-02-28T15:47:17.468016Z"
    },
    "papermill": {
     "duration": 0.082796,
     "end_time": "2021-02-28T15:47:17.468853",
     "exception": false,
     "start_time": "2021-02-28T15:47:17.386057",
     "status": "completed"
    },
    "tags": []
   },
   "outputs": [],
   "source": [
    "# Предсказание модели\n",
    "y_pred = model.predict(X_valid)"
   ]
  },
  {
   "cell_type": "markdown",
   "metadata": {
    "papermill": {
     "duration": 0.075834,
     "end_time": "2021-02-28T15:47:17.619010",
     "exception": false,
     "start_time": "2021-02-28T15:47:17.543176",
     "status": "completed"
    },
    "tags": []
   },
   "source": [
    "## Метрики"
   ]
  },
  {
   "cell_type": "code",
   "execution_count": 46,
   "metadata": {
    "execution": {
     "iopub.execute_input": "2021-02-28T15:47:17.773966Z",
     "iopub.status.busy": "2021-02-28T15:47:17.772864Z",
     "iopub.status.idle": "2021-02-28T15:47:17.968150Z",
     "shell.execute_reply": "2021-02-28T15:47:17.967601Z"
    },
    "papermill": {
     "duration": 0.275913,
     "end_time": "2021-02-28T15:47:17.968327",
     "exception": false,
     "start_time": "2021-02-28T15:47:17.692414",
     "status": "completed"
    },
    "tags": []
   },
   "outputs": [
    {
     "data": {
      "image/png": "[encoded data removed]",
      "text/plain": [
       "<Figure size 432x288 with 1 Axes>"
      ]
     },
     "metadata": {
      "needs_background": "light"
     },
     "output_type": "display_data"
    }
   ],
   "source": [
    "probs = model.predict_proba(X_valid)\n",
    "probs = probs[:,1]\n",
    "\n",
    "\n",
    "fpr, tpr, threshold = roc_curve(y_valid, probs)\n",
    "roc_auc = roc_auc_score(y_valid, probs)\n",
    "\n",
    "plt.figure()\n",
    "plt.plot([0, 1], label='Baseline', linestyle='--')\n",
    "plt.plot(fpr, tpr, label = 'Regression')\n",
    "plt.title('Logistic Regression ROC AUC = %0.3f' % roc_auc)\n",
    "plt.ylabel('True Positive Rate')\n",
    "plt.xlabel('False Positive Rate')\n",
    "plt.legend(loc = 'lower right')\n",
    "plt.show()"
   ]
  },
  {
   "cell_type": "code",
   "execution_count": 47,
   "metadata": {
    "execution": {
     "iopub.execute_input": "2021-02-28T15:47:18.125714Z",
     "iopub.status.busy": "2021-02-28T15:47:18.124597Z",
     "iopub.status.idle": "2021-02-28T15:47:18.168373Z",
     "shell.execute_reply": "2021-02-28T15:47:18.167810Z"
    },
    "papermill": {
     "duration": 0.124516,
     "end_time": "2021-02-28T15:47:18.168523",
     "exception": false,
     "start_time": "2021-02-28T15:47:18.044007",
     "status": "completed"
    },
    "tags": []
   },
   "outputs": [
    {
     "data": {
      "text/plain": [
       "array([[8623, 4362],\n",
       "       [4127, 8895]], dtype=int64)"
      ]
     },
     "execution_count": 47,
     "metadata": {},
     "output_type": "execute_result"
    }
   ],
   "source": [
    "#Confusion matrix\n",
    "confusion_matrix(y_valid, y_pred )"
   ]
  },
  {
   "cell_type": "code",
   "execution_count": 48,
   "metadata": {
    "execution": {
     "iopub.execute_input": "2021-02-28T15:47:18.324744Z",
     "iopub.status.busy": "2021-02-28T15:47:18.323942Z",
     "iopub.status.idle": "2021-02-28T15:47:18.340814Z",
     "shell.execute_reply": "2021-02-28T15:47:18.341278Z"
    },
    "papermill": {
     "duration": 0.09743,
     "end_time": "2021-02-28T15:47:18.341471",
     "exception": false,
     "start_time": "2021-02-28T15:47:18.244041",
     "status": "completed"
    },
    "tags": []
   },
   "outputs": [
    {
     "name": "stdout",
     "output_type": "stream",
     "text": [
      "0.6769663990258381\n"
     ]
    }
   ],
   "source": [
    "acc = accuracy_score(y_valid, y_pred)\n",
    "f1 = f1_score(y_valid, y_pred)\n",
    "# f1_score\n",
    "print(f1)"
   ]
  },
  {
   "cell_type": "code",
   "execution_count": 49,
   "metadata": {
    "execution": {
     "iopub.execute_input": "2021-02-28T15:47:18.496704Z",
     "iopub.status.busy": "2021-02-28T15:47:18.495706Z",
     "iopub.status.idle": "2021-02-28T15:47:18.500625Z",
     "shell.execute_reply": "2021-02-28T15:47:18.501072Z"
    },
    "papermill": {
     "duration": 0.083794,
     "end_time": "2021-02-28T15:47:18.501244",
     "exception": false,
     "start_time": "2021-02-28T15:47:18.417450",
     "status": "completed"
    },
    "tags": []
   },
   "outputs": [
    {
     "name": "stdout",
     "output_type": "stream",
     "text": [
      "0.6735878801861037\n"
     ]
    }
   ],
   "source": [
    "# Точность\n",
    "print(acc)"
   ]
  },
  {
   "cell_type": "markdown",
   "metadata": {
    "papermill": {
     "duration": 0.076528,
     "end_time": "2021-02-28T15:47:18.653941",
     "exception": false,
     "start_time": "2021-02-28T15:47:18.577413",
     "status": "completed"
    },
    "tags": []
   },
   "source": [
    "## Сохранение результатов"
   ]
  },
  {
   "cell_type": "code",
   "execution_count": 50,
   "metadata": {
    "execution": {
     "iopub.execute_input": "2021-02-28T15:47:18.811807Z",
     "iopub.status.busy": "2021-02-28T15:47:18.811113Z",
     "iopub.status.idle": "2021-02-28T15:47:18.814279Z",
     "shell.execute_reply": "2021-02-28T15:47:18.813752Z"
    },
    "papermill": {
     "duration": 0.084537,
     "end_time": "2021-02-28T15:47:18.814439",
     "exception": false,
     "start_time": "2021-02-28T15:47:18.729902",
     "status": "completed"
    },
    "tags": []
   },
   "outputs": [],
   "source": [
    "id_test = test['client_id']"
   ]
  },
  {
   "cell_type": "code",
   "execution_count": 51,
   "metadata": {
    "execution": {
     "iopub.execute_input": "2021-02-28T15:47:18.970352Z",
     "iopub.status.busy": "2021-02-28T15:47:18.969711Z",
     "iopub.status.idle": "2021-02-28T15:47:20.249666Z",
     "shell.execute_reply": "2021-02-28T15:47:20.250184Z"
    },
    "papermill": {
     "duration": 1.359389,
     "end_time": "2021-02-28T15:47:20.250404",
     "exception": false,
     "start_time": "2021-02-28T15:47:18.891015",
     "status": "completed"
    },
    "tags": []
   },
   "outputs": [],
   "source": [
    "model = LogisticRegression(penalty='l2', C=1)\n",
    "model.fit(X, Y) # Обучаем модель на всем тренировочном датасете\n",
    "probs = model.predict_proba(X_test)\n",
    "probs = probs[:, 1]"
   ]
  },
  {
   "cell_type": "code",
   "execution_count": 52,
   "metadata": {
    "execution": {
     "iopub.execute_input": "2021-02-28T15:47:20.407732Z",
     "iopub.status.busy": "2021-02-28T15:47:20.407099Z",
     "iopub.status.idle": "2021-02-28T15:47:20.558321Z",
     "shell.execute_reply": "2021-02-28T15:47:20.558853Z"
    },
    "papermill": {
     "duration": 0.231557,
     "end_time": "2021-02-28T15:47:20.559026",
     "exception": false,
     "start_time": "2021-02-28T15:47:20.327469",
     "status": "completed"
    },
    "tags": []
   },
   "outputs": [
    {
     "data": {
      "text/html": [
       "<div>\n",
       "<style scoped>\n",
       "    .dataframe tbody tr th:only-of-type {\n",
       "        vertical-align: middle;\n",
       "    }\n",
       "\n",
       "    .dataframe tbody tr th {\n",
       "        vertical-align: top;\n",
       "    }\n",
       "\n",
       "    .dataframe thead th {\n",
       "        text-align: right;\n",
       "    }\n",
       "</style>\n",
       "<table border=\"1\" class=\"dataframe\">\n",
       "  <thead>\n",
       "    <tr style=\"text-align: right;\">\n",
       "      <th></th>\n",
       "      <th>client_id</th>\n",
       "      <th>default</th>\n",
       "    </tr>\n",
       "  </thead>\n",
       "  <tbody>\n",
       "    <tr>\n",
       "      <th>0</th>\n",
       "      <td>74835</td>\n",
       "      <td>0.253800</td>\n",
       "    </tr>\n",
       "    <tr>\n",
       "      <th>1</th>\n",
       "      <td>17527</td>\n",
       "      <td>0.838854</td>\n",
       "    </tr>\n",
       "    <tr>\n",
       "      <th>2</th>\n",
       "      <td>75683</td>\n",
       "      <td>0.368935</td>\n",
       "    </tr>\n",
       "    <tr>\n",
       "      <th>3</th>\n",
       "      <td>26883</td>\n",
       "      <td>0.450809</td>\n",
       "    </tr>\n",
       "    <tr>\n",
       "      <th>4</th>\n",
       "      <td>28862</td>\n",
       "      <td>0.174723</td>\n",
       "    </tr>\n",
       "    <tr>\n",
       "      <th>5</th>\n",
       "      <td>99881</td>\n",
       "      <td>0.606235</td>\n",
       "    </tr>\n",
       "    <tr>\n",
       "      <th>6</th>\n",
       "      <td>26630</td>\n",
       "      <td>0.824063</td>\n",
       "    </tr>\n",
       "    <tr>\n",
       "      <th>7</th>\n",
       "      <td>79934</td>\n",
       "      <td>0.208100</td>\n",
       "    </tr>\n",
       "    <tr>\n",
       "      <th>8</th>\n",
       "      <td>16605</td>\n",
       "      <td>0.167625</td>\n",
       "    </tr>\n",
       "    <tr>\n",
       "      <th>9</th>\n",
       "      <td>105449</td>\n",
       "      <td>0.169597</td>\n",
       "    </tr>\n",
       "  </tbody>\n",
       "</table>\n",
       "</div>"
      ],
      "text/plain": [
       "   client_id   default\n",
       "0      74835  0.253800\n",
       "1      17527  0.838854\n",
       "2      75683  0.368935\n",
       "3      26883  0.450809\n",
       "4      28862  0.174723\n",
       "5      99881  0.606235\n",
       "6      26630  0.824063\n",
       "7      79934  0.208100\n",
       "8      16605  0.167625\n",
       "9     105449  0.169597"
      ]
     },
     "execution_count": 52,
     "metadata": {},
     "output_type": "execute_result"
    }
   ],
   "source": [
    "my_submission = pd.DataFrame({'client_id': id_test,\n",
    "                              'default': probs})\n",
    "my_submission.to_csv('submission.csv', index=False)\n",
    "\n",
    "my_submission.head(10)"
   ]
  },
  {
   "cell_type": "markdown",
   "metadata": {
    "papermill": {
     "duration": 0.077343,
     "end_time": "2021-02-28T15:47:20.714509",
     "exception": false,
     "start_time": "2021-02-28T15:47:20.637166",
     "status": "completed"
    },
    "tags": []
   },
   "source": [
    "## Итог"
   ]
  },
  {
   "cell_type": "markdown",
   "metadata": {
    "papermill": {
     "duration": 0.077448,
     "end_time": "2021-02-28T15:47:20.868940",
     "exception": false,
     "start_time": "2021-02-28T15:47:20.791492",
     "status": "completed"
    },
    "tags": []
   },
   "source": [
    "Значения метрик получились нормальные, \n",
    "Новые признаки, которые я пробовал не дают улучшения модели, удаление выбросов тоже: либо все остается как есть, либо становится немного хуже.\n",
    "Сделать чисто математический признак не получилось, он часто получается сильно скоррелирован с уже имеющимися, а если нет, то эффекта его сипользование не дает."
   ]
  },
  {
   "cell_type": "code",
   "execution_count": null,
   "metadata": {
    "papermill": {
     "duration": 0.079104,
     "end_time": "2021-02-28T15:47:21.025575",
     "exception": false,
     "start_time": "2021-02-28T15:47:20.946471",
     "status": "completed"
    },
    "tags": []
   },
   "outputs": [],
   "source": []
  }
 ],
 "metadata": {
  "kernelspec": {
   "display_name": "Python 3",
   "language": "python",
   "name": "python3"
  },
  "language_info": {
   "codemirror_mode": {
    "name": "ipython",
    "version": 3
   },
   "file_extension": ".py",
   "mimetype": "text/x-python",
   "name": "python",
   "nbconvert_exporter": "python",
   "pygments_lexer": "ipython3",
   "version": "3.8.3"
  },
  "papermill": {
   "default_parameters": {},
   "duration": 74.320444,
   "end_time": "2021-02-28T15:47:21.917171",
   "environment_variables": {},
   "exception": null,
   "input_path": "__notebook__.ipynb",
   "output_path": "__notebook__.ipynb",
   "parameters": {},
   "start_time": "2021-02-28T15:46:07.596727",
   "version": "2.2.2"
  }
 },
 "nbformat": 4,
 "nbformat_minor": 4
}
